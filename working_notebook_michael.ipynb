{
 "cells": [
  {
   "cell_type": "code",
   "execution_count": 1,
   "id": "53e444cc",
   "metadata": {},
   "outputs": [],
   "source": [
    "import pandas as pd\n",
    "import os\n",
    "import env\n",
    "import numpy as np\n",
    "import matplotlib.pyplot as plt\n",
    "import seaborn as sns\n",
    "import scipy.stats as stats\n",
    "from sklearn.cluster import KMeans\n",
    "from sklearn.preprocessing import MinMaxScaler, RobustScaler\n",
    "from sklearn.model_selection import train_test_split\n",
    "\n",
    "\n",
    "import wrangle as w\n",
    "import warnings\n",
    "warnings.filterwarnings('ignore')"
   ]
  },
  {
   "cell_type": "code",
   "execution_count": 2,
   "id": "748ad931",
   "metadata": {},
   "outputs": [],
   "source": [
    "df = w.wrangle_zillow()"
   ]
  },
  {
   "cell_type": "code",
   "execution_count": 3,
   "id": "603c967e",
   "metadata": {},
   "outputs": [
    {
     "name": "stdout",
     "output_type": "stream",
     "text": [
      "<class 'pandas.core.frame.DataFrame'>\n",
      "RangeIndex: 50677 entries, 0 to 50676\n",
      "Data columns (total 29 columns):\n",
      " #   Column                      Non-Null Count  Dtype  \n",
      "---  ------                      --------------  -----  \n",
      " 0   parcelid                    50677 non-null  int64  \n",
      " 1   logerror                    50677 non-null  float64\n",
      " 2   bathrooms                   50677 non-null  float64\n",
      " 3   bedrooms                    50677 non-null  float64\n",
      " 4   sq_feet                     50677 non-null  float64\n",
      " 5   fips                        50677 non-null  float64\n",
      " 6   latitude                    50677 non-null  float64\n",
      " 7   longitude                   50677 non-null  float64\n",
      " 8   lotsizesquarefeet           50677 non-null  float64\n",
      " 9   regionidcity                50677 non-null  float64\n",
      " 10  regionidcounty              50677 non-null  float64\n",
      " 11  regionidzip                 50677 non-null  float64\n",
      " 12  year_built                  50677 non-null  float64\n",
      " 13  structuretaxvaluedollarcnt  50677 non-null  float64\n",
      " 14  tax_value                   50677 non-null  float64\n",
      " 15  landtaxvaluedollarcnt       50677 non-null  float64\n",
      " 16  tax_amount                  50677 non-null  float64\n",
      " 17  age                         50677 non-null  float64\n",
      " 18  age_bin                     50677 non-null  float64\n",
      " 19  taxrate                     50677 non-null  float64\n",
      " 20  acres                       50677 non-null  float64\n",
      " 21  acres_bin                   50677 non-null  float64\n",
      " 22  sqft_bin                    50677 non-null  float64\n",
      " 23  structure_dollar_per_sqft   50677 non-null  float64\n",
      " 24  structure_dollar_sqft_bin   50677 non-null  float64\n",
      " 25  land_dollar_per_sqft        50677 non-null  float64\n",
      " 26  lot_dollar_sqft_bin         50677 non-null  float64\n",
      " 27  bath_bed_ratio              50677 non-null  float64\n",
      " 28  cola                        50677 non-null  int64  \n",
      "dtypes: float64(27), int64(2)\n",
      "memory usage: 11.2 MB\n"
     ]
    }
   ],
   "source": [
    "df.info()"
   ]
  },
  {
   "cell_type": "code",
   "execution_count": 4,
   "id": "933450a3",
   "metadata": {},
   "outputs": [],
   "source": [
    "train, validate, test = w.split_data(df)"
   ]
  },
  {
   "cell_type": "code",
   "execution_count": 5,
   "id": "fc2ef20d",
   "metadata": {
    "scrolled": true
   },
   "outputs": [],
   "source": [
    "#train.head(3)"
   ]
  },
  {
   "cell_type": "code",
   "execution_count": 6,
   "id": "b40661f1",
   "metadata": {
    "scrolled": false
   },
   "outputs": [],
   "source": [
    "#train.info()"
   ]
  },
  {
   "cell_type": "code",
   "execution_count": 7,
   "id": "08345956",
   "metadata": {},
   "outputs": [],
   "source": [
    "train_scaled, validate_scaled, test_scaled = w.scale_data(train, validate, test)"
   ]
  },
  {
   "cell_type": "code",
   "execution_count": 8,
   "id": "2c2a8742",
   "metadata": {
    "scrolled": true
   },
   "outputs": [],
   "source": [
    "#validate_scaled.info()"
   ]
  },
  {
   "cell_type": "code",
   "execution_count": 9,
   "id": "469424ec",
   "metadata": {
    "scrolled": true
   },
   "outputs": [],
   "source": [
    "#validate_scaled[['bedrooms','bathrooms','sq_feet']].info()"
   ]
  },
  {
   "cell_type": "code",
   "execution_count": 10,
   "id": "08631de0",
   "metadata": {},
   "outputs": [],
   "source": [
    "#X_validate_scaled = validate_scaled[['bedrooms','bathrooms','sq_feet']]"
   ]
  },
  {
   "cell_type": "code",
   "execution_count": 11,
   "id": "ff9d3418",
   "metadata": {},
   "outputs": [],
   "source": [
    "#X_validate_scaled.info()"
   ]
  },
  {
   "cell_type": "code",
   "execution_count": 12,
   "id": "905690ea",
   "metadata": {
    "scrolled": false
   },
   "outputs": [],
   "source": [
    "#train_scaled.info()"
   ]
  },
  {
   "cell_type": "code",
   "execution_count": 13,
   "id": "77958ed1",
   "metadata": {},
   "outputs": [],
   "source": [
    "# list of variables I will cluster on. \n",
    "cluster_vars = ['bedrooms','bathrooms', 'sq_feet']\n",
    "cluster_name = 'interior_cluster1'\n",
    "k_range = range(2,20)"
   ]
  },
  {
   "cell_type": "code",
   "execution_count": 14,
   "id": "ec209d1c",
   "metadata": {},
   "outputs": [],
   "source": [
    "X_train_scaled = train_scaled[['bedrooms','bathrooms', 'sq_feet']]"
   ]
  },
  {
   "cell_type": "code",
   "execution_count": 15,
   "id": "dbd852ac",
   "metadata": {},
   "outputs": [],
   "source": [
    "def find_k(X_train, cluster_vars, k_range):\n",
    "    sse = []\n",
    "    for k in k_range:\n",
    "        kmeans = KMeans(n_clusters=k)\n",
    "\n",
    "        # X[0] is our X_train dataframe..the first dataframe in the list of dataframes stored in X. \n",
    "        kmeans.fit(X_train[cluster_vars])\n",
    "\n",
    "        # inertia: Sum of squared distances of samples to their closest cluster center.\n",
    "        sse.append(kmeans.inertia_) \n",
    "\n",
    "    # compute the difference from one k to the next\n",
    "    delta = [round(sse[i] - sse[i+1],0) for i in range(len(sse)-1)]\n",
    "\n",
    "    # compute the percent difference from one k to the next\n",
    "    pct_delta = [round(((sse[i] - sse[i+1])/sse[i])*100, 1) for i in range(len(sse)-1)]\n",
    "\n",
    "    # create a dataframe with all of our metrics to compare them across values of k: SSE, delta, pct_delta\n",
    "    k_comparisons_df = pd.DataFrame(dict(k=k_range[0:-1], \n",
    "                             sse=sse[0:-1], \n",
    "                             delta=delta, \n",
    "                             pct_delta=pct_delta))\n",
    "\n",
    "    # plot k with inertia\n",
    "    plt.plot(k_comparisons_df.k, k_comparisons_df.sse, 'bx-')\n",
    "    plt.xlabel('k')\n",
    "    plt.ylabel('SSE')\n",
    "    plt.title('The Elbow Method to find the optimal k\\nFor which k values do we see large decreases in SSE?')\n",
    "    plt.show()\n",
    "\n",
    "    # plot k with pct_delta\n",
    "    plt.plot(k_comparisons_df.k, k_comparisons_df.pct_delta, 'bx-')\n",
    "    plt.xlabel('k')\n",
    "    plt.ylabel('Percent Change')\n",
    "    plt.title('For which k values are we seeing increased changes (%) in SSE?')\n",
    "    plt.show()\n",
    "\n",
    "    # plot k with delta\n",
    "    plt.plot(k_comparisons_df.k, k_comparisons_df.delta, 'bx-')\n",
    "    plt.xlabel('k')\n",
    "    plt.ylabel('Absolute Change in SSE')\n",
    "    plt.title('For which k values are we seeing increased changes (absolute) in SSE?')\n",
    "    plt.show()\n",
    "\n",
    "    return k_comparisons_df\n"
   ]
  },
  {
   "cell_type": "code",
   "execution_count": 17,
   "id": "d5914833",
   "metadata": {},
   "outputs": [
    {
     "data": {
      "image/png": "[encoded data removed]",
      "text/plain": [
       "<Figure size 432x288 with 1 Axes>"
      ]
     },
     "metadata": {
      "needs_background": "light"
     },
     "output_type": "display_data"
    },
    {
     "data": {
      "image/png": "[encoded data removed]",
      "text/plain": [
       "<Figure size 432x288 with 1 Axes>"
      ]
     },
     "metadata": {
      "needs_background": "light"
     },
     "output_type": "display_data"
    },
    {
     "data": {
      "image/png": "[encoded data removed]",
      "text/plain": [
       "<Figure size 432x288 with 1 Axes>"
      ]
     },
     "metadata": {
      "needs_background": "light"
     },
     "output_type": "display_data"
    }
   ],
   "source": [
    "k_comparisons_df = find_k(X_train_scaled, cluster_vars, k_range)"
   ]
  },
  {
   "cell_type": "code",
   "execution_count": 18,
   "id": "938332f4",
   "metadata": {},
   "outputs": [
    {
     "data": {
      "text/html": [
       "<div>\n",
       "<style scoped>\n",
       "    .dataframe tbody tr th:only-of-type {\n",
       "        vertical-align: middle;\n",
       "    }\n",
       "\n",
       "    .dataframe tbody tr th {\n",
       "        vertical-align: top;\n",
       "    }\n",
       "\n",
       "    .dataframe thead th {\n",
       "        text-align: right;\n",
       "    }\n",
       "</style>\n",
       "<table border=\"1\" class=\"dataframe\">\n",
       "  <thead>\n",
       "    <tr style=\"text-align: right;\">\n",
       "      <th></th>\n",
       "      <th>k</th>\n",
       "      <th>sse</th>\n",
       "      <th>delta</th>\n",
       "      <th>pct_delta</th>\n",
       "    </tr>\n",
       "  </thead>\n",
       "  <tbody>\n",
       "    <tr>\n",
       "      <th>0</th>\n",
       "      <td>2</td>\n",
       "      <td>847.181747</td>\n",
       "      <td>258.0</td>\n",
       "      <td>30.4</td>\n",
       "    </tr>\n",
       "    <tr>\n",
       "      <th>1</th>\n",
       "      <td>3</td>\n",
       "      <td>589.353412</td>\n",
       "      <td>148.0</td>\n",
       "      <td>25.1</td>\n",
       "    </tr>\n",
       "    <tr>\n",
       "      <th>2</th>\n",
       "      <td>4</td>\n",
       "      <td>441.645126</td>\n",
       "      <td>83.0</td>\n",
       "      <td>18.9</td>\n",
       "    </tr>\n",
       "    <tr>\n",
       "      <th>3</th>\n",
       "      <td>5</td>\n",
       "      <td>358.200845</td>\n",
       "      <td>60.0</td>\n",
       "      <td>16.8</td>\n",
       "    </tr>\n",
       "    <tr>\n",
       "      <th>4</th>\n",
       "      <td>6</td>\n",
       "      <td>297.976642</td>\n",
       "      <td>38.0</td>\n",
       "      <td>12.7</td>\n",
       "    </tr>\n",
       "    <tr>\n",
       "      <th>5</th>\n",
       "      <td>7</td>\n",
       "      <td>260.269889</td>\n",
       "      <td>43.0</td>\n",
       "      <td>16.7</td>\n",
       "    </tr>\n",
       "    <tr>\n",
       "      <th>6</th>\n",
       "      <td>8</td>\n",
       "      <td>216.915070</td>\n",
       "      <td>36.0</td>\n",
       "      <td>16.6</td>\n",
       "    </tr>\n",
       "    <tr>\n",
       "      <th>7</th>\n",
       "      <td>9</td>\n",
       "      <td>180.993108</td>\n",
       "      <td>28.0</td>\n",
       "      <td>15.6</td>\n",
       "    </tr>\n",
       "    <tr>\n",
       "      <th>8</th>\n",
       "      <td>10</td>\n",
       "      <td>152.764220</td>\n",
       "      <td>18.0</td>\n",
       "      <td>11.7</td>\n",
       "    </tr>\n",
       "    <tr>\n",
       "      <th>9</th>\n",
       "      <td>11</td>\n",
       "      <td>134.964236</td>\n",
       "      <td>8.0</td>\n",
       "      <td>6.1</td>\n",
       "    </tr>\n",
       "    <tr>\n",
       "      <th>10</th>\n",
       "      <td>12</td>\n",
       "      <td>126.672152</td>\n",
       "      <td>6.0</td>\n",
       "      <td>4.9</td>\n",
       "    </tr>\n",
       "    <tr>\n",
       "      <th>11</th>\n",
       "      <td>13</td>\n",
       "      <td>120.433662</td>\n",
       "      <td>7.0</td>\n",
       "      <td>5.8</td>\n",
       "    </tr>\n",
       "    <tr>\n",
       "      <th>12</th>\n",
       "      <td>14</td>\n",
       "      <td>113.478790</td>\n",
       "      <td>5.0</td>\n",
       "      <td>4.7</td>\n",
       "    </tr>\n",
       "    <tr>\n",
       "      <th>13</th>\n",
       "      <td>15</td>\n",
       "      <td>108.101521</td>\n",
       "      <td>7.0</td>\n",
       "      <td>6.3</td>\n",
       "    </tr>\n",
       "    <tr>\n",
       "      <th>14</th>\n",
       "      <td>16</td>\n",
       "      <td>101.294091</td>\n",
       "      <td>6.0</td>\n",
       "      <td>5.6</td>\n",
       "    </tr>\n",
       "    <tr>\n",
       "      <th>15</th>\n",
       "      <td>17</td>\n",
       "      <td>95.625517</td>\n",
       "      <td>6.0</td>\n",
       "      <td>6.1</td>\n",
       "    </tr>\n",
       "    <tr>\n",
       "      <th>16</th>\n",
       "      <td>18</td>\n",
       "      <td>89.779898</td>\n",
       "      <td>4.0</td>\n",
       "      <td>5.0</td>\n",
       "    </tr>\n",
       "  </tbody>\n",
       "</table>\n",
       "</div>"
      ],
      "text/plain": [
       "     k         sse  delta  pct_delta\n",
       "0    2  847.181747  258.0       30.4\n",
       "1    3  589.353412  148.0       25.1\n",
       "2    4  441.645126   83.0       18.9\n",
       "3    5  358.200845   60.0       16.8\n",
       "4    6  297.976642   38.0       12.7\n",
       "5    7  260.269889   43.0       16.7\n",
       "6    8  216.915070   36.0       16.6\n",
       "7    9  180.993108   28.0       15.6\n",
       "8   10  152.764220   18.0       11.7\n",
       "9   11  134.964236    8.0        6.1\n",
       "10  12  126.672152    6.0        4.9\n",
       "11  13  120.433662    7.0        5.8\n",
       "12  14  113.478790    5.0        4.7\n",
       "13  15  108.101521    7.0        6.3\n",
       "14  16  101.294091    6.0        5.6\n",
       "15  17   95.625517    6.0        6.1\n",
       "16  18   89.779898    4.0        5.0"
      ]
     },
     "execution_count": 18,
     "metadata": {},
     "output_type": "execute_result"
    }
   ],
   "source": [
    "k_comparisons_df"
   ]
  },
  {
   "cell_type": "code",
   "execution_count": 22,
   "id": "f0de5168",
   "metadata": {},
   "outputs": [],
   "source": [
    "def create_clusters(X_train_scaled, k, cluster_vars):\n",
    "    # create kmean object\n",
    "    kmeans = KMeans(n_clusters=k, random_state = 123)\n",
    "\n",
    "    # fit to train and assign cluster ids to observations\n",
    "    kmeans.fit(X_train_scaled[cluster_vars])\n",
    "\n",
    "    return kmeans\n"
   ]
  },
  {
   "cell_type": "markdown",
   "id": "fb4afa1e",
   "metadata": {},
   "source": [
    "# working with k = 6"
   ]
  },
  {
   "cell_type": "code",
   "execution_count": 23,
   "id": "9f4cbaf4",
   "metadata": {},
   "outputs": [],
   "source": [
    "kmeans = create_clusters(X_train_scaled, 6, cluster_vars)"
   ]
  },
  {
   "cell_type": "code",
   "execution_count": 24,
   "id": "6be79664",
   "metadata": {},
   "outputs": [
    {
     "data": {
      "text/plain": [
       "KMeans(n_clusters=6, random_state=123)"
      ]
     },
     "execution_count": 24,
     "metadata": {},
     "output_type": "execute_result"
    }
   ],
   "source": [
    "kmeans"
   ]
  },
  {
   "cell_type": "code",
   "execution_count": 25,
   "id": "31d43e1d",
   "metadata": {},
   "outputs": [],
   "source": [
    "# get the centroids for each distinct cluster...\n",
    "\n",
    "def get_centroids(kmeans, cluster_vars, cluster_name):\n",
    "    # get the centroids for each distinct cluster...\n",
    "\n",
    "    centroid_col_names = ['centroid_' + i for i in cluster_vars]\n",
    "\n",
    "    centroid_df = pd.DataFrame(kmeans.cluster_centers_, \n",
    "                               columns=centroid_col_names).reset_index().rename(columns={'index': cluster_name})\n",
    "\n",
    "    return centroid_df\n"
   ]
  },
  {
   "cell_type": "code",
   "execution_count": 26,
   "id": "a3570f20",
   "metadata": {},
   "outputs": [],
   "source": [
    "centroid_df = get_centroids(kmeans, cluster_vars, cluster_name)"
   ]
  },
  {
   "cell_type": "code",
   "execution_count": 27,
   "id": "45d294b1",
   "metadata": {},
   "outputs": [
    {
     "data": {
      "text/html": [
       "<div>\n",
       "<style scoped>\n",
       "    .dataframe tbody tr th:only-of-type {\n",
       "        vertical-align: middle;\n",
       "    }\n",
       "\n",
       "    .dataframe tbody tr th {\n",
       "        vertical-align: top;\n",
       "    }\n",
       "\n",
       "    .dataframe thead th {\n",
       "        text-align: right;\n",
       "    }\n",
       "</style>\n",
       "<table border=\"1\" class=\"dataframe\">\n",
       "  <thead>\n",
       "    <tr style=\"text-align: right;\">\n",
       "      <th></th>\n",
       "      <th>interior_cluster1</th>\n",
       "      <th>centroid_bedrooms</th>\n",
       "      <th>centroid_bathrooms</th>\n",
       "      <th>centroid_sq_feet</th>\n",
       "    </tr>\n",
       "  </thead>\n",
       "  <tbody>\n",
       "    <tr>\n",
       "      <th>0</th>\n",
       "      <td>0</td>\n",
       "      <td>0.640606</td>\n",
       "      <td>0.632983</td>\n",
       "      <td>0.432259</td>\n",
       "    </tr>\n",
       "    <tr>\n",
       "      <th>1</th>\n",
       "      <td>1</td>\n",
       "      <td>0.510666</td>\n",
       "      <td>0.173529</td>\n",
       "      <td>0.166290</td>\n",
       "    </tr>\n",
       "    <tr>\n",
       "      <th>2</th>\n",
       "      <td>2</td>\n",
       "      <td>0.221873</td>\n",
       "      <td>0.003030</td>\n",
       "      <td>0.093555</td>\n",
       "    </tr>\n",
       "    <tr>\n",
       "      <th>3</th>\n",
       "      <td>3</td>\n",
       "      <td>0.308121</td>\n",
       "      <td>0.170163</td>\n",
       "      <td>0.139503</td>\n",
       "    </tr>\n",
       "    <tr>\n",
       "      <th>4</th>\n",
       "      <td>4</td>\n",
       "      <td>0.541758</td>\n",
       "      <td>0.349059</td>\n",
       "      <td>0.255575</td>\n",
       "    </tr>\n",
       "    <tr>\n",
       "      <th>5</th>\n",
       "      <td>5</td>\n",
       "      <td>0.322810</td>\n",
       "      <td>0.336326</td>\n",
       "      <td>0.227642</td>\n",
       "    </tr>\n",
       "  </tbody>\n",
       "</table>\n",
       "</div>"
      ],
      "text/plain": [
       "   interior_cluster1  centroid_bedrooms  centroid_bathrooms  centroid_sq_feet\n",
       "0                  0           0.640606            0.632983          0.432259\n",
       "1                  1           0.510666            0.173529          0.166290\n",
       "2                  2           0.221873            0.003030          0.093555\n",
       "3                  3           0.308121            0.170163          0.139503\n",
       "4                  4           0.541758            0.349059          0.255575\n",
       "5                  5           0.322810            0.336326          0.227642"
      ]
     },
     "execution_count": 27,
     "metadata": {},
     "output_type": "execute_result"
    }
   ],
   "source": [
    "centroid_df"
   ]
  },
  {
   "cell_type": "code",
   "execution_count": 28,
   "id": "d1d9da3c",
   "metadata": {},
   "outputs": [],
   "source": [
    "# label cluster for each observation in X_train (X[0] in our X list of dataframes), \n",
    "# X_validate (X[1]), & X_test (X[2])\n",
    "\n",
    "def assign_clusters(df, kmeans, cluster_vars, cluster_name, centroid_df):\n",
    "    #for i in range(len(df)):\n",
    "        clusters = pd.DataFrame(kmeans.predict(df[cluster_vars]), \n",
    "                            columns=[cluster_name], index=df.index)\n",
    "\n",
    "        clusters_centroids = clusters.merge(centroid_df, on=cluster_name, copy=False).set_index(clusters.index.values)\n",
    "\n",
    "        df = pd.concat([df, clusters_centroids], axis=1)\n",
    "        return df\n"
   ]
  },
  {
   "cell_type": "code",
   "execution_count": 34,
   "id": "d592ca82",
   "metadata": {
    "scrolled": true
   },
   "outputs": [],
   "source": [
    "X = assign_clusters(X_train_scaled, kmeans, cluster_vars, cluster_name, centroid_df)"
   ]
  },
  {
   "cell_type": "code",
   "execution_count": 35,
   "id": "fc40812c",
   "metadata": {},
   "outputs": [],
   "source": [
    "#X.head()"
   ]
  },
  {
   "cell_type": "code",
   "execution_count": 36,
   "id": "f8a617a4",
   "metadata": {},
   "outputs": [
    {
     "data": {
      "text/html": [
       "<div>\n",
       "<style scoped>\n",
       "    .dataframe tbody tr th:only-of-type {\n",
       "        vertical-align: middle;\n",
       "    }\n",
       "\n",
       "    .dataframe tbody tr th {\n",
       "        vertical-align: top;\n",
       "    }\n",
       "\n",
       "    .dataframe thead th {\n",
       "        text-align: right;\n",
       "    }\n",
       "</style>\n",
       "<table border=\"1\" class=\"dataframe\">\n",
       "  <thead>\n",
       "    <tr style=\"text-align: right;\">\n",
       "      <th></th>\n",
       "      <th></th>\n",
       "      <th></th>\n",
       "      <th></th>\n",
       "      <th>interior_cluster1</th>\n",
       "    </tr>\n",
       "    <tr>\n",
       "      <th>interior_cluster1</th>\n",
       "      <th>centroid_bedrooms</th>\n",
       "      <th>centroid_bathrooms</th>\n",
       "      <th>centroid_sq_feet</th>\n",
       "      <th></th>\n",
       "    </tr>\n",
       "  </thead>\n",
       "  <tbody>\n",
       "    <tr>\n",
       "      <th>0</th>\n",
       "      <th>0.640606</th>\n",
       "      <th>0.632983</th>\n",
       "      <th>0.432259</th>\n",
       "      <td>1618</td>\n",
       "    </tr>\n",
       "    <tr>\n",
       "      <th>1</th>\n",
       "      <th>0.510666</th>\n",
       "      <th>0.173529</th>\n",
       "      <th>0.166290</th>\n",
       "      <td>4156</td>\n",
       "    </tr>\n",
       "    <tr>\n",
       "      <th>2</th>\n",
       "      <th>0.221873</th>\n",
       "      <th>0.003030</th>\n",
       "      <th>0.093555</th>\n",
       "      <td>5253</td>\n",
       "    </tr>\n",
       "    <tr>\n",
       "      <th>3</th>\n",
       "      <th>0.308121</th>\n",
       "      <th>0.170163</th>\n",
       "      <th>0.139503</th>\n",
       "      <td>9713</td>\n",
       "    </tr>\n",
       "    <tr>\n",
       "      <th>4</th>\n",
       "      <th>0.541758</th>\n",
       "      <th>0.349059</th>\n",
       "      <th>0.255575</th>\n",
       "      <td>4982</td>\n",
       "    </tr>\n",
       "    <tr>\n",
       "      <th>5</th>\n",
       "      <th>0.322810</th>\n",
       "      <th>0.336326</th>\n",
       "      <th>0.227642</th>\n",
       "      <td>2656</td>\n",
       "    </tr>\n",
       "  </tbody>\n",
       "</table>\n",
       "</div>"
      ],
      "text/plain": [
       "                                                                         interior_cluster1\n",
       "interior_cluster1 centroid_bedrooms centroid_bathrooms centroid_sq_feet                   \n",
       "0                 0.640606          0.632983           0.432259                       1618\n",
       "1                 0.510666          0.173529           0.166290                       4156\n",
       "2                 0.221873          0.003030           0.093555                       5253\n",
       "3                 0.308121          0.170163           0.139503                       9713\n",
       "4                 0.541758          0.349059           0.255575                       4982\n",
       "5                 0.322810          0.336326           0.227642                       2656"
      ]
     },
     "execution_count": 36,
     "metadata": {},
     "output_type": "execute_result"
    }
   ],
   "source": [
    "pd.DataFrame(X.groupby(['interior_cluster1', 'centroid_bedrooms','centroid_bathrooms', 'centroid_sq_feet'])['interior_cluster1'].count())\n"
   ]
  },
  {
   "cell_type": "code",
   "execution_count": 37,
   "id": "c4db19b3",
   "metadata": {},
   "outputs": [],
   "source": [
    "train_clusters = pd.concat([train, X['interior_cluster1']], axis=1)"
   ]
  },
  {
   "cell_type": "code",
   "execution_count": 38,
   "id": "0824b534",
   "metadata": {
    "scrolled": false
   },
   "outputs": [],
   "source": [
    "#train_clusters"
   ]
  },
  {
   "cell_type": "markdown",
   "id": "553a2e0b",
   "metadata": {},
   "source": [
    "## Count of observations in interior_cluster1 clusters"
   ]
  },
  {
   "cell_type": "code",
   "execution_count": 39,
   "id": "6f180048",
   "metadata": {},
   "outputs": [
    {
     "data": {
      "text/html": [
       "<div>\n",
       "<style scoped>\n",
       "    .dataframe tbody tr th:only-of-type {\n",
       "        vertical-align: middle;\n",
       "    }\n",
       "\n",
       "    .dataframe tbody tr th {\n",
       "        vertical-align: top;\n",
       "    }\n",
       "\n",
       "    .dataframe thead th {\n",
       "        text-align: right;\n",
       "    }\n",
       "</style>\n",
       "<table border=\"1\" class=\"dataframe\">\n",
       "  <thead>\n",
       "    <tr style=\"text-align: right;\">\n",
       "      <th></th>\n",
       "      <th>interior_cluster1</th>\n",
       "    </tr>\n",
       "    <tr>\n",
       "      <th>interior_cluster1</th>\n",
       "      <th></th>\n",
       "    </tr>\n",
       "  </thead>\n",
       "  <tbody>\n",
       "    <tr>\n",
       "      <th>0</th>\n",
       "      <td>1618</td>\n",
       "    </tr>\n",
       "    <tr>\n",
       "      <th>1</th>\n",
       "      <td>4156</td>\n",
       "    </tr>\n",
       "    <tr>\n",
       "      <th>2</th>\n",
       "      <td>5253</td>\n",
       "    </tr>\n",
       "    <tr>\n",
       "      <th>3</th>\n",
       "      <td>9713</td>\n",
       "    </tr>\n",
       "    <tr>\n",
       "      <th>4</th>\n",
       "      <td>4982</td>\n",
       "    </tr>\n",
       "    <tr>\n",
       "      <th>5</th>\n",
       "      <td>2656</td>\n",
       "    </tr>\n",
       "  </tbody>\n",
       "</table>\n",
       "</div>"
      ],
      "text/plain": [
       "                   interior_cluster1\n",
       "interior_cluster1                   \n",
       "0                               1618\n",
       "1                               4156\n",
       "2                               5253\n",
       "3                               9713\n",
       "4                               4982\n",
       "5                               2656"
      ]
     },
     "execution_count": 39,
     "metadata": {},
     "output_type": "execute_result"
    }
   ],
   "source": [
    "pd.DataFrame(train_clusters.groupby(['interior_cluster1'])['interior_cluster1'].count())\n",
    "\n"
   ]
  },
  {
   "cell_type": "code",
   "execution_count": 40,
   "id": "f5905b88",
   "metadata": {},
   "outputs": [],
   "source": [
    "#sns.scatterplot(train_clusters.bedrooms, train_clusters.logerror, hue=train_clusters.interior_cluster1)"
   ]
  },
  {
   "cell_type": "code",
   "execution_count": 41,
   "id": "6c0967e2",
   "metadata": {},
   "outputs": [],
   "source": [
    "#sns.scatterplot(train_clusters.sq_feet, train_clusters.logerror, hue=train_clusters.interior_cluster1)"
   ]
  },
  {
   "cell_type": "code",
   "execution_count": 42,
   "id": "302156c0",
   "metadata": {},
   "outputs": [],
   "source": [
    "#train_clusters[train_clusters.interior_cluster1 == 2]"
   ]
  },
  {
   "cell_type": "code",
   "execution_count": 43,
   "id": "e5e25154",
   "metadata": {},
   "outputs": [],
   "source": [
    "#sns.scatterplot(train_clusters[train_clusters.interior_cluster1 == 2].bedrooms, train_clusters[train_clusters.interior_cluster1 == 2].logerror, hue=train_clusters.interior_cluster1)"
   ]
  },
  {
   "cell_type": "code",
   "execution_count": 44,
   "id": "3a3e56b1",
   "metadata": {},
   "outputs": [],
   "source": [
    "#sns.scatterplot(train_clusters[train_clusters.interior_cluster1 == 1].bath_bed_ratio, train_clusters[train_clusters.interior_cluster1 == 1].logerror, hue=train_clusters.interior_cluster1)"
   ]
  },
  {
   "cell_type": "code",
   "execution_count": 45,
   "id": "fcacb4c9",
   "metadata": {},
   "outputs": [],
   "source": [
    "#plt.hist(train_clusters[train_clusters.interior_cluster1 == 0]['logerror'])"
   ]
  },
  {
   "cell_type": "code",
   "execution_count": 46,
   "id": "24ab9e9d",
   "metadata": {},
   "outputs": [],
   "source": [
    "#plt.figure(figsize=(12,6))\n",
    "# plt.scatter(y=X_train.latitude, x=X_train.longitude, c=X_train.area_cluster, alpha=.4)\n",
    "#plt.scatter(y=train_clusters.logerror, x=train_clusters.sq_feet, c=train_clusters.interior_cluster1, alpha=.4)\n",
    "#plt.set(title='logerror vs sq_feet'.format(k), xlabel='sq_feet', ylabel='logerror')\n",
    "#plt.legend()"
   ]
  },
  {
   "cell_type": "code",
   "execution_count": 47,
   "id": "5266878a",
   "metadata": {},
   "outputs": [
    {
     "data": {
      "text/plain": [
       "0.06955233626697876"
      ]
     },
     "execution_count": 47,
     "metadata": {},
     "output_type": "execute_result"
    }
   ],
   "source": [
    "train_clusters[train_clusters.interior_cluster1 == 0]['logerror'].abs().mean()"
   ]
  },
  {
   "cell_type": "code",
   "execution_count": 48,
   "id": "6e047755",
   "metadata": {},
   "outputs": [
    {
     "data": {
      "text/plain": [
       "0.07340950934656182"
      ]
     },
     "execution_count": 48,
     "metadata": {},
     "output_type": "execute_result"
    }
   ],
   "source": [
    "train_clusters[train_clusters.interior_cluster1 == 1]['logerror'].abs().mean()"
   ]
  },
  {
   "cell_type": "code",
   "execution_count": 49,
   "id": "8a0f5dbe",
   "metadata": {},
   "outputs": [
    {
     "data": {
      "text/plain": [
       "0.07141700710014462"
      ]
     },
     "execution_count": 49,
     "metadata": {},
     "output_type": "execute_result"
    }
   ],
   "source": [
    "train_clusters[train_clusters.interior_cluster1 == 2]['logerror'].abs().mean()"
   ]
  },
  {
   "cell_type": "code",
   "execution_count": 50,
   "id": "7c1e0a99",
   "metadata": {},
   "outputs": [
    {
     "data": {
      "text/plain": [
       "0.07177977686117148"
      ]
     },
     "execution_count": 50,
     "metadata": {},
     "output_type": "execute_result"
    }
   ],
   "source": [
    "train_clusters[train_clusters.interior_cluster1 == 3]['logerror'].abs().mean()"
   ]
  },
  {
   "cell_type": "code",
   "execution_count": 51,
   "id": "155bbd64",
   "metadata": {},
   "outputs": [
    {
     "data": {
      "text/plain": [
       "0.07283631756264358"
      ]
     },
     "execution_count": 51,
     "metadata": {},
     "output_type": "execute_result"
    }
   ],
   "source": [
    "train_clusters[train_clusters.interior_cluster1 == 4]['logerror'].abs().mean()"
   ]
  },
  {
   "cell_type": "code",
   "execution_count": 52,
   "id": "cd1c9a18",
   "metadata": {},
   "outputs": [
    {
     "data": {
      "text/plain": [
       "0.06679235351584653"
      ]
     },
     "execution_count": 52,
     "metadata": {},
     "output_type": "execute_result"
    }
   ],
   "source": [
    "train_clusters[train_clusters.interior_cluster1 == 5]['logerror'].abs().mean()"
   ]
  },
  {
   "cell_type": "code",
   "execution_count": 53,
   "id": "ef974da6",
   "metadata": {},
   "outputs": [],
   "source": [
    "train_clusters['logerror_abs'] = train_clusters.logerror.abs()"
   ]
  },
  {
   "cell_type": "code",
   "execution_count": 54,
   "id": "728618ef",
   "metadata": {},
   "outputs": [],
   "source": [
    "#train_clusters.info()"
   ]
  },
  {
   "cell_type": "code",
   "execution_count": 55,
   "id": "d1681000",
   "metadata": {},
   "outputs": [
    {
     "data": {
      "text/plain": [
       "0.07154299587388376"
      ]
     },
     "execution_count": 55,
     "metadata": {},
     "output_type": "execute_result"
    }
   ],
   "source": [
    "train_clusters.logerror_abs.mean()"
   ]
  },
  {
   "cell_type": "code",
   "execution_count": 56,
   "id": "bc0d5e40",
   "metadata": {},
   "outputs": [
    {
     "data": {
      "text/plain": [
       "(-0.604608397743315, 0.5455240512585082)"
      ]
     },
     "execution_count": 56,
     "metadata": {},
     "output_type": "execute_result"
    }
   ],
   "source": [
    "t, p = stats.ttest_1samp((train_clusters[train_clusters.interior_cluster1 == 0]['logerror'].abs()), (train_clusters.logerror_abs.mean()))\n",
    "t, p"
   ]
  },
  {
   "cell_type": "code",
   "execution_count": 57,
   "id": "0ec28373",
   "metadata": {},
   "outputs": [
    {
     "data": {
      "text/plain": [
       "(0.7042935823893388, 0.4812894325068775)"
      ]
     },
     "execution_count": 57,
     "metadata": {},
     "output_type": "execute_result"
    }
   ],
   "source": [
    "t, p = stats.ttest_1samp((train_clusters[train_clusters.interior_cluster1 == 1]['logerror'].abs()), (train_clusters.logerror_abs.mean()))\n",
    "t, p"
   ]
  },
  {
   "cell_type": "code",
   "execution_count": 58,
   "id": "6d199f7b",
   "metadata": {},
   "outputs": [
    {
     "data": {
      "text/plain": [
       "(-0.05689408183184019, 0.9546317329688915)"
      ]
     },
     "execution_count": 58,
     "metadata": {},
     "output_type": "execute_result"
    }
   ],
   "source": [
    "t, p = stats.ttest_1samp((train_clusters[train_clusters.interior_cluster1 == 2]['logerror'].abs()), (train_clusters.logerror_abs.mean()))\n",
    "t, p"
   ]
  },
  {
   "cell_type": "code",
   "execution_count": 59,
   "id": "98e0d44c",
   "metadata": {},
   "outputs": [
    {
     "data": {
      "text/plain": [
       "(0.14700772591190797, 0.8831289735797647)"
      ]
     },
     "execution_count": 59,
     "metadata": {},
     "output_type": "execute_result"
    }
   ],
   "source": [
    "t, p = stats.ttest_1samp((train_clusters[train_clusters.interior_cluster1 == 3]['logerror'].abs()), (train_clusters.logerror_abs.mean()))\n",
    "t, p"
   ]
  },
  {
   "cell_type": "code",
   "execution_count": 60,
   "id": "37351531",
   "metadata": {},
   "outputs": [
    {
     "data": {
      "text/plain": [
       "(0.5832604461441707, 0.5597443914836405)"
      ]
     },
     "execution_count": 60,
     "metadata": {},
     "output_type": "execute_result"
    }
   ],
   "source": [
    "t, p = stats.ttest_1samp((train_clusters[train_clusters.interior_cluster1 == 4]['logerror'].abs()), (train_clusters.logerror_abs.mean()))\n",
    "t, p"
   ]
  },
  {
   "cell_type": "code",
   "execution_count": 61,
   "id": "f94febd6",
   "metadata": {},
   "outputs": [
    {
     "data": {
      "text/plain": [
       "(-1.913911091384167, 0.05573892393122242)"
      ]
     },
     "execution_count": 61,
     "metadata": {},
     "output_type": "execute_result"
    }
   ],
   "source": [
    "t, p = stats.ttest_1samp((train_clusters[train_clusters.interior_cluster1 == 5]['logerror'].abs()), (train_clusters.logerror_abs.mean()))\n",
    "t, p"
   ]
  },
  {
   "cell_type": "markdown",
   "id": "a668d23f",
   "metadata": {},
   "source": [
    "# working with k=7"
   ]
  },
  {
   "cell_type": "code",
   "execution_count": 62,
   "id": "371c9187",
   "metadata": {},
   "outputs": [],
   "source": [
    "# list of variables I will cluster on. \n",
    "\n",
    "cluster_name = 'interior_cluster2'\n",
    "#k_range = range(2,20)"
   ]
  },
  {
   "cell_type": "code",
   "execution_count": 64,
   "id": "8c47a936",
   "metadata": {},
   "outputs": [],
   "source": [
    "kmeans = create_clusters(X_train_scaled, 7, cluster_vars)"
   ]
  },
  {
   "cell_type": "code",
   "execution_count": 65,
   "id": "0dc27896",
   "metadata": {},
   "outputs": [],
   "source": [
    "centroid_df = get_centroids(kmeans, cluster_vars, cluster_name)"
   ]
  },
  {
   "cell_type": "code",
   "execution_count": 66,
   "id": "2596d4e1",
   "metadata": {
    "scrolled": false
   },
   "outputs": [],
   "source": [
    "X = assign_clusters(X_train_scaled, kmeans, cluster_vars, cluster_name, centroid_df)"
   ]
  },
  {
   "cell_type": "code",
   "execution_count": 67,
   "id": "6e5ae590",
   "metadata": {},
   "outputs": [],
   "source": [
    "train_clusters = pd.concat([train_clusters, X['interior_cluster2']], axis=1)"
   ]
  },
  {
   "cell_type": "code",
   "execution_count": 68,
   "id": "211a6fea",
   "metadata": {
    "scrolled": true
   },
   "outputs": [
    {
     "data": {
      "text/html": [
       "<div>\n",
       "<style scoped>\n",
       "    .dataframe tbody tr th:only-of-type {\n",
       "        vertical-align: middle;\n",
       "    }\n",
       "\n",
       "    .dataframe tbody tr th {\n",
       "        vertical-align: top;\n",
       "    }\n",
       "\n",
       "    .dataframe thead th {\n",
       "        text-align: right;\n",
       "    }\n",
       "</style>\n",
       "<table border=\"1\" class=\"dataframe\">\n",
       "  <thead>\n",
       "    <tr style=\"text-align: right;\">\n",
       "      <th></th>\n",
       "      <th>interior_cluster2</th>\n",
       "    </tr>\n",
       "    <tr>\n",
       "      <th>interior_cluster2</th>\n",
       "      <th></th>\n",
       "    </tr>\n",
       "  </thead>\n",
       "  <tbody>\n",
       "    <tr>\n",
       "      <th>0</th>\n",
       "      <td>2407</td>\n",
       "    </tr>\n",
       "    <tr>\n",
       "      <th>1</th>\n",
       "      <td>4133</td>\n",
       "    </tr>\n",
       "    <tr>\n",
       "      <th>2</th>\n",
       "      <td>4964</td>\n",
       "    </tr>\n",
       "    <tr>\n",
       "      <th>3</th>\n",
       "      <td>2495</td>\n",
       "    </tr>\n",
       "    <tr>\n",
       "      <th>4</th>\n",
       "      <td>1563</td>\n",
       "    </tr>\n",
       "    <tr>\n",
       "      <th>5</th>\n",
       "      <td>8219</td>\n",
       "    </tr>\n",
       "    <tr>\n",
       "      <th>6</th>\n",
       "      <td>4597</td>\n",
       "    </tr>\n",
       "  </tbody>\n",
       "</table>\n",
       "</div>"
      ],
      "text/plain": [
       "                   interior_cluster2\n",
       "interior_cluster2                   \n",
       "0                               2407\n",
       "1                               4133\n",
       "2                               4964\n",
       "3                               2495\n",
       "4                               1563\n",
       "5                               8219\n",
       "6                               4597"
      ]
     },
     "execution_count": 68,
     "metadata": {},
     "output_type": "execute_result"
    }
   ],
   "source": [
    "pd.DataFrame(train_clusters.groupby(['interior_cluster2'])['interior_cluster2'].count())\n",
    "\n"
   ]
  },
  {
   "cell_type": "code",
   "execution_count": 69,
   "id": "1a13857a",
   "metadata": {},
   "outputs": [
    {
     "data": {
      "text/plain": [
       "(-0.07423210605327785, 0.9408318702105614)"
      ]
     },
     "execution_count": 69,
     "metadata": {},
     "output_type": "execute_result"
    }
   ],
   "source": [
    "t, p = stats.ttest_1samp((train_clusters[train_clusters.interior_cluster2 == 0]['logerror'].abs()), (train_clusters.logerror_abs.mean()))\n",
    "t, p"
   ]
  },
  {
   "cell_type": "code",
   "execution_count": 70,
   "id": "6314cf78",
   "metadata": {},
   "outputs": [
    {
     "data": {
      "text/plain": [
       "(-0.9856321106117554, 0.324371384299427)"
      ]
     },
     "execution_count": 70,
     "metadata": {},
     "output_type": "execute_result"
    }
   ],
   "source": [
    "t, p = stats.ttest_1samp((train_clusters[train_clusters.interior_cluster2 == 1]['logerror'].abs()), (train_clusters.logerror_abs.mean()))\n",
    "t, p"
   ]
  },
  {
   "cell_type": "code",
   "execution_count": 71,
   "id": "c902e463",
   "metadata": {},
   "outputs": [
    {
     "data": {
      "text/plain": [
       "(0.6526420604947348, 0.5140172908361859)"
      ]
     },
     "execution_count": 71,
     "metadata": {},
     "output_type": "execute_result"
    }
   ],
   "source": [
    "t, p = stats.ttest_1samp((train_clusters[train_clusters.interior_cluster2 == 2]['logerror'].abs()), (train_clusters.logerror_abs.mean()))\n",
    "t, p"
   ]
  },
  {
   "cell_type": "markdown",
   "id": "e3d524a7",
   "metadata": {},
   "source": [
    "### cluster 3 is significant!!!"
   ]
  },
  {
   "cell_type": "code",
   "execution_count": 72,
   "id": "b31b7a94",
   "metadata": {
    "scrolled": true
   },
   "outputs": [
    {
     "data": {
      "text/plain": [
       "(-2.1197842788028, 0.03412275941003845)"
      ]
     },
     "execution_count": 72,
     "metadata": {},
     "output_type": "execute_result"
    }
   ],
   "source": [
    "t, p = stats.ttest_1samp((train_clusters[train_clusters.interior_cluster2 == 3]['logerror'].abs()), (train_clusters.logerror_abs.mean()))\n",
    "t, p"
   ]
  },
  {
   "cell_type": "code",
   "execution_count": 73,
   "id": "ca4ee83a",
   "metadata": {
    "scrolled": true
   },
   "outputs": [
    {
     "data": {
      "text/plain": [
       "(-0.4263377160673346, 0.6699205242811842)"
      ]
     },
     "execution_count": 73,
     "metadata": {},
     "output_type": "execute_result"
    }
   ],
   "source": [
    "t, p = stats.ttest_1samp((train_clusters[train_clusters.interior_cluster2 == 4]['logerror'].abs()), (train_clusters.logerror_abs.mean()))\n",
    "t, p"
   ]
  },
  {
   "cell_type": "code",
   "execution_count": 74,
   "id": "1dbe0afe",
   "metadata": {},
   "outputs": [
    {
     "data": {
      "text/plain": [
       "(0.3590621329545367, 0.7195578333051393)"
      ]
     },
     "execution_count": 74,
     "metadata": {},
     "output_type": "execute_result"
    }
   ],
   "source": [
    "t, p = stats.ttest_1samp((train_clusters[train_clusters.interior_cluster2 == 5]['logerror'].abs()), (train_clusters.logerror_abs.mean()))\n",
    "t, p"
   ]
  },
  {
   "cell_type": "code",
   "execution_count": 75,
   "id": "98aa1291",
   "metadata": {},
   "outputs": [
    {
     "data": {
      "text/plain": [
       "(1.0989916092661203, 0.27182929090501273)"
      ]
     },
     "execution_count": 75,
     "metadata": {},
     "output_type": "execute_result"
    }
   ],
   "source": [
    "t, p = stats.ttest_1samp((train_clusters[train_clusters.interior_cluster2 == 6]['logerror'].abs()), (train_clusters.logerror_abs.mean()))\n",
    "t, p"
   ]
  },
  {
   "cell_type": "markdown",
   "id": "399f0432",
   "metadata": {},
   "source": [
    "# working with k5"
   ]
  },
  {
   "cell_type": "markdown",
   "id": "56f46d06",
   "metadata": {},
   "source": [
    "# list of variables I will cluster on. \n",
    "\n",
    "cluster_name = 'interior_cluster3'\n",
    "#k_range = range(2,20)"
   ]
  },
  {
   "cell_type": "markdown",
   "id": "e5958ad3",
   "metadata": {},
   "source": [
    "kmeans = create_clusters(X_train, 5, cluster_vars)"
   ]
  },
  {
   "cell_type": "markdown",
   "id": "3f79a0b4",
   "metadata": {},
   "source": [
    "centroid_df = get_centroids(kmeans, cluster_vars, cluster_name)"
   ]
  },
  {
   "cell_type": "markdown",
   "id": "d7e7325e",
   "metadata": {
    "scrolled": true
   },
   "source": [
    "X = assign_clusters(X_train, kmeans, cluster_vars, cluster_name, centroid_df)"
   ]
  },
  {
   "cell_type": "markdown",
   "id": "ba822be0",
   "metadata": {},
   "source": [
    "train_clusters = pd.concat([train_clusters, X['interior_cluster3']], axis=1)"
   ]
  },
  {
   "cell_type": "markdown",
   "id": "3c1970a4",
   "metadata": {
    "scrolled": true
   },
   "source": [
    "pd.DataFrame(train_clusters.groupby(['interior_cluster3'])['interior_cluster3'].count())\n",
    "\n"
   ]
  },
  {
   "cell_type": "markdown",
   "id": "fa2b93eb",
   "metadata": {},
   "source": [
    "t, p = stats.ttest_1samp((train_clusters[train_clusters.interior_cluster3 == 0]['logerror'].abs()), (train_clusters.logerror_abs.mean()))\n",
    "t, p"
   ]
  },
  {
   "cell_type": "markdown",
   "id": "eee02022",
   "metadata": {},
   "source": [
    "t, p = stats.ttest_1samp((train_clusters[train_clusters.interior_cluster3 == 1]['logerror'].abs()), (train_clusters.logerror_abs.mean()))\n",
    "t, p"
   ]
  },
  {
   "cell_type": "markdown",
   "id": "449f9744",
   "metadata": {},
   "source": [
    "t, p = stats.ttest_1samp((train_clusters[train_clusters.interior_cluster3 == 2]['logerror'].abs()), (train_clusters.logerror_abs.mean()))\n",
    "t, p"
   ]
  },
  {
   "cell_type": "markdown",
   "id": "efb4d982",
   "metadata": {},
   "source": [
    "t, p = stats.ttest_1samp((train_clusters[train_clusters.interior_cluster3 == 3]['logerror'].abs()), (train_clusters.logerror_abs.mean()))\n",
    "t, p"
   ]
  },
  {
   "cell_type": "markdown",
   "id": "7be18e15",
   "metadata": {},
   "source": [
    "t, p = stats.ttest_1samp((train_clusters[train_clusters.interior_cluster3 == 4]['logerror'].abs()), (train_clusters.logerror_abs.mean()))\n",
    "t, p"
   ]
  },
  {
   "cell_type": "markdown",
   "id": "3d4d1309",
   "metadata": {},
   "source": [
    "# working with k8"
   ]
  },
  {
   "cell_type": "markdown",
   "id": "10d27d0c",
   "metadata": {},
   "source": [
    "cluster_name = 'interior_cluster4'\n",
    "kmeans = create_clusters(X_train, 8, cluster_vars)\n",
    "centroid_df = get_centroids(kmeans, cluster_vars, cluster_name)\n",
    "X = assign_clusters(X_train, kmeans, cluster_vars, cluster_name, centroid_df)\n",
    "train_clusters = pd.concat([train_clusters, X['interior_cluster4']], axis=1)\n",
    "pd.DataFrame(train_clusters.groupby(['interior_cluster4'])['interior_cluster4'].count())"
   ]
  },
  {
   "cell_type": "markdown",
   "id": "a1c4d7bd",
   "metadata": {},
   "source": [
    "t, p = stats.ttest_1samp((train_clusters[train_clusters.interior_cluster4 == 0]['logerror'].abs()), (train_clusters.logerror_abs.mean()))\n",
    "t, p"
   ]
  },
  {
   "cell_type": "markdown",
   "id": "fe76e774",
   "metadata": {},
   "source": [
    "t, p = stats.ttest_1samp((train_clusters[train_clusters.interior_cluster4 == 1]['logerror'].abs()), (train_clusters.logerror_abs.mean()))\n",
    "t, p"
   ]
  },
  {
   "cell_type": "markdown",
   "id": "cc0838a5",
   "metadata": {},
   "source": [
    "t, p = stats.ttest_1samp((train_clusters[train_clusters.interior_cluster4 == 2]['logerror'].abs()), (train_clusters.logerror_abs.mean()))\n",
    "t, p"
   ]
  },
  {
   "cell_type": "markdown",
   "id": "ac92f05f",
   "metadata": {},
   "source": [
    "t, p = stats.ttest_1samp((train_clusters[train_clusters.interior_cluster4 == 3]['logerror'].abs()), (train_clusters.logerror_abs.mean()))\n",
    "t, p"
   ]
  },
  {
   "cell_type": "markdown",
   "id": "e5f91f8b",
   "metadata": {},
   "source": [
    "t, p = stats.ttest_1samp((train_clusters[train_clusters.interior_cluster4 == 4]['logerror'].abs()), (train_clusters.logerror_abs.mean()))\n",
    "t, p"
   ]
  },
  {
   "cell_type": "markdown",
   "id": "85e0ec58",
   "metadata": {},
   "source": [
    "### cluster 5 is significant"
   ]
  },
  {
   "cell_type": "markdown",
   "id": "cc1c119a",
   "metadata": {},
   "source": [
    "t, p = stats.ttest_1samp((train_clusters[train_clusters.interior_cluster4 == 5]['logerror'].abs()), (train_clusters.logerror_abs.mean()))\n",
    "t, p"
   ]
  },
  {
   "cell_type": "markdown",
   "id": "95872c89",
   "metadata": {},
   "source": [
    "t, p = stats.ttest_1samp((train_clusters[train_clusters.interior_cluster4 == 6]['logerror'].abs()), (train_clusters.logerror_abs.mean()))\n",
    "t, p"
   ]
  },
  {
   "cell_type": "markdown",
   "id": "9866084b",
   "metadata": {},
   "source": [
    "t, p = stats.ttest_1samp((train_clusters[train_clusters.interior_cluster4 == 7]['logerror'].abs()), (train_clusters.logerror_abs.mean()))\n",
    "t, p"
   ]
  },
  {
   "cell_type": "markdown",
   "id": "8c069db9",
   "metadata": {},
   "source": [
    "# messing with validate"
   ]
  },
  {
   "cell_type": "code",
   "execution_count": 76,
   "id": "e0aa286f",
   "metadata": {},
   "outputs": [
    {
     "data": {
      "text/html": [
       "<div>\n",
       "<style scoped>\n",
       "    .dataframe tbody tr th:only-of-type {\n",
       "        vertical-align: middle;\n",
       "    }\n",
       "\n",
       "    .dataframe tbody tr th {\n",
       "        vertical-align: top;\n",
       "    }\n",
       "\n",
       "    .dataframe thead th {\n",
       "        text-align: right;\n",
       "    }\n",
       "</style>\n",
       "<table border=\"1\" class=\"dataframe\">\n",
       "  <thead>\n",
       "    <tr style=\"text-align: right;\">\n",
       "      <th></th>\n",
       "      <th>parcelid</th>\n",
       "      <th>logerror</th>\n",
       "      <th>bathrooms</th>\n",
       "      <th>bedrooms</th>\n",
       "      <th>sq_feet</th>\n",
       "      <th>fips</th>\n",
       "      <th>latitude</th>\n",
       "      <th>longitude</th>\n",
       "      <th>lotsizesquarefeet</th>\n",
       "      <th>regionidcity</th>\n",
       "      <th>...</th>\n",
       "      <th>taxrate</th>\n",
       "      <th>acres</th>\n",
       "      <th>acres_bin</th>\n",
       "      <th>sqft_bin</th>\n",
       "      <th>structure_dollar_per_sqft</th>\n",
       "      <th>structure_dollar_sqft_bin</th>\n",
       "      <th>land_dollar_per_sqft</th>\n",
       "      <th>lot_dollar_sqft_bin</th>\n",
       "      <th>bath_bed_ratio</th>\n",
       "      <th>cola</th>\n",
       "    </tr>\n",
       "  </thead>\n",
       "  <tbody>\n",
       "    <tr>\n",
       "      <th>31502</th>\n",
       "      <td>13036970</td>\n",
       "      <td>0.011672</td>\n",
       "      <td>2.0</td>\n",
       "      <td>4.0</td>\n",
       "      <td>1125.0</td>\n",
       "      <td>6037.0</td>\n",
       "      <td>34126148.0</td>\n",
       "      <td>-117856914.0</td>\n",
       "      <td>6776.0</td>\n",
       "      <td>11626.0</td>\n",
       "      <td>...</td>\n",
       "      <td>1.307240</td>\n",
       "      <td>0.155556</td>\n",
       "      <td>0.2</td>\n",
       "      <td>0.2</td>\n",
       "      <td>86.208000</td>\n",
       "      <td>0.3</td>\n",
       "      <td>8.438459</td>\n",
       "      <td>0.2</td>\n",
       "      <td>0.500000</td>\n",
       "      <td>0</td>\n",
       "    </tr>\n",
       "    <tr>\n",
       "      <th>30324</th>\n",
       "      <td>10785882</td>\n",
       "      <td>0.026080</td>\n",
       "      <td>2.0</td>\n",
       "      <td>3.0</td>\n",
       "      <td>1377.0</td>\n",
       "      <td>6037.0</td>\n",
       "      <td>34185892.0</td>\n",
       "      <td>-118554052.0</td>\n",
       "      <td>6838.0</td>\n",
       "      <td>12447.0</td>\n",
       "      <td>...</td>\n",
       "      <td>1.232719</td>\n",
       "      <td>0.156979</td>\n",
       "      <td>0.2</td>\n",
       "      <td>0.3</td>\n",
       "      <td>98.720407</td>\n",
       "      <td>0.3</td>\n",
       "      <td>25.724773</td>\n",
       "      <td>0.3</td>\n",
       "      <td>0.666667</td>\n",
       "      <td>1</td>\n",
       "    </tr>\n",
       "    <tr>\n",
       "      <th>5349</th>\n",
       "      <td>12431422</td>\n",
       "      <td>0.008721</td>\n",
       "      <td>1.0</td>\n",
       "      <td>3.0</td>\n",
       "      <td>1215.0</td>\n",
       "      <td>6037.0</td>\n",
       "      <td>33835356.0</td>\n",
       "      <td>-118099347.0</td>\n",
       "      <td>5026.0</td>\n",
       "      <td>12292.0</td>\n",
       "      <td>...</td>\n",
       "      <td>1.307506</td>\n",
       "      <td>0.115381</td>\n",
       "      <td>0.1</td>\n",
       "      <td>0.2</td>\n",
       "      <td>165.405761</td>\n",
       "      <td>0.5</td>\n",
       "      <td>15.026661</td>\n",
       "      <td>0.2</td>\n",
       "      <td>0.333333</td>\n",
       "      <td>0</td>\n",
       "    </tr>\n",
       "    <tr>\n",
       "      <th>14766</th>\n",
       "      <td>11208099</td>\n",
       "      <td>-0.010548</td>\n",
       "      <td>1.0</td>\n",
       "      <td>3.0</td>\n",
       "      <td>1156.0</td>\n",
       "      <td>6037.0</td>\n",
       "      <td>34583347.0</td>\n",
       "      <td>-118069180.0</td>\n",
       "      <td>7197.0</td>\n",
       "      <td>40227.0</td>\n",
       "      <td>...</td>\n",
       "      <td>2.736125</td>\n",
       "      <td>0.165220</td>\n",
       "      <td>0.2</td>\n",
       "      <td>0.2</td>\n",
       "      <td>37.702422</td>\n",
       "      <td>0.1</td>\n",
       "      <td>2.023204</td>\n",
       "      <td>0.1</td>\n",
       "      <td>0.333333</td>\n",
       "      <td>0</td>\n",
       "    </tr>\n",
       "    <tr>\n",
       "      <th>37693</th>\n",
       "      <td>11602933</td>\n",
       "      <td>-0.104575</td>\n",
       "      <td>2.0</td>\n",
       "      <td>3.0</td>\n",
       "      <td>2163.0</td>\n",
       "      <td>6037.0</td>\n",
       "      <td>34043256.0</td>\n",
       "      <td>-118404906.0</td>\n",
       "      <td>8557.0</td>\n",
       "      <td>12447.0</td>\n",
       "      <td>...</td>\n",
       "      <td>1.358167</td>\n",
       "      <td>0.196442</td>\n",
       "      <td>0.2</td>\n",
       "      <td>0.5</td>\n",
       "      <td>16.572353</td>\n",
       "      <td>0.0</td>\n",
       "      <td>10.259320</td>\n",
       "      <td>0.2</td>\n",
       "      <td>0.666667</td>\n",
       "      <td>1</td>\n",
       "    </tr>\n",
       "    <tr>\n",
       "      <th>...</th>\n",
       "      <td>...</td>\n",
       "      <td>...</td>\n",
       "      <td>...</td>\n",
       "      <td>...</td>\n",
       "      <td>...</td>\n",
       "      <td>...</td>\n",
       "      <td>...</td>\n",
       "      <td>...</td>\n",
       "      <td>...</td>\n",
       "      <td>...</td>\n",
       "      <td>...</td>\n",
       "      <td>...</td>\n",
       "      <td>...</td>\n",
       "      <td>...</td>\n",
       "      <td>...</td>\n",
       "      <td>...</td>\n",
       "      <td>...</td>\n",
       "      <td>...</td>\n",
       "      <td>...</td>\n",
       "      <td>...</td>\n",
       "      <td>...</td>\n",
       "    </tr>\n",
       "    <tr>\n",
       "      <th>18312</th>\n",
       "      <td>14261743</td>\n",
       "      <td>-0.175070</td>\n",
       "      <td>2.0</td>\n",
       "      <td>4.0</td>\n",
       "      <td>1361.0</td>\n",
       "      <td>6059.0</td>\n",
       "      <td>33720425.0</td>\n",
       "      <td>-117902104.0</td>\n",
       "      <td>8239.0</td>\n",
       "      <td>47568.0</td>\n",
       "      <td>...</td>\n",
       "      <td>1.194970</td>\n",
       "      <td>0.189141</td>\n",
       "      <td>0.2</td>\n",
       "      <td>0.3</td>\n",
       "      <td>56.872153</td>\n",
       "      <td>0.2</td>\n",
       "      <td>43.888457</td>\n",
       "      <td>0.3</td>\n",
       "      <td>0.500000</td>\n",
       "      <td>0</td>\n",
       "    </tr>\n",
       "    <tr>\n",
       "      <th>11011</th>\n",
       "      <td>14348434</td>\n",
       "      <td>-0.002562</td>\n",
       "      <td>3.0</td>\n",
       "      <td>4.0</td>\n",
       "      <td>2633.0</td>\n",
       "      <td>6059.0</td>\n",
       "      <td>33723874.0</td>\n",
       "      <td>-117757348.0</td>\n",
       "      <td>5293.0</td>\n",
       "      <td>52650.0</td>\n",
       "      <td>...</td>\n",
       "      <td>1.150753</td>\n",
       "      <td>0.121511</td>\n",
       "      <td>0.1</td>\n",
       "      <td>0.6</td>\n",
       "      <td>151.497531</td>\n",
       "      <td>0.5</td>\n",
       "      <td>155.232005</td>\n",
       "      <td>0.5</td>\n",
       "      <td>0.750000</td>\n",
       "      <td>0</td>\n",
       "    </tr>\n",
       "    <tr>\n",
       "      <th>28978</th>\n",
       "      <td>14165100</td>\n",
       "      <td>0.063066</td>\n",
       "      <td>2.0</td>\n",
       "      <td>4.0</td>\n",
       "      <td>1706.0</td>\n",
       "      <td>6059.0</td>\n",
       "      <td>33895040.0</td>\n",
       "      <td>-117806979.0</td>\n",
       "      <td>6885.0</td>\n",
       "      <td>21412.0</td>\n",
       "      <td>...</td>\n",
       "      <td>1.592896</td>\n",
       "      <td>0.158058</td>\n",
       "      <td>0.2</td>\n",
       "      <td>0.4</td>\n",
       "      <td>28.873974</td>\n",
       "      <td>0.1</td>\n",
       "      <td>2.855773</td>\n",
       "      <td>0.1</td>\n",
       "      <td>0.500000</td>\n",
       "      <td>0</td>\n",
       "    </tr>\n",
       "    <tr>\n",
       "      <th>31520</th>\n",
       "      <td>17078917</td>\n",
       "      <td>0.044403</td>\n",
       "      <td>1.0</td>\n",
       "      <td>2.0</td>\n",
       "      <td>1321.0</td>\n",
       "      <td>6111.0</td>\n",
       "      <td>34275636.0</td>\n",
       "      <td>-119264241.0</td>\n",
       "      <td>6000.0</td>\n",
       "      <td>34543.0</td>\n",
       "      <td>...</td>\n",
       "      <td>1.059441</td>\n",
       "      <td>0.137741</td>\n",
       "      <td>0.1</td>\n",
       "      <td>0.3</td>\n",
       "      <td>88.314913</td>\n",
       "      <td>0.3</td>\n",
       "      <td>20.231000</td>\n",
       "      <td>0.3</td>\n",
       "      <td>0.500000</td>\n",
       "      <td>0</td>\n",
       "    </tr>\n",
       "    <tr>\n",
       "      <th>3202</th>\n",
       "      <td>12451632</td>\n",
       "      <td>-0.008361</td>\n",
       "      <td>1.0</td>\n",
       "      <td>2.0</td>\n",
       "      <td>911.0</td>\n",
       "      <td>6037.0</td>\n",
       "      <td>33862484.0</td>\n",
       "      <td>-118171283.0</td>\n",
       "      <td>4570.0</td>\n",
       "      <td>46298.0</td>\n",
       "      <td>...</td>\n",
       "      <td>1.213148</td>\n",
       "      <td>0.104913</td>\n",
       "      <td>0.1</td>\n",
       "      <td>0.1</td>\n",
       "      <td>98.299671</td>\n",
       "      <td>0.3</td>\n",
       "      <td>41.949453</td>\n",
       "      <td>0.3</td>\n",
       "      <td>0.500000</td>\n",
       "      <td>0</td>\n",
       "    </tr>\n",
       "  </tbody>\n",
       "</table>\n",
       "<p>12163 rows × 29 columns</p>\n",
       "</div>"
      ],
      "text/plain": [
       "       parcelid  logerror  bathrooms  bedrooms  sq_feet    fips    latitude  \\\n",
       "31502  13036970  0.011672        2.0       4.0   1125.0  6037.0  34126148.0   \n",
       "30324  10785882  0.026080        2.0       3.0   1377.0  6037.0  34185892.0   \n",
       "5349   12431422  0.008721        1.0       3.0   1215.0  6037.0  33835356.0   \n",
       "14766  11208099 -0.010548        1.0       3.0   1156.0  6037.0  34583347.0   \n",
       "37693  11602933 -0.104575        2.0       3.0   2163.0  6037.0  34043256.0   \n",
       "...         ...       ...        ...       ...      ...     ...         ...   \n",
       "18312  14261743 -0.175070        2.0       4.0   1361.0  6059.0  33720425.0   \n",
       "11011  14348434 -0.002562        3.0       4.0   2633.0  6059.0  33723874.0   \n",
       "28978  14165100  0.063066        2.0       4.0   1706.0  6059.0  33895040.0   \n",
       "31520  17078917  0.044403        1.0       2.0   1321.0  6111.0  34275636.0   \n",
       "3202   12451632 -0.008361        1.0       2.0    911.0  6037.0  33862484.0   \n",
       "\n",
       "         longitude  lotsizesquarefeet  regionidcity  ...   taxrate     acres  \\\n",
       "31502 -117856914.0             6776.0       11626.0  ...  1.307240  0.155556   \n",
       "30324 -118554052.0             6838.0       12447.0  ...  1.232719  0.156979   \n",
       "5349  -118099347.0             5026.0       12292.0  ...  1.307506  0.115381   \n",
       "14766 -118069180.0             7197.0       40227.0  ...  2.736125  0.165220   \n",
       "37693 -118404906.0             8557.0       12447.0  ...  1.358167  0.196442   \n",
       "...            ...                ...           ...  ...       ...       ...   \n",
       "18312 -117902104.0             8239.0       47568.0  ...  1.194970  0.189141   \n",
       "11011 -117757348.0             5293.0       52650.0  ...  1.150753  0.121511   \n",
       "28978 -117806979.0             6885.0       21412.0  ...  1.592896  0.158058   \n",
       "31520 -119264241.0             6000.0       34543.0  ...  1.059441  0.137741   \n",
       "3202  -118171283.0             4570.0       46298.0  ...  1.213148  0.104913   \n",
       "\n",
       "       acres_bin  sqft_bin  structure_dollar_per_sqft  \\\n",
       "31502        0.2       0.2                  86.208000   \n",
       "30324        0.2       0.3                  98.720407   \n",
       "5349         0.1       0.2                 165.405761   \n",
       "14766        0.2       0.2                  37.702422   \n",
       "37693        0.2       0.5                  16.572353   \n",
       "...          ...       ...                        ...   \n",
       "18312        0.2       0.3                  56.872153   \n",
       "11011        0.1       0.6                 151.497531   \n",
       "28978        0.2       0.4                  28.873974   \n",
       "31520        0.1       0.3                  88.314913   \n",
       "3202         0.1       0.1                  98.299671   \n",
       "\n",
       "       structure_dollar_sqft_bin  land_dollar_per_sqft  lot_dollar_sqft_bin  \\\n",
       "31502                        0.3              8.438459                  0.2   \n",
       "30324                        0.3             25.724773                  0.3   \n",
       "5349                         0.5             15.026661                  0.2   \n",
       "14766                        0.1              2.023204                  0.1   \n",
       "37693                        0.0             10.259320                  0.2   \n",
       "...                          ...                   ...                  ...   \n",
       "18312                        0.2             43.888457                  0.3   \n",
       "11011                        0.5            155.232005                  0.5   \n",
       "28978                        0.1              2.855773                  0.1   \n",
       "31520                        0.3             20.231000                  0.3   \n",
       "3202                         0.3             41.949453                  0.3   \n",
       "\n",
       "       bath_bed_ratio  cola  \n",
       "31502        0.500000     0  \n",
       "30324        0.666667     1  \n",
       "5349         0.333333     0  \n",
       "14766        0.333333     0  \n",
       "37693        0.666667     1  \n",
       "...               ...   ...  \n",
       "18312        0.500000     0  \n",
       "11011        0.750000     0  \n",
       "28978        0.500000     0  \n",
       "31520        0.500000     0  \n",
       "3202         0.500000     0  \n",
       "\n",
       "[12163 rows x 29 columns]"
      ]
     },
     "execution_count": 76,
     "metadata": {},
     "output_type": "execute_result"
    }
   ],
   "source": [
    "validate"
   ]
  },
  {
   "cell_type": "code",
   "execution_count": 77,
   "id": "2ff6bc47",
   "metadata": {},
   "outputs": [],
   "source": [
    "X_validate_scaled = validate_scaled[['bedrooms','bathrooms','sq_feet']]"
   ]
  },
  {
   "cell_type": "code",
   "execution_count": 78,
   "id": "bd0e421d",
   "metadata": {},
   "outputs": [],
   "source": [
    "interior_cluster_k7_pred_val = kmeans.predict(X_validate_scaled)"
   ]
  },
  {
   "cell_type": "code",
   "execution_count": 79,
   "id": "ef67dfa8",
   "metadata": {},
   "outputs": [],
   "source": [
    "val_pred = pd.DataFrame(kmeans.predict(X_validate_scaled))#, columns='interior_cluster_k7_pred_val')"
   ]
  },
  {
   "cell_type": "code",
   "execution_count": 80,
   "id": "2fadab19",
   "metadata": {},
   "outputs": [
    {
     "name": "stdout",
     "output_type": "stream",
     "text": [
      "<class 'pandas.core.frame.DataFrame'>\n",
      "RangeIndex: 12163 entries, 0 to 12162\n",
      "Data columns (total 1 columns):\n",
      " #   Column  Non-Null Count  Dtype\n",
      "---  ------  --------------  -----\n",
      " 0   0       12163 non-null  int32\n",
      "dtypes: int32(1)\n",
      "memory usage: 47.6 KB\n"
     ]
    }
   ],
   "source": [
    "val_pred.info()"
   ]
  },
  {
   "cell_type": "code",
   "execution_count": 81,
   "id": "a6e300e7",
   "metadata": {},
   "outputs": [],
   "source": [
    "val_pred_dummies = pd.get_dummies(val_pred[0], dummy_na=False, drop_first=False)"
   ]
  },
  {
   "cell_type": "code",
   "execution_count": 82,
   "id": "86c7a69b",
   "metadata": {},
   "outputs": [],
   "source": [
    "validate['interior_cluster_k7_pred_val'] = kmeans.predict(X_validate_scaled)"
   ]
  },
  {
   "cell_type": "code",
   "execution_count": 83,
   "id": "09c3bacd",
   "metadata": {
    "scrolled": true
   },
   "outputs": [
    {
     "name": "stdout",
     "output_type": "stream",
     "text": [
      "<class 'pandas.core.frame.DataFrame'>\n",
      "Int64Index: 12163 entries, 31502 to 3202\n",
      "Data columns (total 30 columns):\n",
      " #   Column                        Non-Null Count  Dtype  \n",
      "---  ------                        --------------  -----  \n",
      " 0   parcelid                      12163 non-null  int64  \n",
      " 1   logerror                      12163 non-null  float64\n",
      " 2   bathrooms                     12163 non-null  float64\n",
      " 3   bedrooms                      12163 non-null  float64\n",
      " 4   sq_feet                       12163 non-null  float64\n",
      " 5   fips                          12163 non-null  float64\n",
      " 6   latitude                      12163 non-null  float64\n",
      " 7   longitude                     12163 non-null  float64\n",
      " 8   lotsizesquarefeet             12163 non-null  float64\n",
      " 9   regionidcity                  12163 non-null  float64\n",
      " 10  regionidcounty                12163 non-null  float64\n",
      " 11  regionidzip                   12163 non-null  float64\n",
      " 12  year_built                    12163 non-null  float64\n",
      " 13  structuretaxvaluedollarcnt    12163 non-null  float64\n",
      " 14  tax_value                     12163 non-null  float64\n",
      " 15  landtaxvaluedollarcnt         12163 non-null  float64\n",
      " 16  tax_amount                    12163 non-null  float64\n",
      " 17  age                           12163 non-null  float64\n",
      " 18  age_bin                       12163 non-null  float64\n",
      " 19  taxrate                       12163 non-null  float64\n",
      " 20  acres                         12163 non-null  float64\n",
      " 21  acres_bin                     12163 non-null  float64\n",
      " 22  sqft_bin                      12163 non-null  float64\n",
      " 23  structure_dollar_per_sqft     12163 non-null  float64\n",
      " 24  structure_dollar_sqft_bin     12163 non-null  float64\n",
      " 25  land_dollar_per_sqft          12163 non-null  float64\n",
      " 26  lot_dollar_sqft_bin           12163 non-null  float64\n",
      " 27  bath_bed_ratio                12163 non-null  float64\n",
      " 28  cola                          12163 non-null  int64  \n",
      " 29  interior_cluster_k7_pred_val  12163 non-null  int32  \n",
      "dtypes: float64(27), int32(1), int64(2)\n",
      "memory usage: 2.8 MB\n"
     ]
    }
   ],
   "source": [
    "validate.info()"
   ]
  },
  {
   "cell_type": "code",
   "execution_count": 84,
   "id": "ceca3b36",
   "metadata": {},
   "outputs": [],
   "source": [
    "dummy_df_val = pd.get_dummies(validate['interior_cluster_k7_pred_val'], dummy_na=False, drop_first=False)"
   ]
  },
  {
   "cell_type": "code",
   "execution_count": 85,
   "id": "7de33782",
   "metadata": {},
   "outputs": [
    {
     "data": {
      "text/html": [
       "<div>\n",
       "<style scoped>\n",
       "    .dataframe tbody tr th:only-of-type {\n",
       "        vertical-align: middle;\n",
       "    }\n",
       "\n",
       "    .dataframe tbody tr th {\n",
       "        vertical-align: top;\n",
       "    }\n",
       "\n",
       "    .dataframe thead th {\n",
       "        text-align: right;\n",
       "    }\n",
       "</style>\n",
       "<table border=\"1\" class=\"dataframe\">\n",
       "  <thead>\n",
       "    <tr style=\"text-align: right;\">\n",
       "      <th></th>\n",
       "      <th>0</th>\n",
       "      <th>1</th>\n",
       "      <th>2</th>\n",
       "      <th>3</th>\n",
       "      <th>4</th>\n",
       "      <th>5</th>\n",
       "      <th>6</th>\n",
       "    </tr>\n",
       "  </thead>\n",
       "  <tbody>\n",
       "    <tr>\n",
       "      <th>31502</th>\n",
       "      <td>0</td>\n",
       "      <td>1</td>\n",
       "      <td>0</td>\n",
       "      <td>0</td>\n",
       "      <td>0</td>\n",
       "      <td>0</td>\n",
       "      <td>0</td>\n",
       "    </tr>\n",
       "    <tr>\n",
       "      <th>30324</th>\n",
       "      <td>0</td>\n",
       "      <td>0</td>\n",
       "      <td>0</td>\n",
       "      <td>0</td>\n",
       "      <td>0</td>\n",
       "      <td>1</td>\n",
       "      <td>0</td>\n",
       "    </tr>\n",
       "    <tr>\n",
       "      <th>5349</th>\n",
       "      <td>1</td>\n",
       "      <td>0</td>\n",
       "      <td>0</td>\n",
       "      <td>0</td>\n",
       "      <td>0</td>\n",
       "      <td>0</td>\n",
       "      <td>0</td>\n",
       "    </tr>\n",
       "    <tr>\n",
       "      <th>14766</th>\n",
       "      <td>1</td>\n",
       "      <td>0</td>\n",
       "      <td>0</td>\n",
       "      <td>0</td>\n",
       "      <td>0</td>\n",
       "      <td>0</td>\n",
       "      <td>0</td>\n",
       "    </tr>\n",
       "    <tr>\n",
       "      <th>37693</th>\n",
       "      <td>0</td>\n",
       "      <td>0</td>\n",
       "      <td>0</td>\n",
       "      <td>0</td>\n",
       "      <td>0</td>\n",
       "      <td>1</td>\n",
       "      <td>0</td>\n",
       "    </tr>\n",
       "    <tr>\n",
       "      <th>...</th>\n",
       "      <td>...</td>\n",
       "      <td>...</td>\n",
       "      <td>...</td>\n",
       "      <td>...</td>\n",
       "      <td>...</td>\n",
       "      <td>...</td>\n",
       "      <td>...</td>\n",
       "    </tr>\n",
       "    <tr>\n",
       "      <th>18312</th>\n",
       "      <td>0</td>\n",
       "      <td>1</td>\n",
       "      <td>0</td>\n",
       "      <td>0</td>\n",
       "      <td>0</td>\n",
       "      <td>0</td>\n",
       "      <td>0</td>\n",
       "    </tr>\n",
       "    <tr>\n",
       "      <th>11011</th>\n",
       "      <td>0</td>\n",
       "      <td>0</td>\n",
       "      <td>1</td>\n",
       "      <td>0</td>\n",
       "      <td>0</td>\n",
       "      <td>0</td>\n",
       "      <td>0</td>\n",
       "    </tr>\n",
       "    <tr>\n",
       "      <th>28978</th>\n",
       "      <td>0</td>\n",
       "      <td>1</td>\n",
       "      <td>0</td>\n",
       "      <td>0</td>\n",
       "      <td>0</td>\n",
       "      <td>0</td>\n",
       "      <td>0</td>\n",
       "    </tr>\n",
       "    <tr>\n",
       "      <th>31520</th>\n",
       "      <td>0</td>\n",
       "      <td>0</td>\n",
       "      <td>0</td>\n",
       "      <td>0</td>\n",
       "      <td>0</td>\n",
       "      <td>0</td>\n",
       "      <td>1</td>\n",
       "    </tr>\n",
       "    <tr>\n",
       "      <th>3202</th>\n",
       "      <td>0</td>\n",
       "      <td>0</td>\n",
       "      <td>0</td>\n",
       "      <td>0</td>\n",
       "      <td>0</td>\n",
       "      <td>0</td>\n",
       "      <td>1</td>\n",
       "    </tr>\n",
       "  </tbody>\n",
       "</table>\n",
       "<p>12163 rows × 7 columns</p>\n",
       "</div>"
      ],
      "text/plain": [
       "       0  1  2  3  4  5  6\n",
       "31502  0  1  0  0  0  0  0\n",
       "30324  0  0  0  0  0  1  0\n",
       "5349   1  0  0  0  0  0  0\n",
       "14766  1  0  0  0  0  0  0\n",
       "37693  0  0  0  0  0  1  0\n",
       "...   .. .. .. .. .. .. ..\n",
       "18312  0  1  0  0  0  0  0\n",
       "11011  0  0  1  0  0  0  0\n",
       "28978  0  1  0  0  0  0  0\n",
       "31520  0  0  0  0  0  0  1\n",
       "3202   0  0  0  0  0  0  1\n",
       "\n",
       "[12163 rows x 7 columns]"
      ]
     },
     "execution_count": 85,
     "metadata": {},
     "output_type": "execute_result"
    }
   ],
   "source": [
    "dummy_df_val.rename(columns={'3': 'is_cluster_3_k7_pred'})"
   ]
  },
  {
   "cell_type": "code",
   "execution_count": 86,
   "id": "02e136a0",
   "metadata": {},
   "outputs": [
    {
     "name": "stdout",
     "output_type": "stream",
     "text": [
      "<class 'pandas.core.frame.DataFrame'>\n",
      "Int64Index: 12163 entries, 31502 to 3202\n",
      "Data columns (total 7 columns):\n",
      " #   Column  Non-Null Count  Dtype\n",
      "---  ------  --------------  -----\n",
      " 0   0       12163 non-null  uint8\n",
      " 1   1       12163 non-null  uint8\n",
      " 2   2       12163 non-null  uint8\n",
      " 3   3       12163 non-null  uint8\n",
      " 4   4       12163 non-null  uint8\n",
      " 5   5       12163 non-null  uint8\n",
      " 6   6       12163 non-null  uint8\n",
      "dtypes: uint8(7)\n",
      "memory usage: 178.2 KB\n"
     ]
    }
   ],
   "source": [
    "dummy_df_val.info()"
   ]
  },
  {
   "cell_type": "code",
   "execution_count": 87,
   "id": "0959014f",
   "metadata": {},
   "outputs": [],
   "source": [
    "validate = pd.concat([validate, dummy_df_val], axis=1)\n",
    "#pd.concat([train_clusters, X['interior_cluster4']], axis=1)"
   ]
  },
  {
   "cell_type": "code",
   "execution_count": 88,
   "id": "dc2855ba",
   "metadata": {},
   "outputs": [],
   "source": [
    "validate = validate.rename(columns={3:'is_cluster_3_k7_pred'})"
   ]
  },
  {
   "cell_type": "code",
   "execution_count": 89,
   "id": "725f977d",
   "metadata": {},
   "outputs": [],
   "source": [
    "#validate.info()"
   ]
  },
  {
   "cell_type": "code",
   "execution_count": 90,
   "id": "b01c63c4",
   "metadata": {
    "scrolled": true
   },
   "outputs": [
    {
     "data": {
      "text/html": [
       "<div>\n",
       "<style scoped>\n",
       "    .dataframe tbody tr th:only-of-type {\n",
       "        vertical-align: middle;\n",
       "    }\n",
       "\n",
       "    .dataframe tbody tr th {\n",
       "        vertical-align: top;\n",
       "    }\n",
       "\n",
       "    .dataframe thead th {\n",
       "        text-align: right;\n",
       "    }\n",
       "</style>\n",
       "<table border=\"1\" class=\"dataframe\">\n",
       "  <thead>\n",
       "    <tr style=\"text-align: right;\">\n",
       "      <th></th>\n",
       "      <th>parcelid</th>\n",
       "      <th>logerror</th>\n",
       "      <th>bathrooms</th>\n",
       "      <th>bedrooms</th>\n",
       "      <th>sq_feet</th>\n",
       "      <th>fips</th>\n",
       "      <th>latitude</th>\n",
       "      <th>longitude</th>\n",
       "      <th>lotsizesquarefeet</th>\n",
       "      <th>regionidcity</th>\n",
       "      <th>...</th>\n",
       "      <th>bath_bed_ratio</th>\n",
       "      <th>cola</th>\n",
       "      <th>interior_cluster_k7_pred_val</th>\n",
       "      <th>0</th>\n",
       "      <th>1</th>\n",
       "      <th>2</th>\n",
       "      <th>is_cluster_3_k7_pred</th>\n",
       "      <th>4</th>\n",
       "      <th>5</th>\n",
       "      <th>6</th>\n",
       "    </tr>\n",
       "  </thead>\n",
       "  <tbody>\n",
       "    <tr>\n",
       "      <th>31502</th>\n",
       "      <td>13036970</td>\n",
       "      <td>0.011672</td>\n",
       "      <td>2.0</td>\n",
       "      <td>4.0</td>\n",
       "      <td>1125.0</td>\n",
       "      <td>6037.0</td>\n",
       "      <td>34126148.0</td>\n",
       "      <td>-117856914.0</td>\n",
       "      <td>6776.0</td>\n",
       "      <td>11626.0</td>\n",
       "      <td>...</td>\n",
       "      <td>0.500000</td>\n",
       "      <td>0</td>\n",
       "      <td>1</td>\n",
       "      <td>0</td>\n",
       "      <td>1</td>\n",
       "      <td>0</td>\n",
       "      <td>0</td>\n",
       "      <td>0</td>\n",
       "      <td>0</td>\n",
       "      <td>0</td>\n",
       "    </tr>\n",
       "    <tr>\n",
       "      <th>30324</th>\n",
       "      <td>10785882</td>\n",
       "      <td>0.026080</td>\n",
       "      <td>2.0</td>\n",
       "      <td>3.0</td>\n",
       "      <td>1377.0</td>\n",
       "      <td>6037.0</td>\n",
       "      <td>34185892.0</td>\n",
       "      <td>-118554052.0</td>\n",
       "      <td>6838.0</td>\n",
       "      <td>12447.0</td>\n",
       "      <td>...</td>\n",
       "      <td>0.666667</td>\n",
       "      <td>1</td>\n",
       "      <td>5</td>\n",
       "      <td>0</td>\n",
       "      <td>0</td>\n",
       "      <td>0</td>\n",
       "      <td>0</td>\n",
       "      <td>0</td>\n",
       "      <td>1</td>\n",
       "      <td>0</td>\n",
       "    </tr>\n",
       "    <tr>\n",
       "      <th>5349</th>\n",
       "      <td>12431422</td>\n",
       "      <td>0.008721</td>\n",
       "      <td>1.0</td>\n",
       "      <td>3.0</td>\n",
       "      <td>1215.0</td>\n",
       "      <td>6037.0</td>\n",
       "      <td>33835356.0</td>\n",
       "      <td>-118099347.0</td>\n",
       "      <td>5026.0</td>\n",
       "      <td>12292.0</td>\n",
       "      <td>...</td>\n",
       "      <td>0.333333</td>\n",
       "      <td>0</td>\n",
       "      <td>0</td>\n",
       "      <td>1</td>\n",
       "      <td>0</td>\n",
       "      <td>0</td>\n",
       "      <td>0</td>\n",
       "      <td>0</td>\n",
       "      <td>0</td>\n",
       "      <td>0</td>\n",
       "    </tr>\n",
       "    <tr>\n",
       "      <th>14766</th>\n",
       "      <td>11208099</td>\n",
       "      <td>-0.010548</td>\n",
       "      <td>1.0</td>\n",
       "      <td>3.0</td>\n",
       "      <td>1156.0</td>\n",
       "      <td>6037.0</td>\n",
       "      <td>34583347.0</td>\n",
       "      <td>-118069180.0</td>\n",
       "      <td>7197.0</td>\n",
       "      <td>40227.0</td>\n",
       "      <td>...</td>\n",
       "      <td>0.333333</td>\n",
       "      <td>0</td>\n",
       "      <td>0</td>\n",
       "      <td>1</td>\n",
       "      <td>0</td>\n",
       "      <td>0</td>\n",
       "      <td>0</td>\n",
       "      <td>0</td>\n",
       "      <td>0</td>\n",
       "      <td>0</td>\n",
       "    </tr>\n",
       "    <tr>\n",
       "      <th>37693</th>\n",
       "      <td>11602933</td>\n",
       "      <td>-0.104575</td>\n",
       "      <td>2.0</td>\n",
       "      <td>3.0</td>\n",
       "      <td>2163.0</td>\n",
       "      <td>6037.0</td>\n",
       "      <td>34043256.0</td>\n",
       "      <td>-118404906.0</td>\n",
       "      <td>8557.0</td>\n",
       "      <td>12447.0</td>\n",
       "      <td>...</td>\n",
       "      <td>0.666667</td>\n",
       "      <td>1</td>\n",
       "      <td>5</td>\n",
       "      <td>0</td>\n",
       "      <td>0</td>\n",
       "      <td>0</td>\n",
       "      <td>0</td>\n",
       "      <td>0</td>\n",
       "      <td>1</td>\n",
       "      <td>0</td>\n",
       "    </tr>\n",
       "  </tbody>\n",
       "</table>\n",
       "<p>5 rows × 37 columns</p>\n",
       "</div>"
      ],
      "text/plain": [
       "       parcelid  logerror  bathrooms  bedrooms  sq_feet    fips    latitude  \\\n",
       "31502  13036970  0.011672        2.0       4.0   1125.0  6037.0  34126148.0   \n",
       "30324  10785882  0.026080        2.0       3.0   1377.0  6037.0  34185892.0   \n",
       "5349   12431422  0.008721        1.0       3.0   1215.0  6037.0  33835356.0   \n",
       "14766  11208099 -0.010548        1.0       3.0   1156.0  6037.0  34583347.0   \n",
       "37693  11602933 -0.104575        2.0       3.0   2163.0  6037.0  34043256.0   \n",
       "\n",
       "         longitude  lotsizesquarefeet  regionidcity  ...  bath_bed_ratio  \\\n",
       "31502 -117856914.0             6776.0       11626.0  ...        0.500000   \n",
       "30324 -118554052.0             6838.0       12447.0  ...        0.666667   \n",
       "5349  -118099347.0             5026.0       12292.0  ...        0.333333   \n",
       "14766 -118069180.0             7197.0       40227.0  ...        0.333333   \n",
       "37693 -118404906.0             8557.0       12447.0  ...        0.666667   \n",
       "\n",
       "       cola  interior_cluster_k7_pred_val  0  1  2  is_cluster_3_k7_pred  4  \\\n",
       "31502     0                             1  0  1  0                     0  0   \n",
       "30324     1                             5  0  0  0                     0  0   \n",
       "5349      0                             0  1  0  0                     0  0   \n",
       "14766     0                             0  1  0  0                     0  0   \n",
       "37693     1                             5  0  0  0                     0  0   \n",
       "\n",
       "       5  6  \n",
       "31502  0  0  \n",
       "30324  1  0  \n",
       "5349   0  0  \n",
       "14766  0  0  \n",
       "37693  1  0  \n",
       "\n",
       "[5 rows x 37 columns]"
      ]
     },
     "execution_count": 90,
     "metadata": {},
     "output_type": "execute_result"
    }
   ],
   "source": [
    "validate.head()"
   ]
  },
  {
   "cell_type": "code",
   "execution_count": 91,
   "id": "1350a65b",
   "metadata": {},
   "outputs": [
    {
     "name": "stdout",
     "output_type": "stream",
     "text": [
      "<class 'pandas.core.frame.DataFrame'>\n",
      "Int64Index: 12163 entries, 31502 to 3202\n",
      "Data columns (total 29 columns):\n",
      " #   Column                      Non-Null Count  Dtype  \n",
      "---  ------                      --------------  -----  \n",
      " 0   parcelid                    12163 non-null  int64  \n",
      " 1   logerror                    12163 non-null  float64\n",
      " 2   bathrooms                   12163 non-null  float64\n",
      " 3   bedrooms                    12163 non-null  float64\n",
      " 4   sq_feet                     12163 non-null  float64\n",
      " 5   fips                        12163 non-null  float64\n",
      " 6   latitude                    12163 non-null  float64\n",
      " 7   longitude                   12163 non-null  float64\n",
      " 8   lotsizesquarefeet           12163 non-null  float64\n",
      " 9   regionidcity                12163 non-null  float64\n",
      " 10  regionidcounty              12163 non-null  float64\n",
      " 11  regionidzip                 12163 non-null  float64\n",
      " 12  year_built                  12163 non-null  float64\n",
      " 13  structuretaxvaluedollarcnt  12163 non-null  float64\n",
      " 14  tax_value                   12163 non-null  float64\n",
      " 15  landtaxvaluedollarcnt       12163 non-null  float64\n",
      " 16  tax_amount                  12163 non-null  float64\n",
      " 17  age                         12163 non-null  float64\n",
      " 18  age_bin                     12163 non-null  float64\n",
      " 19  taxrate                     12163 non-null  float64\n",
      " 20  acres                       12163 non-null  float64\n",
      " 21  acres_bin                   12163 non-null  float64\n",
      " 22  sqft_bin                    12163 non-null  float64\n",
      " 23  structure_dollar_per_sqft   12163 non-null  float64\n",
      " 24  structure_dollar_sqft_bin   12163 non-null  float64\n",
      " 25  land_dollar_per_sqft        12163 non-null  float64\n",
      " 26  lot_dollar_sqft_bin         12163 non-null  float64\n",
      " 27  bath_bed_ratio              12163 non-null  float64\n",
      " 28  cola                        12163 non-null  int64  \n",
      "dtypes: float64(27), int64(2)\n",
      "memory usage: 2.8 MB\n"
     ]
    }
   ],
   "source": [
    "validate_scaled.info()"
   ]
  },
  {
   "cell_type": "markdown",
   "id": "79a439bf",
   "metadata": {},
   "source": [
    "# Make a function that gets cluster group and encoded column for significant group"
   ]
  },
  {
   "cell_type": "code",
   "execution_count": 92,
   "id": "cb194ae6",
   "metadata": {},
   "outputs": [],
   "source": [
    "def get_train_clusters():\n",
    "    \n",
    "    X_train_scaled = train_scaled[['bedrooms','bathrooms', 'sq_feet']]\n",
    "    X_train = train[['bedrooms','bathrooms', 'sq_feet']]\n",
    "    \n",
    "    cluster_vars = ['bedrooms','bathrooms', 'sq_feet']\n",
    "    cluster_name = 'interior_cluster_k7'\n",
    "    k_range = range(2,20)\n",
    "    \n",
    "    kmeans = create_clusters(X_train_scaled, 7, cluster_vars)\n",
    "    \n",
    "    centroid_df = get_centroids(kmeans, cluster_vars, cluster_name)\n",
    "    \n",
    "    X = assign_clusters(X_train_scaled, kmeans, cluster_vars, cluster_name, centroid_df)\n",
    "    \n",
    "    dummy_df = pd.get_dummies(X['interior_cluster_k7'], dummy_na=False, drop_first=False)\n",
    "    \n",
    "    dummy_df = dummy_df.rename(columns={3:'is_cluster_3_k7'})\n",
    "    \n",
    "    X_train_scaled = pd.concat([X_train_scaled, dummy_df['is_cluster_3_k7']], axis=1)\n",
    "    X_train = pd.concat([X_train, dummy_df['is_cluster_3_k7']], axis=1)\n",
    "    \n",
    "    return X_train, X_train_scaled"
   ]
  },
  {
   "cell_type": "code",
   "execution_count": 93,
   "id": "d51a754d",
   "metadata": {},
   "outputs": [],
   "source": [
    "X_train, X_train_scaled = get_train_clusters()"
   ]
  },
  {
   "cell_type": "code",
   "execution_count": 94,
   "id": "cc76601f",
   "metadata": {},
   "outputs": [
    {
     "name": "stdout",
     "output_type": "stream",
     "text": [
      "<class 'pandas.core.frame.DataFrame'>\n",
      "Int64Index: 28378 entries, 40409 to 26237\n",
      "Data columns (total 4 columns):\n",
      " #   Column           Non-Null Count  Dtype  \n",
      "---  ------           --------------  -----  \n",
      " 0   bedrooms         28378 non-null  float64\n",
      " 1   bathrooms        28378 non-null  float64\n",
      " 2   sq_feet          28378 non-null  float64\n",
      " 3   is_cluster_3_k7  28378 non-null  uint8  \n",
      "dtypes: float64(3), uint8(1)\n",
      "memory usage: 914.5 KB\n"
     ]
    }
   ],
   "source": [
    "X_train.info()"
   ]
  },
  {
   "cell_type": "code",
   "execution_count": 95,
   "id": "d63a52ec",
   "metadata": {},
   "outputs": [
    {
     "data": {
      "text/html": [
       "<div>\n",
       "<style scoped>\n",
       "    .dataframe tbody tr th:only-of-type {\n",
       "        vertical-align: middle;\n",
       "    }\n",
       "\n",
       "    .dataframe tbody tr th {\n",
       "        vertical-align: top;\n",
       "    }\n",
       "\n",
       "    .dataframe thead th {\n",
       "        text-align: right;\n",
       "    }\n",
       "</style>\n",
       "<table border=\"1\" class=\"dataframe\">\n",
       "  <thead>\n",
       "    <tr style=\"text-align: right;\">\n",
       "      <th></th>\n",
       "      <th>bedrooms</th>\n",
       "      <th>bathrooms</th>\n",
       "      <th>sq_feet</th>\n",
       "      <th>is_cluster_3_k7</th>\n",
       "    </tr>\n",
       "  </thead>\n",
       "  <tbody>\n",
       "    <tr>\n",
       "      <th>40409</th>\n",
       "      <td>0.333333</td>\n",
       "      <td>0.416667</td>\n",
       "      <td>0.275165</td>\n",
       "      <td>1</td>\n",
       "    </tr>\n",
       "    <tr>\n",
       "      <th>23172</th>\n",
       "      <td>0.500000</td>\n",
       "      <td>0.500000</td>\n",
       "      <td>0.269389</td>\n",
       "      <td>1</td>\n",
       "    </tr>\n",
       "    <tr>\n",
       "      <th>49707</th>\n",
       "      <td>0.500000</td>\n",
       "      <td>0.333333</td>\n",
       "      <td>0.195132</td>\n",
       "      <td>1</td>\n",
       "    </tr>\n",
       "    <tr>\n",
       "      <th>36587</th>\n",
       "      <td>0.500000</td>\n",
       "      <td>0.333333</td>\n",
       "      <td>0.151609</td>\n",
       "      <td>1</td>\n",
       "    </tr>\n",
       "    <tr>\n",
       "      <th>6405</th>\n",
       "      <td>0.333333</td>\n",
       "      <td>0.166667</td>\n",
       "      <td>0.092616</td>\n",
       "      <td>1</td>\n",
       "    </tr>\n",
       "    <tr>\n",
       "      <th>...</th>\n",
       "      <td>...</td>\n",
       "      <td>...</td>\n",
       "      <td>...</td>\n",
       "      <td>...</td>\n",
       "    </tr>\n",
       "    <tr>\n",
       "      <th>19982</th>\n",
       "      <td>0.333333</td>\n",
       "      <td>0.000000</td>\n",
       "      <td>0.087459</td>\n",
       "      <td>0</td>\n",
       "    </tr>\n",
       "    <tr>\n",
       "      <th>1766</th>\n",
       "      <td>0.500000</td>\n",
       "      <td>0.333333</td>\n",
       "      <td>0.249381</td>\n",
       "      <td>0</td>\n",
       "    </tr>\n",
       "    <tr>\n",
       "      <th>5102</th>\n",
       "      <td>0.333333</td>\n",
       "      <td>0.166667</td>\n",
       "      <td>0.117574</td>\n",
       "      <td>0</td>\n",
       "    </tr>\n",
       "    <tr>\n",
       "      <th>34399</th>\n",
       "      <td>0.333333</td>\n",
       "      <td>0.166667</td>\n",
       "      <td>0.220606</td>\n",
       "      <td>0</td>\n",
       "    </tr>\n",
       "    <tr>\n",
       "      <th>26237</th>\n",
       "      <td>0.500000</td>\n",
       "      <td>0.166667</td>\n",
       "      <td>0.133663</td>\n",
       "      <td>0</td>\n",
       "    </tr>\n",
       "  </tbody>\n",
       "</table>\n",
       "<p>28378 rows × 4 columns</p>\n",
       "</div>"
      ],
      "text/plain": [
       "       bedrooms  bathrooms   sq_feet  is_cluster_3_k7\n",
       "40409  0.333333   0.416667  0.275165                1\n",
       "23172  0.500000   0.500000  0.269389                1\n",
       "49707  0.500000   0.333333  0.195132                1\n",
       "36587  0.500000   0.333333  0.151609                1\n",
       "6405   0.333333   0.166667  0.092616                1\n",
       "...         ...        ...       ...              ...\n",
       "19982  0.333333   0.000000  0.087459                0\n",
       "1766   0.500000   0.333333  0.249381                0\n",
       "5102   0.333333   0.166667  0.117574                0\n",
       "34399  0.333333   0.166667  0.220606                0\n",
       "26237  0.500000   0.166667  0.133663                0\n",
       "\n",
       "[28378 rows x 4 columns]"
      ]
     },
     "execution_count": 95,
     "metadata": {},
     "output_type": "execute_result"
    }
   ],
   "source": [
    "X_train_scaled"
   ]
  },
  {
   "cell_type": "code",
   "execution_count": 96,
   "id": "1132393c",
   "metadata": {},
   "outputs": [
    {
     "data": {
      "text/html": [
       "<div>\n",
       "<style scoped>\n",
       "    .dataframe tbody tr th:only-of-type {\n",
       "        vertical-align: middle;\n",
       "    }\n",
       "\n",
       "    .dataframe tbody tr th {\n",
       "        vertical-align: top;\n",
       "    }\n",
       "\n",
       "    .dataframe thead th {\n",
       "        text-align: right;\n",
       "    }\n",
       "</style>\n",
       "<table border=\"1\" class=\"dataframe\">\n",
       "  <thead>\n",
       "    <tr style=\"text-align: right;\">\n",
       "      <th></th>\n",
       "      <th>bedrooms</th>\n",
       "      <th>bathrooms</th>\n",
       "      <th>sq_feet</th>\n",
       "      <th>is_cluster_3_k7</th>\n",
       "    </tr>\n",
       "  </thead>\n",
       "  <tbody>\n",
       "    <tr>\n",
       "      <th>40409</th>\n",
       "      <td>3.0</td>\n",
       "      <td>3.5</td>\n",
       "      <td>2820.0</td>\n",
       "      <td>1</td>\n",
       "    </tr>\n",
       "    <tr>\n",
       "      <th>23172</th>\n",
       "      <td>4.0</td>\n",
       "      <td>4.0</td>\n",
       "      <td>2764.0</td>\n",
       "      <td>1</td>\n",
       "    </tr>\n",
       "    <tr>\n",
       "      <th>49707</th>\n",
       "      <td>4.0</td>\n",
       "      <td>3.0</td>\n",
       "      <td>2044.0</td>\n",
       "      <td>1</td>\n",
       "    </tr>\n",
       "    <tr>\n",
       "      <th>36587</th>\n",
       "      <td>4.0</td>\n",
       "      <td>3.0</td>\n",
       "      <td>1622.0</td>\n",
       "      <td>1</td>\n",
       "    </tr>\n",
       "    <tr>\n",
       "      <th>6405</th>\n",
       "      <td>3.0</td>\n",
       "      <td>2.0</td>\n",
       "      <td>1050.0</td>\n",
       "      <td>1</td>\n",
       "    </tr>\n",
       "    <tr>\n",
       "      <th>...</th>\n",
       "      <td>...</td>\n",
       "      <td>...</td>\n",
       "      <td>...</td>\n",
       "      <td>...</td>\n",
       "    </tr>\n",
       "    <tr>\n",
       "      <th>19982</th>\n",
       "      <td>3.0</td>\n",
       "      <td>1.0</td>\n",
       "      <td>1000.0</td>\n",
       "      <td>0</td>\n",
       "    </tr>\n",
       "    <tr>\n",
       "      <th>1766</th>\n",
       "      <td>4.0</td>\n",
       "      <td>3.0</td>\n",
       "      <td>2570.0</td>\n",
       "      <td>0</td>\n",
       "    </tr>\n",
       "    <tr>\n",
       "      <th>5102</th>\n",
       "      <td>3.0</td>\n",
       "      <td>2.0</td>\n",
       "      <td>1292.0</td>\n",
       "      <td>0</td>\n",
       "    </tr>\n",
       "    <tr>\n",
       "      <th>34399</th>\n",
       "      <td>3.0</td>\n",
       "      <td>2.0</td>\n",
       "      <td>2291.0</td>\n",
       "      <td>0</td>\n",
       "    </tr>\n",
       "    <tr>\n",
       "      <th>26237</th>\n",
       "      <td>4.0</td>\n",
       "      <td>2.0</td>\n",
       "      <td>1448.0</td>\n",
       "      <td>0</td>\n",
       "    </tr>\n",
       "  </tbody>\n",
       "</table>\n",
       "<p>28378 rows × 4 columns</p>\n",
       "</div>"
      ],
      "text/plain": [
       "       bedrooms  bathrooms  sq_feet  is_cluster_3_k7\n",
       "40409       3.0        3.5   2820.0                1\n",
       "23172       4.0        4.0   2764.0                1\n",
       "49707       4.0        3.0   2044.0                1\n",
       "36587       4.0        3.0   1622.0                1\n",
       "6405        3.0        2.0   1050.0                1\n",
       "...         ...        ...      ...              ...\n",
       "19982       3.0        1.0   1000.0                0\n",
       "1766        4.0        3.0   2570.0                0\n",
       "5102        3.0        2.0   1292.0                0\n",
       "34399       3.0        2.0   2291.0                0\n",
       "26237       4.0        2.0   1448.0                0\n",
       "\n",
       "[28378 rows x 4 columns]"
      ]
     },
     "execution_count": 96,
     "metadata": {},
     "output_type": "execute_result"
    }
   ],
   "source": [
    "X_train"
   ]
  },
  {
   "cell_type": "markdown",
   "id": "5acb074d",
   "metadata": {},
   "source": [
    "# VALIDATE SCALED FUNCTION"
   ]
  },
  {
   "cell_type": "code",
   "execution_count": 97,
   "id": "cc9e2adf",
   "metadata": {},
   "outputs": [],
   "source": [
    "def get_validate_pred():\n",
    "    \n",
    "    X_validate_scaled = validate_scaled[['bedrooms','bathrooms','sq_feet']]\n",
    "    #X_train = train[['bedrooms','bathrooms', 'sq_feet']]\n",
    "    \n",
    "    #cluster_vars = ['bedrooms','bathrooms', 'sq_feet']\n",
    "    #cluster_name = 'interior_cluster_k7'\n",
    "    #k_range = range(2,20)\n",
    "    \n",
    "    #kmeans = create_clusters(X_train_scaled, 7, cluster_vars)\n",
    "    \n",
    "    #centroid_df = get_centroids(kmeans, cluster_vars, cluster_name)\n",
    "    \n",
    "    #X_train = assign_clusters(X_train, kmeans, cluster_vars, cluster_name, centroid_df)\n",
    "    \n",
    "    val_pred = pd.DataFrame(kmeans.predict(X_validate_scaled), index=X_validate_scaled.index)\n",
    "    \n",
    "    dummy_df_val = pd.get_dummies(val_pred[0], dummy_na=False, drop_first=False)\n",
    "    \n",
    "    #val_pred_dummies = pd.get_dummies(val_pred[0], dummy_na=False, drop_first=False)\n",
    "    \n",
    "    dummy_df_val = dummy_df_val.rename(columns={3:'is_cluster_3_k7'})\n",
    "    \n",
    "    X_validate_scaled = pd.concat([X_validate_scaled, dummy_df_val['is_cluster_3_k7']], axis=1)\n",
    "    #X_validate_scaled = X_validate_scaled.dropna()\n",
    "    #X_train = pd.concat([X_train, dummy_df['is_cluster_3_k7']], axis=1)\n",
    "    \n",
    "    return X_validate_scaled"
   ]
  },
  {
   "cell_type": "code",
   "execution_count": 98,
   "id": "29a919dd",
   "metadata": {},
   "outputs": [],
   "source": [
    "X_validate_scaled = get_validate_pred()"
   ]
  },
  {
   "cell_type": "code",
   "execution_count": 99,
   "id": "6a8f7a5e",
   "metadata": {},
   "outputs": [
    {
     "name": "stdout",
     "output_type": "stream",
     "text": [
      "<class 'pandas.core.frame.DataFrame'>\n",
      "Int64Index: 12163 entries, 31502 to 3202\n",
      "Data columns (total 4 columns):\n",
      " #   Column           Non-Null Count  Dtype  \n",
      "---  ------           --------------  -----  \n",
      " 0   bedrooms         12163 non-null  float64\n",
      " 1   bathrooms        12163 non-null  float64\n",
      " 2   sq_feet          12163 non-null  float64\n",
      " 3   is_cluster_3_k7  12163 non-null  uint8  \n",
      "dtypes: float64(3), uint8(1)\n",
      "memory usage: 392.0 KB\n"
     ]
    }
   ],
   "source": [
    "X_validate_scaled.info()"
   ]
  },
  {
   "cell_type": "code",
   "execution_count": 100,
   "id": "4d9f70c5",
   "metadata": {
    "scrolled": true
   },
   "outputs": [
    {
     "data": {
      "text/html": [
       "<div>\n",
       "<style scoped>\n",
       "    .dataframe tbody tr th:only-of-type {\n",
       "        vertical-align: middle;\n",
       "    }\n",
       "\n",
       "    .dataframe tbody tr th {\n",
       "        vertical-align: top;\n",
       "    }\n",
       "\n",
       "    .dataframe thead th {\n",
       "        text-align: right;\n",
       "    }\n",
       "</style>\n",
       "<table border=\"1\" class=\"dataframe\">\n",
       "  <thead>\n",
       "    <tr style=\"text-align: right;\">\n",
       "      <th></th>\n",
       "      <th>bedrooms</th>\n",
       "      <th>bathrooms</th>\n",
       "      <th>sq_feet</th>\n",
       "      <th>is_cluster_3_k7</th>\n",
       "    </tr>\n",
       "  </thead>\n",
       "  <tbody>\n",
       "    <tr>\n",
       "      <th>31502</th>\n",
       "      <td>0.500000</td>\n",
       "      <td>0.166667</td>\n",
       "      <td>0.100351</td>\n",
       "      <td>0</td>\n",
       "    </tr>\n",
       "    <tr>\n",
       "      <th>30324</th>\n",
       "      <td>0.333333</td>\n",
       "      <td>0.166667</td>\n",
       "      <td>0.126341</td>\n",
       "      <td>0</td>\n",
       "    </tr>\n",
       "    <tr>\n",
       "      <th>5349</th>\n",
       "      <td>0.333333</td>\n",
       "      <td>0.000000</td>\n",
       "      <td>0.109633</td>\n",
       "      <td>0</td>\n",
       "    </tr>\n",
       "    <tr>\n",
       "      <th>14766</th>\n",
       "      <td>0.333333</td>\n",
       "      <td>0.000000</td>\n",
       "      <td>0.103548</td>\n",
       "      <td>0</td>\n",
       "    </tr>\n",
       "    <tr>\n",
       "      <th>37693</th>\n",
       "      <td>0.333333</td>\n",
       "      <td>0.166667</td>\n",
       "      <td>0.207405</td>\n",
       "      <td>0</td>\n",
       "    </tr>\n",
       "    <tr>\n",
       "      <th>...</th>\n",
       "      <td>...</td>\n",
       "      <td>...</td>\n",
       "      <td>...</td>\n",
       "      <td>...</td>\n",
       "    </tr>\n",
       "    <tr>\n",
       "      <th>18312</th>\n",
       "      <td>0.500000</td>\n",
       "      <td>0.166667</td>\n",
       "      <td>0.124691</td>\n",
       "      <td>0</td>\n",
       "    </tr>\n",
       "    <tr>\n",
       "      <th>11011</th>\n",
       "      <td>0.500000</td>\n",
       "      <td>0.333333</td>\n",
       "      <td>0.255879</td>\n",
       "      <td>0</td>\n",
       "    </tr>\n",
       "    <tr>\n",
       "      <th>28978</th>\n",
       "      <td>0.500000</td>\n",
       "      <td>0.166667</td>\n",
       "      <td>0.160272</td>\n",
       "      <td>0</td>\n",
       "    </tr>\n",
       "    <tr>\n",
       "      <th>31520</th>\n",
       "      <td>0.166667</td>\n",
       "      <td>0.000000</td>\n",
       "      <td>0.120565</td>\n",
       "      <td>0</td>\n",
       "    </tr>\n",
       "    <tr>\n",
       "      <th>3202</th>\n",
       "      <td>0.166667</td>\n",
       "      <td>0.000000</td>\n",
       "      <td>0.078280</td>\n",
       "      <td>0</td>\n",
       "    </tr>\n",
       "  </tbody>\n",
       "</table>\n",
       "<p>12163 rows × 4 columns</p>\n",
       "</div>"
      ],
      "text/plain": [
       "       bedrooms  bathrooms   sq_feet  is_cluster_3_k7\n",
       "31502  0.500000   0.166667  0.100351                0\n",
       "30324  0.333333   0.166667  0.126341                0\n",
       "5349   0.333333   0.000000  0.109633                0\n",
       "14766  0.333333   0.000000  0.103548                0\n",
       "37693  0.333333   0.166667  0.207405                0\n",
       "...         ...        ...       ...              ...\n",
       "18312  0.500000   0.166667  0.124691                0\n",
       "11011  0.500000   0.333333  0.255879                0\n",
       "28978  0.500000   0.166667  0.160272                0\n",
       "31520  0.166667   0.000000  0.120565                0\n",
       "3202   0.166667   0.000000  0.078280                0\n",
       "\n",
       "[12163 rows x 4 columns]"
      ]
     },
     "execution_count": 100,
     "metadata": {},
     "output_type": "execute_result"
    }
   ],
   "source": [
    "X_validate_scaled"
   ]
  },
  {
   "cell_type": "markdown",
   "id": "7853fc63",
   "metadata": {},
   "source": [
    "# TEST SCALED FUNCTIOn"
   ]
  },
  {
   "cell_type": "code",
   "execution_count": 101,
   "id": "150677f5",
   "metadata": {},
   "outputs": [],
   "source": [
    "def get_test_pred():\n",
    "    \n",
    "    X_test_scaled = test_scaled[['bedrooms','bathrooms','sq_feet']]\n",
    "    #X_train = train[['bedrooms','bathrooms', 'sq_feet']]\n",
    "    \n",
    "    #cluster_vars = ['bedrooms','bathrooms', 'sq_feet']\n",
    "    #cluster_name = 'interior_cluster_k7'\n",
    "    #k_range = range(2,20)\n",
    "    \n",
    "    #kmeans = create_clusters(X_train_scaled, 7, cluster_vars)\n",
    "    \n",
    "    #centroid_df = get_centroids(kmeans, cluster_vars, cluster_name)\n",
    "    \n",
    "    #X_train = assign_clusters(X_train, kmeans, cluster_vars, cluster_name, centroid_df)\n",
    "    \n",
    "    test_pred = pd.DataFrame(kmeans.predict(X_test_scaled), index=X_test_scaled.index)\n",
    "    \n",
    "    dummy_df_test = pd.get_dummies(test_pred[0], dummy_na=False, drop_first=False)\n",
    "    \n",
    "    #val_pred_dummies = pd.get_dummies(val_pred[0], dummy_na=False, drop_first=False)\n",
    "    \n",
    "    dummy_df_test = dummy_df_test.rename(columns={3:'is_cluster_3_k7'})\n",
    "    \n",
    "    X_test_scaled = pd.concat([X_test_scaled, dummy_df_test['is_cluster_3_k7']], axis=1)\n",
    "    #X_validate_scaled = X_validate_scaled.dropna()\n",
    "    #X_train = pd.concat([X_train, dummy_df['is_cluster_3_k7']], axis=1)\n",
    "    \n",
    "    return X_test_scaled"
   ]
  },
  {
   "cell_type": "code",
   "execution_count": 102,
   "id": "c162fd34",
   "metadata": {},
   "outputs": [],
   "source": [
    "X_test_scaled = get_test_pred()"
   ]
  },
  {
   "cell_type": "code",
   "execution_count": 103,
   "id": "7e3ab83c",
   "metadata": {},
   "outputs": [
    {
     "data": {
      "text/html": [
       "<div>\n",
       "<style scoped>\n",
       "    .dataframe tbody tr th:only-of-type {\n",
       "        vertical-align: middle;\n",
       "    }\n",
       "\n",
       "    .dataframe tbody tr th {\n",
       "        vertical-align: top;\n",
       "    }\n",
       "\n",
       "    .dataframe thead th {\n",
       "        text-align: right;\n",
       "    }\n",
       "</style>\n",
       "<table border=\"1\" class=\"dataframe\">\n",
       "  <thead>\n",
       "    <tr style=\"text-align: right;\">\n",
       "      <th></th>\n",
       "      <th>bedrooms</th>\n",
       "      <th>bathrooms</th>\n",
       "      <th>sq_feet</th>\n",
       "      <th>is_cluster_3_k7</th>\n",
       "    </tr>\n",
       "  </thead>\n",
       "  <tbody>\n",
       "    <tr>\n",
       "      <th>40229</th>\n",
       "      <td>0.500000</td>\n",
       "      <td>0.333333</td>\n",
       "      <td>0.215965</td>\n",
       "      <td>0</td>\n",
       "    </tr>\n",
       "    <tr>\n",
       "      <th>36506</th>\n",
       "      <td>0.166667</td>\n",
       "      <td>0.000000</td>\n",
       "      <td>0.090450</td>\n",
       "      <td>0</td>\n",
       "    </tr>\n",
       "    <tr>\n",
       "      <th>29675</th>\n",
       "      <td>0.333333</td>\n",
       "      <td>0.166667</td>\n",
       "      <td>0.196163</td>\n",
       "      <td>0</td>\n",
       "    </tr>\n",
       "    <tr>\n",
       "      <th>33963</th>\n",
       "      <td>0.666667</td>\n",
       "      <td>0.916667</td>\n",
       "      <td>0.667492</td>\n",
       "      <td>0</td>\n",
       "    </tr>\n",
       "    <tr>\n",
       "      <th>45945</th>\n",
       "      <td>0.333333</td>\n",
       "      <td>0.166667</td>\n",
       "      <td>0.135932</td>\n",
       "      <td>0</td>\n",
       "    </tr>\n",
       "    <tr>\n",
       "      <th>...</th>\n",
       "      <td>...</td>\n",
       "      <td>...</td>\n",
       "      <td>...</td>\n",
       "      <td>...</td>\n",
       "    </tr>\n",
       "    <tr>\n",
       "      <th>5079</th>\n",
       "      <td>0.500000</td>\n",
       "      <td>0.166667</td>\n",
       "      <td>0.161716</td>\n",
       "      <td>0</td>\n",
       "    </tr>\n",
       "    <tr>\n",
       "      <th>27223</th>\n",
       "      <td>0.500000</td>\n",
       "      <td>0.416667</td>\n",
       "      <td>0.340450</td>\n",
       "      <td>0</td>\n",
       "    </tr>\n",
       "    <tr>\n",
       "      <th>43577</th>\n",
       "      <td>0.333333</td>\n",
       "      <td>0.166667</td>\n",
       "      <td>0.196163</td>\n",
       "      <td>0</td>\n",
       "    </tr>\n",
       "    <tr>\n",
       "      <th>15757</th>\n",
       "      <td>0.333333</td>\n",
       "      <td>0.000000</td>\n",
       "      <td>0.091790</td>\n",
       "      <td>0</td>\n",
       "    </tr>\n",
       "    <tr>\n",
       "      <th>6864</th>\n",
       "      <td>0.500000</td>\n",
       "      <td>0.166667</td>\n",
       "      <td>0.160479</td>\n",
       "      <td>0</td>\n",
       "    </tr>\n",
       "  </tbody>\n",
       "</table>\n",
       "<p>10136 rows × 4 columns</p>\n",
       "</div>"
      ],
      "text/plain": [
       "       bedrooms  bathrooms   sq_feet  is_cluster_3_k7\n",
       "40229  0.500000   0.333333  0.215965                0\n",
       "36506  0.166667   0.000000  0.090450                0\n",
       "29675  0.333333   0.166667  0.196163                0\n",
       "33963  0.666667   0.916667  0.667492                0\n",
       "45945  0.333333   0.166667  0.135932                0\n",
       "...         ...        ...       ...              ...\n",
       "5079   0.500000   0.166667  0.161716                0\n",
       "27223  0.500000   0.416667  0.340450                0\n",
       "43577  0.333333   0.166667  0.196163                0\n",
       "15757  0.333333   0.000000  0.091790                0\n",
       "6864   0.500000   0.166667  0.160479                0\n",
       "\n",
       "[10136 rows x 4 columns]"
      ]
     },
     "execution_count": 103,
     "metadata": {},
     "output_type": "execute_result"
    }
   ],
   "source": [
    "X_test_scaled"
   ]
  },
  {
   "cell_type": "code",
   "execution_count": 104,
   "id": "effaed14",
   "metadata": {},
   "outputs": [
    {
     "name": "stdout",
     "output_type": "stream",
     "text": [
      "<class 'pandas.core.frame.DataFrame'>\n",
      "Int64Index: 10136 entries, 40229 to 6864\n",
      "Data columns (total 4 columns):\n",
      " #   Column           Non-Null Count  Dtype  \n",
      "---  ------           --------------  -----  \n",
      " 0   bedrooms         10136 non-null  float64\n",
      " 1   bathrooms        10136 non-null  float64\n",
      " 2   sq_feet          10136 non-null  float64\n",
      " 3   is_cluster_3_k7  10136 non-null  uint8  \n",
      "dtypes: float64(3), uint8(1)\n",
      "memory usage: 326.6 KB\n"
     ]
    }
   ],
   "source": [
    "X_test_scaled.info()"
   ]
  },
  {
   "cell_type": "code",
   "execution_count": null,
   "id": "425d556b",
   "metadata": {},
   "outputs": [],
   "source": []
  },
  {
   "cell_type": "code",
   "execution_count": null,
   "id": "59ee25f6",
   "metadata": {},
   "outputs": [],
   "source": []
  },
  {
   "cell_type": "code",
   "execution_count": null,
   "id": "3a3ba0a0",
   "metadata": {},
   "outputs": [],
   "source": []
  }
 ],
 "metadata": {
  "kernelspec": {
   "display_name": "Python 3 (ipykernel)",
   "language": "python",
   "name": "python3"
  },
  "language_info": {
   "codemirror_mode": {
    "name": "ipython",
    "version": 3
   },
   "file_extension": ".py",
   "mimetype": "text/x-python",
   "name": "python",
   "nbconvert_exporter": "python",
   "pygments_lexer": "ipython3",
   "version": "3.9.12"
  }
 },
 "nbformat": 4,
 "nbformat_minor": 5
}
