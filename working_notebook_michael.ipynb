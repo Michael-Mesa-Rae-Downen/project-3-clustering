{
 "cells": [
  {
   "cell_type": "code",
   "execution_count": 1,
   "id": "456c891c",
   "metadata": {},
   "outputs": [],
   "source": [
    "import pandas as pd\n",
    "import os\n",
    "import env\n",
    "import numpy as np\n",
    "import matplotlib.pyplot as plt\n",
    "import seaborn as sns\n",
    "import scipy.stats as stats\n",
    "from sklearn.cluster import KMeans\n",
    "from sklearn.preprocessing import MinMaxScaler, RobustScaler\n",
    "from sklearn.model_selection import train_test_split\n",
    "\n",
    "\n",
    "import wrangle as w\n",
    "import warnings\n",
    "warnings.filterwarnings('ignore')"
   ]
  },
  {
   "cell_type": "code",
   "execution_count": 2,
   "id": "f1f7af4a",
   "metadata": {},
   "outputs": [],
   "source": [
    "df = w.wrangle_zillow()"
   ]
  },
  {
   "cell_type": "code",
   "execution_count": 3,
   "id": "d10635d5",
   "metadata": {},
   "outputs": [
    {
     "name": "stdout",
     "output_type": "stream",
     "text": [
      "<class 'pandas.core.frame.DataFrame'>\n",
      "RangeIndex: 50677 entries, 0 to 50676\n",
      "Data columns (total 29 columns):\n",
      " #   Column                      Non-Null Count  Dtype  \n",
      "---  ------                      --------------  -----  \n",
      " 0   parcelid                    50677 non-null  int64  \n",
      " 1   logerror                    50677 non-null  float64\n",
      " 2   bathrooms                   50677 non-null  float64\n",
      " 3   bedrooms                    50677 non-null  float64\n",
      " 4   sq_feet                     50677 non-null  float64\n",
      " 5   fips                        50677 non-null  float64\n",
      " 6   latitude                    50677 non-null  float64\n",
      " 7   longitude                   50677 non-null  float64\n",
      " 8   lotsizesquarefeet           50677 non-null  float64\n",
      " 9   regionidcity                50677 non-null  float64\n",
      " 10  regionidcounty              50677 non-null  float64\n",
      " 11  regionidzip                 50677 non-null  float64\n",
      " 12  year_built                  50677 non-null  float64\n",
      " 13  structuretaxvaluedollarcnt  50677 non-null  float64\n",
      " 14  tax_value                   50677 non-null  float64\n",
      " 15  landtaxvaluedollarcnt       50677 non-null  float64\n",
      " 16  tax_amount                  50677 non-null  float64\n",
      " 17  age                         50677 non-null  float64\n",
      " 18  age_bin                     50677 non-null  float64\n",
      " 19  taxrate                     50677 non-null  float64\n",
      " 20  acres                       50677 non-null  float64\n",
      " 21  acres_bin                   50677 non-null  float64\n",
      " 22  sqft_bin                    50677 non-null  float64\n",
      " 23  structure_dollar_per_sqft   50677 non-null  float64\n",
      " 24  structure_dollar_sqft_bin   50677 non-null  float64\n",
      " 25  land_dollar_per_sqft        50677 non-null  float64\n",
      " 26  lot_dollar_sqft_bin         50677 non-null  float64\n",
      " 27  bath_bed_ratio              50677 non-null  float64\n",
      " 28  cola                        50677 non-null  int64  \n",
      "dtypes: float64(27), int64(2)\n",
      "memory usage: 11.2 MB\n"
     ]
    }
   ],
   "source": [
    "df.info()"
   ]
  },
  {
   "cell_type": "code",
   "execution_count": 4,
   "id": "dbb3484f",
   "metadata": {},
   "outputs": [],
   "source": [
    "train, validate, test = w.split_data(df)"
   ]
  },
  {
   "cell_type": "code",
   "execution_count": 5,
   "id": "3ff60282",
   "metadata": {
    "scrolled": false
   },
   "outputs": [
    {
     "data": {
      "text/html": [
       "<div>\n",
       "<style scoped>\n",
       "    .dataframe tbody tr th:only-of-type {\n",
       "        vertical-align: middle;\n",
       "    }\n",
       "\n",
       "    .dataframe tbody tr th {\n",
       "        vertical-align: top;\n",
       "    }\n",
       "\n",
       "    .dataframe thead th {\n",
       "        text-align: right;\n",
       "    }\n",
       "</style>\n",
       "<table border=\"1\" class=\"dataframe\">\n",
       "  <thead>\n",
       "    <tr style=\"text-align: right;\">\n",
       "      <th></th>\n",
       "      <th>parcelid</th>\n",
       "      <th>logerror</th>\n",
       "      <th>bathrooms</th>\n",
       "      <th>bedrooms</th>\n",
       "      <th>sq_feet</th>\n",
       "      <th>fips</th>\n",
       "      <th>latitude</th>\n",
       "      <th>longitude</th>\n",
       "      <th>lotsizesquarefeet</th>\n",
       "      <th>regionidcity</th>\n",
       "      <th>...</th>\n",
       "      <th>taxrate</th>\n",
       "      <th>acres</th>\n",
       "      <th>acres_bin</th>\n",
       "      <th>sqft_bin</th>\n",
       "      <th>structure_dollar_per_sqft</th>\n",
       "      <th>structure_dollar_sqft_bin</th>\n",
       "      <th>land_dollar_per_sqft</th>\n",
       "      <th>lot_dollar_sqft_bin</th>\n",
       "      <th>bath_bed_ratio</th>\n",
       "      <th>cola</th>\n",
       "    </tr>\n",
       "  </thead>\n",
       "  <tbody>\n",
       "    <tr>\n",
       "      <th>40409</th>\n",
       "      <td>14357041</td>\n",
       "      <td>-0.001358</td>\n",
       "      <td>3.5</td>\n",
       "      <td>3.0</td>\n",
       "      <td>2820.0</td>\n",
       "      <td>6059.0</td>\n",
       "      <td>33701815.0</td>\n",
       "      <td>-117717952.0</td>\n",
       "      <td>5492.0</td>\n",
       "      <td>52650.0</td>\n",
       "      <td>...</td>\n",
       "      <td>1.435365</td>\n",
       "      <td>0.126079</td>\n",
       "      <td>0.1</td>\n",
       "      <td>0.6</td>\n",
       "      <td>167.602837</td>\n",
       "      <td>0.5</td>\n",
       "      <td>119.641843</td>\n",
       "      <td>0.5</td>\n",
       "      <td>1.166667</td>\n",
       "      <td>0</td>\n",
       "    </tr>\n",
       "    <tr>\n",
       "      <th>23172</th>\n",
       "      <td>11185767</td>\n",
       "      <td>0.044035</td>\n",
       "      <td>4.0</td>\n",
       "      <td>4.0</td>\n",
       "      <td>2764.0</td>\n",
       "      <td>6037.0</td>\n",
       "      <td>34610159.0</td>\n",
       "      <td>-118192962.0</td>\n",
       "      <td>6624.0</td>\n",
       "      <td>40227.0</td>\n",
       "      <td>...</td>\n",
       "      <td>1.756942</td>\n",
       "      <td>0.152066</td>\n",
       "      <td>0.2</td>\n",
       "      <td>0.6</td>\n",
       "      <td>37.442475</td>\n",
       "      <td>0.1</td>\n",
       "      <td>9.500302</td>\n",
       "      <td>0.2</td>\n",
       "      <td>1.000000</td>\n",
       "      <td>0</td>\n",
       "    </tr>\n",
       "    <tr>\n",
       "      <th>49707</th>\n",
       "      <td>11471750</td>\n",
       "      <td>0.026075</td>\n",
       "      <td>3.0</td>\n",
       "      <td>4.0</td>\n",
       "      <td>2044.0</td>\n",
       "      <td>6037.0</td>\n",
       "      <td>33924794.0</td>\n",
       "      <td>-118423837.0</td>\n",
       "      <td>4967.0</td>\n",
       "      <td>55753.0</td>\n",
       "      <td>...</td>\n",
       "      <td>1.118434</td>\n",
       "      <td>0.114027</td>\n",
       "      <td>0.1</td>\n",
       "      <td>0.5</td>\n",
       "      <td>169.431996</td>\n",
       "      <td>0.5</td>\n",
       "      <td>158.594725</td>\n",
       "      <td>0.5</td>\n",
       "      <td>0.750000</td>\n",
       "      <td>0</td>\n",
       "    </tr>\n",
       "  </tbody>\n",
       "</table>\n",
       "<p>3 rows × 29 columns</p>\n",
       "</div>"
      ],
      "text/plain": [
       "       parcelid  logerror  bathrooms  bedrooms  sq_feet    fips    latitude  \\\n",
       "40409  14357041 -0.001358        3.5       3.0   2820.0  6059.0  33701815.0   \n",
       "23172  11185767  0.044035        4.0       4.0   2764.0  6037.0  34610159.0   \n",
       "49707  11471750  0.026075        3.0       4.0   2044.0  6037.0  33924794.0   \n",
       "\n",
       "         longitude  lotsizesquarefeet  regionidcity  ...   taxrate     acres  \\\n",
       "40409 -117717952.0             5492.0       52650.0  ...  1.435365  0.126079   \n",
       "23172 -118192962.0             6624.0       40227.0  ...  1.756942  0.152066   \n",
       "49707 -118423837.0             4967.0       55753.0  ...  1.118434  0.114027   \n",
       "\n",
       "       acres_bin  sqft_bin  structure_dollar_per_sqft  \\\n",
       "40409        0.1       0.6                 167.602837   \n",
       "23172        0.2       0.6                  37.442475   \n",
       "49707        0.1       0.5                 169.431996   \n",
       "\n",
       "       structure_dollar_sqft_bin  land_dollar_per_sqft  lot_dollar_sqft_bin  \\\n",
       "40409                        0.5            119.641843                  0.5   \n",
       "23172                        0.1              9.500302                  0.2   \n",
       "49707                        0.5            158.594725                  0.5   \n",
       "\n",
       "       bath_bed_ratio  cola  \n",
       "40409        1.166667     0  \n",
       "23172        1.000000     0  \n",
       "49707        0.750000     0  \n",
       "\n",
       "[3 rows x 29 columns]"
      ]
     },
     "execution_count": 5,
     "metadata": {},
     "output_type": "execute_result"
    }
   ],
   "source": [
    "train.head(3)"
   ]
  },
  {
   "cell_type": "code",
   "execution_count": 6,
   "id": "20edf8cb",
   "metadata": {
    "scrolled": false
   },
   "outputs": [],
   "source": [
    "#train.info()"
   ]
  },
  {
   "cell_type": "code",
   "execution_count": 7,
   "id": "931f0450",
   "metadata": {},
   "outputs": [],
   "source": [
    "train_scaled, validate_scaled, test_scaled = w.scale_data(train, validate, test)"
   ]
  },
  {
   "cell_type": "code",
   "execution_count": 8,
   "id": "8a1a0a9c",
   "metadata": {
    "scrolled": false
   },
   "outputs": [
    {
     "name": "stdout",
     "output_type": "stream",
     "text": [
      "<class 'pandas.core.frame.DataFrame'>\n",
      "Int64Index: 28378 entries, 40409 to 26237\n",
      "Data columns (total 29 columns):\n",
      " #   Column                      Non-Null Count  Dtype  \n",
      "---  ------                      --------------  -----  \n",
      " 0   parcelid                    28378 non-null  int64  \n",
      " 1   logerror                    28378 non-null  float64\n",
      " 2   bathrooms                   28378 non-null  float64\n",
      " 3   bedrooms                    28378 non-null  float64\n",
      " 4   sq_feet                     28378 non-null  float64\n",
      " 5   fips                        28378 non-null  float64\n",
      " 6   latitude                    28378 non-null  float64\n",
      " 7   longitude                   28378 non-null  float64\n",
      " 8   lotsizesquarefeet           28378 non-null  float64\n",
      " 9   regionidcity                28378 non-null  float64\n",
      " 10  regionidcounty              28378 non-null  float64\n",
      " 11  regionidzip                 28378 non-null  float64\n",
      " 12  year_built                  28378 non-null  float64\n",
      " 13  structuretaxvaluedollarcnt  28378 non-null  float64\n",
      " 14  tax_value                   28378 non-null  float64\n",
      " 15  landtaxvaluedollarcnt       28378 non-null  float64\n",
      " 16  tax_amount                  28378 non-null  float64\n",
      " 17  age                         28378 non-null  float64\n",
      " 18  age_bin                     28378 non-null  float64\n",
      " 19  taxrate                     28378 non-null  float64\n",
      " 20  acres                       28378 non-null  float64\n",
      " 21  acres_bin                   28378 non-null  float64\n",
      " 22  sqft_bin                    28378 non-null  float64\n",
      " 23  structure_dollar_per_sqft   28378 non-null  float64\n",
      " 24  structure_dollar_sqft_bin   28378 non-null  float64\n",
      " 25  land_dollar_per_sqft        28378 non-null  float64\n",
      " 26  lot_dollar_sqft_bin         28378 non-null  float64\n",
      " 27  bath_bed_ratio              28378 non-null  float64\n",
      " 28  cola                        28378 non-null  int64  \n",
      "dtypes: float64(27), int64(2)\n",
      "memory usage: 6.5 MB\n"
     ]
    }
   ],
   "source": [
    "train_scaled.info()"
   ]
  },
  {
   "cell_type": "code",
   "execution_count": 9,
   "id": "cceba185",
   "metadata": {},
   "outputs": [],
   "source": [
    "# list of variables I will cluster on. \n",
    "cluster_vars = ['bedrooms','bathrooms', 'sq_feet']\n",
    "cluster_name = 'interior_cluster1'\n",
    "k_range = range(2,20)"
   ]
  },
  {
   "cell_type": "code",
   "execution_count": 10,
   "id": "88a9ffc0",
   "metadata": {},
   "outputs": [],
   "source": [
    "X_train = train_scaled[['bedrooms','bathrooms', 'sq_feet']]"
   ]
  },
  {
   "cell_type": "code",
   "execution_count": 11,
   "id": "fd62d770",
   "metadata": {},
   "outputs": [],
   "source": [
    "def find_k(X_train, cluster_vars, k_range):\n",
    "    sse = []\n",
    "    for k in k_range:\n",
    "        kmeans = KMeans(n_clusters=k)\n",
    "\n",
    "        # X[0] is our X_train dataframe..the first dataframe in the list of dataframes stored in X. \n",
    "        kmeans.fit(X_train[cluster_vars])\n",
    "\n",
    "        # inertia: Sum of squared distances of samples to their closest cluster center.\n",
    "        sse.append(kmeans.inertia_) \n",
    "\n",
    "    # compute the difference from one k to the next\n",
    "    delta = [round(sse[i] - sse[i+1],0) for i in range(len(sse)-1)]\n",
    "\n",
    "    # compute the percent difference from one k to the next\n",
    "    pct_delta = [round(((sse[i] - sse[i+1])/sse[i])*100, 1) for i in range(len(sse)-1)]\n",
    "\n",
    "    # create a dataframe with all of our metrics to compare them across values of k: SSE, delta, pct_delta\n",
    "    k_comparisons_df = pd.DataFrame(dict(k=k_range[0:-1], \n",
    "                             sse=sse[0:-1], \n",
    "                             delta=delta, \n",
    "                             pct_delta=pct_delta))\n",
    "\n",
    "    # plot k with inertia\n",
    "    plt.plot(k_comparisons_df.k, k_comparisons_df.sse, 'bx-')\n",
    "    plt.xlabel('k')\n",
    "    plt.ylabel('SSE')\n",
    "    plt.title('The Elbow Method to find the optimal k\\nFor which k values do we see large decreases in SSE?')\n",
    "    plt.show()\n",
    "\n",
    "    # plot k with pct_delta\n",
    "    plt.plot(k_comparisons_df.k, k_comparisons_df.pct_delta, 'bx-')\n",
    "    plt.xlabel('k')\n",
    "    plt.ylabel('Percent Change')\n",
    "    plt.title('For which k values are we seeing increased changes (%) in SSE?')\n",
    "    plt.show()\n",
    "\n",
    "    # plot k with delta\n",
    "    plt.plot(k_comparisons_df.k, k_comparisons_df.delta, 'bx-')\n",
    "    plt.xlabel('k')\n",
    "    plt.ylabel('Absolute Change in SSE')\n",
    "    plt.title('For which k values are we seeing increased changes (absolute) in SSE?')\n",
    "    plt.show()\n",
    "\n",
    "    return k_comparisons_df\n"
   ]
  },
  {
   "cell_type": "code",
   "execution_count": 12,
   "id": "7485b85d",
   "metadata": {},
   "outputs": [
    {
     "data": {
      "image/png": "[encoded data removed]",
      "text/plain": [
       "<Figure size 432x288 with 1 Axes>"
      ]
     },
     "metadata": {
      "needs_background": "light"
     },
     "output_type": "display_data"
    },
    {
     "data": {
      "image/png": "[encoded data removed]",
      "text/plain": [
       "<Figure size 432x288 with 1 Axes>"
      ]
     },
     "metadata": {
      "needs_background": "light"
     },
     "output_type": "display_data"
    },
    {
     "data": {
      "image/png": "[encoded data removed]",
      "text/plain": [
       "<Figure size 432x288 with 1 Axes>"
      ]
     },
     "metadata": {
      "needs_background": "light"
     },
     "output_type": "display_data"
    }
   ],
   "source": [
    "k_comparisons_df = find_k(X_train, cluster_vars, k_range)"
   ]
  },
  {
   "cell_type": "code",
   "execution_count": 13,
   "id": "b98c5bcf",
   "metadata": {},
   "outputs": [
    {
     "data": {
      "text/html": [
       "<div>\n",
       "<style scoped>\n",
       "    .dataframe tbody tr th:only-of-type {\n",
       "        vertical-align: middle;\n",
       "    }\n",
       "\n",
       "    .dataframe tbody tr th {\n",
       "        vertical-align: top;\n",
       "    }\n",
       "\n",
       "    .dataframe thead th {\n",
       "        text-align: right;\n",
       "    }\n",
       "</style>\n",
       "<table border=\"1\" class=\"dataframe\">\n",
       "  <thead>\n",
       "    <tr style=\"text-align: right;\">\n",
       "      <th></th>\n",
       "      <th>k</th>\n",
       "      <th>sse</th>\n",
       "      <th>delta</th>\n",
       "      <th>pct_delta</th>\n",
       "    </tr>\n",
       "  </thead>\n",
       "  <tbody>\n",
       "    <tr>\n",
       "      <th>0</th>\n",
       "      <td>2</td>\n",
       "      <td>847.181747</td>\n",
       "      <td>258.0</td>\n",
       "      <td>30.4</td>\n",
       "    </tr>\n",
       "    <tr>\n",
       "      <th>1</th>\n",
       "      <td>3</td>\n",
       "      <td>589.354103</td>\n",
       "      <td>148.0</td>\n",
       "      <td>25.1</td>\n",
       "    </tr>\n",
       "    <tr>\n",
       "      <th>2</th>\n",
       "      <td>4</td>\n",
       "      <td>441.644681</td>\n",
       "      <td>83.0</td>\n",
       "      <td>18.9</td>\n",
       "    </tr>\n",
       "    <tr>\n",
       "      <th>3</th>\n",
       "      <td>5</td>\n",
       "      <td>358.210210</td>\n",
       "      <td>60.0</td>\n",
       "      <td>16.8</td>\n",
       "    </tr>\n",
       "    <tr>\n",
       "      <th>4</th>\n",
       "      <td>6</td>\n",
       "      <td>297.976642</td>\n",
       "      <td>42.0</td>\n",
       "      <td>14.2</td>\n",
       "    </tr>\n",
       "    <tr>\n",
       "      <th>5</th>\n",
       "      <td>7</td>\n",
       "      <td>255.599853</td>\n",
       "      <td>43.0</td>\n",
       "      <td>16.8</td>\n",
       "    </tr>\n",
       "    <tr>\n",
       "      <th>6</th>\n",
       "      <td>8</td>\n",
       "      <td>212.558521</td>\n",
       "      <td>32.0</td>\n",
       "      <td>14.9</td>\n",
       "    </tr>\n",
       "    <tr>\n",
       "      <th>7</th>\n",
       "      <td>9</td>\n",
       "      <td>180.990793</td>\n",
       "      <td>28.0</td>\n",
       "      <td>15.6</td>\n",
       "    </tr>\n",
       "    <tr>\n",
       "      <th>8</th>\n",
       "      <td>10</td>\n",
       "      <td>152.764978</td>\n",
       "      <td>18.0</td>\n",
       "      <td>11.7</td>\n",
       "    </tr>\n",
       "    <tr>\n",
       "      <th>9</th>\n",
       "      <td>11</td>\n",
       "      <td>134.963004</td>\n",
       "      <td>8.0</td>\n",
       "      <td>6.1</td>\n",
       "    </tr>\n",
       "    <tr>\n",
       "      <th>10</th>\n",
       "      <td>12</td>\n",
       "      <td>126.671837</td>\n",
       "      <td>6.0</td>\n",
       "      <td>5.1</td>\n",
       "    </tr>\n",
       "    <tr>\n",
       "      <th>11</th>\n",
       "      <td>13</td>\n",
       "      <td>120.234542</td>\n",
       "      <td>7.0</td>\n",
       "      <td>5.9</td>\n",
       "    </tr>\n",
       "    <tr>\n",
       "      <th>12</th>\n",
       "      <td>14</td>\n",
       "      <td>113.195771</td>\n",
       "      <td>7.0</td>\n",
       "      <td>6.0</td>\n",
       "    </tr>\n",
       "    <tr>\n",
       "      <th>13</th>\n",
       "      <td>15</td>\n",
       "      <td>106.368372</td>\n",
       "      <td>5.0</td>\n",
       "      <td>4.6</td>\n",
       "    </tr>\n",
       "    <tr>\n",
       "      <th>14</th>\n",
       "      <td>16</td>\n",
       "      <td>101.468493</td>\n",
       "      <td>6.0</td>\n",
       "      <td>6.3</td>\n",
       "    </tr>\n",
       "    <tr>\n",
       "      <th>15</th>\n",
       "      <td>17</td>\n",
       "      <td>95.108464</td>\n",
       "      <td>4.0</td>\n",
       "      <td>4.5</td>\n",
       "    </tr>\n",
       "    <tr>\n",
       "      <th>16</th>\n",
       "      <td>18</td>\n",
       "      <td>90.836739</td>\n",
       "      <td>6.0</td>\n",
       "      <td>7.1</td>\n",
       "    </tr>\n",
       "  </tbody>\n",
       "</table>\n",
       "</div>"
      ],
      "text/plain": [
       "     k         sse  delta  pct_delta\n",
       "0    2  847.181747  258.0       30.4\n",
       "1    3  589.354103  148.0       25.1\n",
       "2    4  441.644681   83.0       18.9\n",
       "3    5  358.210210   60.0       16.8\n",
       "4    6  297.976642   42.0       14.2\n",
       "5    7  255.599853   43.0       16.8\n",
       "6    8  212.558521   32.0       14.9\n",
       "7    9  180.990793   28.0       15.6\n",
       "8   10  152.764978   18.0       11.7\n",
       "9   11  134.963004    8.0        6.1\n",
       "10  12  126.671837    6.0        5.1\n",
       "11  13  120.234542    7.0        5.9\n",
       "12  14  113.195771    7.0        6.0\n",
       "13  15  106.368372    5.0        4.6\n",
       "14  16  101.468493    6.0        6.3\n",
       "15  17   95.108464    4.0        4.5\n",
       "16  18   90.836739    6.0        7.1"
      ]
     },
     "execution_count": 13,
     "metadata": {},
     "output_type": "execute_result"
    }
   ],
   "source": [
    "k_comparisons_df"
   ]
  },
  {
   "cell_type": "code",
   "execution_count": 14,
   "id": "20f54a6b",
   "metadata": {},
   "outputs": [],
   "source": [
    "def create_clusters(X_train, k, cluster_vars):\n",
    "    # create kmean object\n",
    "    kmeans = KMeans(n_clusters=k, random_state = 123)\n",
    "\n",
    "    # fit to train and assign cluster ids to observations\n",
    "    kmeans.fit(X_train[cluster_vars])\n",
    "\n",
    "    return kmeans\n"
   ]
  },
  {
   "cell_type": "markdown",
   "id": "1b7c5cd9",
   "metadata": {},
   "source": [
    "# working with k = 6"
   ]
  },
  {
   "cell_type": "code",
   "execution_count": null,
   "id": "3cd28913",
   "metadata": {},
   "outputs": [],
   "source": [
    "kmeans = create_clusters(X_train, 6, cluster_vars)"
   ]
  },
  {
   "cell_type": "code",
   "execution_count": null,
   "id": "53504be3",
   "metadata": {},
   "outputs": [],
   "source": [
    "kmeans"
   ]
  },
  {
   "cell_type": "code",
   "execution_count": null,
   "id": "9b162e3e",
   "metadata": {},
   "outputs": [],
   "source": [
    "# get the centroids for each distinct cluster...\n",
    "\n",
    "def get_centroids(kmeans, cluster_vars, cluster_name):\n",
    "    # get the centroids for each distinct cluster...\n",
    "\n",
    "    centroid_col_names = ['centroid_' + i for i in cluster_vars]\n",
    "\n",
    "    centroid_df = pd.DataFrame(kmeans.cluster_centers_, \n",
    "                               columns=centroid_col_names).reset_index().rename(columns={'index': cluster_name})\n",
    "\n",
    "    return centroid_df\n"
   ]
  },
  {
   "cell_type": "code",
   "execution_count": null,
   "id": "9fede299",
   "metadata": {},
   "outputs": [],
   "source": [
    "centroid_df = get_centroids(kmeans, cluster_vars, cluster_name)"
   ]
  },
  {
   "cell_type": "code",
   "execution_count": null,
   "id": "8f1ba13e",
   "metadata": {},
   "outputs": [],
   "source": [
    "centroid_df"
   ]
  },
  {
   "cell_type": "code",
   "execution_count": null,
   "id": "cb43fecc",
   "metadata": {},
   "outputs": [],
   "source": [
    "# label cluster for each observation in X_train (X[0] in our X list of dataframes), \n",
    "# X_validate (X[1]), & X_test (X[2])\n",
    "\n",
    "def assign_clusters(df, kmeans, cluster_vars, cluster_name, centroid_df):\n",
    "    #for i in range(len(df)):\n",
    "        clusters = pd.DataFrame(kmeans.predict(df[cluster_vars]), \n",
    "                            columns=[cluster_name], index=df.index)\n",
    "\n",
    "        clusters_centroids = clusters.merge(centroid_df, on=cluster_name, copy=False).set_index(clusters.index.values)\n",
    "\n",
    "        df = pd.concat([df, clusters_centroids], axis=1)\n",
    "        return df\n"
   ]
  },
  {
   "cell_type": "code",
   "execution_count": 21,
   "id": "3b40c3b8",
   "metadata": {
    "scrolled": true
   },
   "outputs": [],
   "source": [
    "X = assign_clusters(X_train, kmeans, cluster_vars, cluster_name, centroid_df)"
   ]
  },
  {
   "cell_type": "code",
   "execution_count": 22,
   "id": "e18fd40a",
   "metadata": {},
   "outputs": [],
   "source": [
    "#X.head()"
   ]
  },
  {
   "cell_type": "code",
   "execution_count": 23,
   "id": "9b6ccd9d",
   "metadata": {},
   "outputs": [
    {
     "data": {
      "text/html": [
       "<div>\n",
       "<style scoped>\n",
       "    .dataframe tbody tr th:only-of-type {\n",
       "        vertical-align: middle;\n",
       "    }\n",
       "\n",
       "    .dataframe tbody tr th {\n",
       "        vertical-align: top;\n",
       "    }\n",
       "\n",
       "    .dataframe thead th {\n",
       "        text-align: right;\n",
       "    }\n",
       "</style>\n",
       "<table border=\"1\" class=\"dataframe\">\n",
       "  <thead>\n",
       "    <tr style=\"text-align: right;\">\n",
       "      <th></th>\n",
       "      <th></th>\n",
       "      <th></th>\n",
       "      <th></th>\n",
       "      <th>interior_cluster1</th>\n",
       "    </tr>\n",
       "    <tr>\n",
       "      <th>interior_cluster1</th>\n",
       "      <th>centroid_bedrooms</th>\n",
       "      <th>centroid_bathrooms</th>\n",
       "      <th>centroid_sq_feet</th>\n",
       "      <th></th>\n",
       "    </tr>\n",
       "  </thead>\n",
       "  <tbody>\n",
       "    <tr>\n",
       "      <th>0</th>\n",
       "      <th>0.640606</th>\n",
       "      <th>0.632983</th>\n",
       "      <th>0.432259</th>\n",
       "      <td>1618</td>\n",
       "    </tr>\n",
       "    <tr>\n",
       "      <th>1</th>\n",
       "      <th>0.510666</th>\n",
       "      <th>0.173529</th>\n",
       "      <th>0.166290</th>\n",
       "      <td>4156</td>\n",
       "    </tr>\n",
       "    <tr>\n",
       "      <th>2</th>\n",
       "      <th>0.221873</th>\n",
       "      <th>0.003030</th>\n",
       "      <th>0.093555</th>\n",
       "      <td>5253</td>\n",
       "    </tr>\n",
       "    <tr>\n",
       "      <th>3</th>\n",
       "      <th>0.308121</th>\n",
       "      <th>0.170163</th>\n",
       "      <th>0.139503</th>\n",
       "      <td>9713</td>\n",
       "    </tr>\n",
       "    <tr>\n",
       "      <th>4</th>\n",
       "      <th>0.541758</th>\n",
       "      <th>0.349059</th>\n",
       "      <th>0.255575</th>\n",
       "      <td>4982</td>\n",
       "    </tr>\n",
       "    <tr>\n",
       "      <th>5</th>\n",
       "      <th>0.322810</th>\n",
       "      <th>0.336326</th>\n",
       "      <th>0.227642</th>\n",
       "      <td>2656</td>\n",
       "    </tr>\n",
       "  </tbody>\n",
       "</table>\n",
       "</div>"
      ],
      "text/plain": [
       "                                                                         interior_cluster1\n",
       "interior_cluster1 centroid_bedrooms centroid_bathrooms centroid_sq_feet                   \n",
       "0                 0.640606          0.632983           0.432259                       1618\n",
       "1                 0.510666          0.173529           0.166290                       4156\n",
       "2                 0.221873          0.003030           0.093555                       5253\n",
       "3                 0.308121          0.170163           0.139503                       9713\n",
       "4                 0.541758          0.349059           0.255575                       4982\n",
       "5                 0.322810          0.336326           0.227642                       2656"
      ]
     },
     "execution_count": 23,
     "metadata": {},
     "output_type": "execute_result"
    }
   ],
   "source": [
    "pd.DataFrame(X.groupby(['interior_cluster1', 'centroid_bedrooms','centroid_bathrooms', 'centroid_sq_feet'])['interior_cluster1'].count())\n"
   ]
  },
  {
   "cell_type": "code",
   "execution_count": 24,
   "id": "a72196d2",
   "metadata": {},
   "outputs": [],
   "source": [
    "train_clusters = pd.concat([train, X['interior_cluster1']], axis=1)"
   ]
  },
  {
   "cell_type": "code",
   "execution_count": 25,
   "id": "5e665631",
   "metadata": {
    "scrolled": false
   },
   "outputs": [],
   "source": [
    "#train_clusters"
   ]
  },
  {
   "cell_type": "markdown",
   "id": "866bc4bf",
   "metadata": {},
   "source": [
    "## Count of observations in interior_cluster1 clusters"
   ]
  },
  {
   "cell_type": "code",
   "execution_count": 26,
   "id": "62f26680",
   "metadata": {},
   "outputs": [
    {
     "data": {
      "text/html": [
       "<div>\n",
       "<style scoped>\n",
       "    .dataframe tbody tr th:only-of-type {\n",
       "        vertical-align: middle;\n",
       "    }\n",
       "\n",
       "    .dataframe tbody tr th {\n",
       "        vertical-align: top;\n",
       "    }\n",
       "\n",
       "    .dataframe thead th {\n",
       "        text-align: right;\n",
       "    }\n",
       "</style>\n",
       "<table border=\"1\" class=\"dataframe\">\n",
       "  <thead>\n",
       "    <tr style=\"text-align: right;\">\n",
       "      <th></th>\n",
       "      <th>interior_cluster1</th>\n",
       "    </tr>\n",
       "    <tr>\n",
       "      <th>interior_cluster1</th>\n",
       "      <th></th>\n",
       "    </tr>\n",
       "  </thead>\n",
       "  <tbody>\n",
       "    <tr>\n",
       "      <th>0</th>\n",
       "      <td>1618</td>\n",
       "    </tr>\n",
       "    <tr>\n",
       "      <th>1</th>\n",
       "      <td>4156</td>\n",
       "    </tr>\n",
       "    <tr>\n",
       "      <th>2</th>\n",
       "      <td>5253</td>\n",
       "    </tr>\n",
       "    <tr>\n",
       "      <th>3</th>\n",
       "      <td>9713</td>\n",
       "    </tr>\n",
       "    <tr>\n",
       "      <th>4</th>\n",
       "      <td>4982</td>\n",
       "    </tr>\n",
       "    <tr>\n",
       "      <th>5</th>\n",
       "      <td>2656</td>\n",
       "    </tr>\n",
       "  </tbody>\n",
       "</table>\n",
       "</div>"
      ],
      "text/plain": [
       "                   interior_cluster1\n",
       "interior_cluster1                   \n",
       "0                               1618\n",
       "1                               4156\n",
       "2                               5253\n",
       "3                               9713\n",
       "4                               4982\n",
       "5                               2656"
      ]
     },
     "execution_count": 26,
     "metadata": {},
     "output_type": "execute_result"
    }
   ],
   "source": [
    "pd.DataFrame(train_clusters.groupby(['interior_cluster1'])['interior_cluster1'].count())\n",
    "\n"
   ]
  },
  {
   "cell_type": "code",
   "execution_count": 27,
   "id": "3ab97e93",
   "metadata": {},
   "outputs": [],
   "source": [
    "#sns.scatterplot(train_clusters.bedrooms, train_clusters.logerror, hue=train_clusters.interior_cluster1)"
   ]
  },
  {
   "cell_type": "code",
   "execution_count": 28,
   "id": "db946757",
   "metadata": {},
   "outputs": [],
   "source": [
    "#sns.scatterplot(train_clusters.sq_feet, train_clusters.logerror, hue=train_clusters.interior_cluster1)"
   ]
  },
  {
   "cell_type": "code",
   "execution_count": 29,
   "id": "2c55e47b",
   "metadata": {},
   "outputs": [],
   "source": [
    "#train_clusters[train_clusters.interior_cluster1 == 2]"
   ]
  },
  {
   "cell_type": "code",
   "execution_count": 30,
   "id": "b11191f3",
   "metadata": {},
   "outputs": [],
   "source": [
    "#sns.scatterplot(train_clusters[train_clusters.interior_cluster1 == 2].bedrooms, train_clusters[train_clusters.interior_cluster1 == 2].logerror, hue=train_clusters.interior_cluster1)"
   ]
  },
  {
   "cell_type": "code",
   "execution_count": 31,
   "id": "a2c63814",
   "metadata": {},
   "outputs": [],
   "source": [
    "#sns.scatterplot(train_clusters[train_clusters.interior_cluster1 == 1].bath_bed_ratio, train_clusters[train_clusters.interior_cluster1 == 1].logerror, hue=train_clusters.interior_cluster1)"
   ]
  },
  {
   "cell_type": "code",
   "execution_count": 32,
   "id": "f9b4168a",
   "metadata": {},
   "outputs": [],
   "source": [
    "#plt.hist(train_clusters[train_clusters.interior_cluster1 == 0]['logerror'])"
   ]
  },
  {
   "cell_type": "code",
   "execution_count": 33,
   "id": "b3fba8a8",
   "metadata": {},
   "outputs": [],
   "source": [
    "#plt.figure(figsize=(12,6))\n",
    "# plt.scatter(y=X_train.latitude, x=X_train.longitude, c=X_train.area_cluster, alpha=.4)\n",
    "#plt.scatter(y=train_clusters.logerror, x=train_clusters.sq_feet, c=train_clusters.interior_cluster1, alpha=.4)\n",
    "#plt.set(title='logerror vs sq_feet'.format(k), xlabel='sq_feet', ylabel='logerror')\n",
    "#plt.legend()"
   ]
  },
  {
   "cell_type": "code",
   "execution_count": 34,
   "id": "c98b3d60",
   "metadata": {},
   "outputs": [
    {
     "data": {
      "text/plain": [
       "0.06955233626697876"
      ]
     },
     "execution_count": 34,
     "metadata": {},
     "output_type": "execute_result"
    }
   ],
   "source": [
    "train_clusters[train_clusters.interior_cluster1 == 0]['logerror'].abs().mean()"
   ]
  },
  {
   "cell_type": "code",
   "execution_count": 35,
   "id": "84dbc47b",
   "metadata": {},
   "outputs": [
    {
     "data": {
      "text/plain": [
       "0.07340950934656182"
      ]
     },
     "execution_count": 35,
     "metadata": {},
     "output_type": "execute_result"
    }
   ],
   "source": [
    "train_clusters[train_clusters.interior_cluster1 == 1]['logerror'].abs().mean()"
   ]
  },
  {
   "cell_type": "code",
   "execution_count": 36,
   "id": "8376c08f",
   "metadata": {},
   "outputs": [
    {
     "data": {
      "text/plain": [
       "0.07141700710014462"
      ]
     },
     "execution_count": 36,
     "metadata": {},
     "output_type": "execute_result"
    }
   ],
   "source": [
    "train_clusters[train_clusters.interior_cluster1 == 2]['logerror'].abs().mean()"
   ]
  },
  {
   "cell_type": "code",
   "execution_count": 37,
   "id": "6215366d",
   "metadata": {},
   "outputs": [
    {
     "data": {
      "text/plain": [
       "0.07177977686117148"
      ]
     },
     "execution_count": 37,
     "metadata": {},
     "output_type": "execute_result"
    }
   ],
   "source": [
    "train_clusters[train_clusters.interior_cluster1 == 3]['logerror'].abs().mean()"
   ]
  },
  {
   "cell_type": "code",
   "execution_count": 38,
   "id": "090fe20b",
   "metadata": {},
   "outputs": [
    {
     "data": {
      "text/plain": [
       "0.07283631756264358"
      ]
     },
     "execution_count": 38,
     "metadata": {},
     "output_type": "execute_result"
    }
   ],
   "source": [
    "train_clusters[train_clusters.interior_cluster1 == 4]['logerror'].abs().mean()"
   ]
  },
  {
   "cell_type": "code",
   "execution_count": 39,
   "id": "28126e05",
   "metadata": {},
   "outputs": [
    {
     "data": {
      "text/plain": [
       "0.06679235351584653"
      ]
     },
     "execution_count": 39,
     "metadata": {},
     "output_type": "execute_result"
    }
   ],
   "source": [
    "train_clusters[train_clusters.interior_cluster1 == 5]['logerror'].abs().mean()"
   ]
  },
  {
   "cell_type": "code",
   "execution_count": 40,
   "id": "d36b235d",
   "metadata": {},
   "outputs": [],
   "source": [
    "train_clusters['logerror_abs'] = train_clusters.logerror.abs()"
   ]
  },
  {
   "cell_type": "code",
   "execution_count": 41,
   "id": "e6790715",
   "metadata": {},
   "outputs": [],
   "source": [
    "#train_clusters.info()"
   ]
  },
  {
   "cell_type": "code",
   "execution_count": 42,
   "id": "2760c6b0",
   "metadata": {},
   "outputs": [
    {
     "data": {
      "text/plain": [
       "0.07154299587388376"
      ]
     },
     "execution_count": 42,
     "metadata": {},
     "output_type": "execute_result"
    }
   ],
   "source": [
    "train_clusters.logerror_abs.mean()"
   ]
  },
  {
   "cell_type": "code",
   "execution_count": 43,
   "id": "fa5a8104",
   "metadata": {},
   "outputs": [
    {
     "data": {
      "text/plain": [
       "(-0.604608397743315, 0.5455240512585082)"
      ]
     },
     "execution_count": 43,
     "metadata": {},
     "output_type": "execute_result"
    }
   ],
   "source": [
    "t, p = stats.ttest_1samp((train_clusters[train_clusters.interior_cluster1 == 0]['logerror'].abs()), (train_clusters.logerror_abs.mean()))\n",
    "t, p"
   ]
  },
  {
   "cell_type": "code",
   "execution_count": 44,
   "id": "dcd9a0dd",
   "metadata": {},
   "outputs": [
    {
     "data": {
      "text/plain": [
       "(0.7042935823893388, 0.4812894325068775)"
      ]
     },
     "execution_count": 44,
     "metadata": {},
     "output_type": "execute_result"
    }
   ],
   "source": [
    "t, p = stats.ttest_1samp((train_clusters[train_clusters.interior_cluster1 == 1]['logerror'].abs()), (train_clusters.logerror_abs.mean()))\n",
    "t, p"
   ]
  },
  {
   "cell_type": "code",
   "execution_count": 45,
   "id": "b0017dda",
   "metadata": {},
   "outputs": [
    {
     "data": {
      "text/plain": [
       "(-0.05689408183184019, 0.9546317329688915)"
      ]
     },
     "execution_count": 45,
     "metadata": {},
     "output_type": "execute_result"
    }
   ],
   "source": [
    "t, p = stats.ttest_1samp((train_clusters[train_clusters.interior_cluster1 == 2]['logerror'].abs()), (train_clusters.logerror_abs.mean()))\n",
    "t, p"
   ]
  },
  {
   "cell_type": "code",
   "execution_count": 46,
   "id": "3bbf7120",
   "metadata": {},
   "outputs": [
    {
     "data": {
      "text/plain": [
       "(0.14700772591190797, 0.8831289735797647)"
      ]
     },
     "execution_count": 46,
     "metadata": {},
     "output_type": "execute_result"
    }
   ],
   "source": [
    "t, p = stats.ttest_1samp((train_clusters[train_clusters.interior_cluster1 == 3]['logerror'].abs()), (train_clusters.logerror_abs.mean()))\n",
    "t, p"
   ]
  },
  {
   "cell_type": "code",
   "execution_count": 47,
   "id": "008cdcf8",
   "metadata": {},
   "outputs": [
    {
     "data": {
      "text/plain": [
       "(0.5832604461441707, 0.5597443914836405)"
      ]
     },
     "execution_count": 47,
     "metadata": {},
     "output_type": "execute_result"
    }
   ],
   "source": [
    "t, p = stats.ttest_1samp((train_clusters[train_clusters.interior_cluster1 == 4]['logerror'].abs()), (train_clusters.logerror_abs.mean()))\n",
    "t, p"
   ]
  },
  {
   "cell_type": "code",
   "execution_count": 48,
   "id": "36de7ee6",
   "metadata": {},
   "outputs": [
    {
     "data": {
      "text/plain": [
       "(-1.913911091384167, 0.05573892393122242)"
      ]
     },
     "execution_count": 48,
     "metadata": {},
     "output_type": "execute_result"
    }
   ],
   "source": [
    "t, p = stats.ttest_1samp((train_clusters[train_clusters.interior_cluster1 == 5]['logerror'].abs()), (train_clusters.logerror_abs.mean()))\n",
    "t, p"
   ]
  },
  {
   "cell_type": "markdown",
   "id": "141cbc3d",
   "metadata": {},
   "source": [
    "# working with k=7"
   ]
  },
  {
   "cell_type": "code",
   "execution_count": 49,
   "id": "c7921299",
   "metadata": {},
   "outputs": [],
   "source": [
    "# list of variables I will cluster on. \n",
    "\n",
    "cluster_name = 'interior_cluster2'\n",
    "#k_range = range(2,20)"
   ]
  },
  {
   "cell_type": "code",
   "execution_count": 50,
   "id": "795e66d8",
   "metadata": {},
   "outputs": [],
   "source": [
    "kmeans = create_clusters(X_train, 7, cluster_vars)"
   ]
  },
  {
   "cell_type": "code",
   "execution_count": 51,
   "id": "f00da131",
   "metadata": {},
   "outputs": [],
   "source": [
    "centroid_df = get_centroids(kmeans, cluster_vars, cluster_name)"
   ]
  },
  {
   "cell_type": "code",
   "execution_count": 52,
   "id": "1aa58b4c",
   "metadata": {
    "scrolled": true
   },
   "outputs": [],
   "source": [
    "X = assign_clusters(X_train, kmeans, cluster_vars, cluster_name, centroid_df)"
   ]
  },
  {
   "cell_type": "code",
   "execution_count": 53,
   "id": "d70788e6",
   "metadata": {},
   "outputs": [],
   "source": [
    "train_clusters = pd.concat([train_clusters, X['interior_cluster2']], axis=1)"
   ]
  },
  {
   "cell_type": "code",
   "execution_count": 54,
   "id": "e7f107d5",
   "metadata": {
    "scrolled": true
   },
   "outputs": [
    {
     "data": {
      "text/html": [
       "<div>\n",
       "<style scoped>\n",
       "    .dataframe tbody tr th:only-of-type {\n",
       "        vertical-align: middle;\n",
       "    }\n",
       "\n",
       "    .dataframe tbody tr th {\n",
       "        vertical-align: top;\n",
       "    }\n",
       "\n",
       "    .dataframe thead th {\n",
       "        text-align: right;\n",
       "    }\n",
       "</style>\n",
       "<table border=\"1\" class=\"dataframe\">\n",
       "  <thead>\n",
       "    <tr style=\"text-align: right;\">\n",
       "      <th></th>\n",
       "      <th>interior_cluster2</th>\n",
       "    </tr>\n",
       "    <tr>\n",
       "      <th>interior_cluster2</th>\n",
       "      <th></th>\n",
       "    </tr>\n",
       "  </thead>\n",
       "  <tbody>\n",
       "    <tr>\n",
       "      <th>0</th>\n",
       "      <td>2407</td>\n",
       "    </tr>\n",
       "    <tr>\n",
       "      <th>1</th>\n",
       "      <td>4133</td>\n",
       "    </tr>\n",
       "    <tr>\n",
       "      <th>2</th>\n",
       "      <td>4964</td>\n",
       "    </tr>\n",
       "    <tr>\n",
       "      <th>3</th>\n",
       "      <td>2495</td>\n",
       "    </tr>\n",
       "    <tr>\n",
       "      <th>4</th>\n",
       "      <td>1563</td>\n",
       "    </tr>\n",
       "    <tr>\n",
       "      <th>5</th>\n",
       "      <td>8219</td>\n",
       "    </tr>\n",
       "    <tr>\n",
       "      <th>6</th>\n",
       "      <td>4597</td>\n",
       "    </tr>\n",
       "  </tbody>\n",
       "</table>\n",
       "</div>"
      ],
      "text/plain": [
       "                   interior_cluster2\n",
       "interior_cluster2                   \n",
       "0                               2407\n",
       "1                               4133\n",
       "2                               4964\n",
       "3                               2495\n",
       "4                               1563\n",
       "5                               8219\n",
       "6                               4597"
      ]
     },
     "execution_count": 54,
     "metadata": {},
     "output_type": "execute_result"
    }
   ],
   "source": [
    "pd.DataFrame(train_clusters.groupby(['interior_cluster2'])['interior_cluster2'].count())\n",
    "\n"
   ]
  },
  {
   "cell_type": "code",
   "execution_count": 55,
   "id": "3bed24ac",
   "metadata": {},
   "outputs": [
    {
     "data": {
      "text/plain": [
       "(-0.07423210605327785, 0.9408318702105614)"
      ]
     },
     "execution_count": 55,
     "metadata": {},
     "output_type": "execute_result"
    }
   ],
   "source": [
    "t, p = stats.ttest_1samp((train_clusters[train_clusters.interior_cluster2 == 0]['logerror'].abs()), (train_clusters.logerror_abs.mean()))\n",
    "t, p"
   ]
  },
  {
   "cell_type": "code",
   "execution_count": 56,
   "id": "a0fd14cf",
   "metadata": {},
   "outputs": [
    {
     "data": {
      "text/plain": [
       "(-0.9856321106117554, 0.324371384299427)"
      ]
     },
     "execution_count": 56,
     "metadata": {},
     "output_type": "execute_result"
    }
   ],
   "source": [
    "t, p = stats.ttest_1samp((train_clusters[train_clusters.interior_cluster2 == 1]['logerror'].abs()), (train_clusters.logerror_abs.mean()))\n",
    "t, p"
   ]
  },
  {
   "cell_type": "code",
   "execution_count": 57,
   "id": "febe51d7",
   "metadata": {},
   "outputs": [
    {
     "data": {
      "text/plain": [
       "(0.6526420604947348, 0.5140172908361859)"
      ]
     },
     "execution_count": 57,
     "metadata": {},
     "output_type": "execute_result"
    }
   ],
   "source": [
    "t, p = stats.ttest_1samp((train_clusters[train_clusters.interior_cluster2 == 2]['logerror'].abs()), (train_clusters.logerror_abs.mean()))\n",
    "t, p"
   ]
  },
  {
   "cell_type": "markdown",
   "id": "4d2a3980",
   "metadata": {},
   "source": [
    "### cluster 3 is significant!!!"
   ]
  },
  {
   "cell_type": "code",
   "execution_count": 58,
   "id": "df03f515",
   "metadata": {
    "scrolled": true
   },
   "outputs": [
    {
     "data": {
      "text/plain": [
       "(-2.1197842788028, 0.03412275941003845)"
      ]
     },
     "execution_count": 58,
     "metadata": {},
     "output_type": "execute_result"
    }
   ],
   "source": [
    "t, p = stats.ttest_1samp((train_clusters[train_clusters.interior_cluster2 == 3]['logerror'].abs()), (train_clusters.logerror_abs.mean()))\n",
    "t, p"
   ]
  },
  {
   "cell_type": "code",
   "execution_count": 59,
   "id": "8d134438",
   "metadata": {
    "scrolled": true
   },
   "outputs": [
    {
     "data": {
      "text/plain": [
       "(-0.4263377160673346, 0.6699205242811842)"
      ]
     },
     "execution_count": 59,
     "metadata": {},
     "output_type": "execute_result"
    }
   ],
   "source": [
    "t, p = stats.ttest_1samp((train_clusters[train_clusters.interior_cluster2 == 4]['logerror'].abs()), (train_clusters.logerror_abs.mean()))\n",
    "t, p"
   ]
  },
  {
   "cell_type": "code",
   "execution_count": 60,
   "id": "0e774e5b",
   "metadata": {},
   "outputs": [
    {
     "data": {
      "text/plain": [
       "(0.3590621329545367, 0.7195578333051393)"
      ]
     },
     "execution_count": 60,
     "metadata": {},
     "output_type": "execute_result"
    }
   ],
   "source": [
    "t, p = stats.ttest_1samp((train_clusters[train_clusters.interior_cluster2 == 5]['logerror'].abs()), (train_clusters.logerror_abs.mean()))\n",
    "t, p"
   ]
  },
  {
   "cell_type": "code",
   "execution_count": 61,
   "id": "56ac99bf",
   "metadata": {},
   "outputs": [
    {
     "data": {
      "text/plain": [
       "(1.0989916092661203, 0.27182929090501273)"
      ]
     },
     "execution_count": 61,
     "metadata": {},
     "output_type": "execute_result"
    }
   ],
   "source": [
    "t, p = stats.ttest_1samp((train_clusters[train_clusters.interior_cluster2 == 6]['logerror'].abs()), (train_clusters.logerror_abs.mean()))\n",
    "t, p"
   ]
  },
  {
   "cell_type": "markdown",
   "id": "9d0802f9",
   "metadata": {},
   "source": [
    "# working with k5"
   ]
  },
  {
   "cell_type": "markdown",
   "id": "f05500cc",
   "metadata": {},
   "source": [
    "# list of variables I will cluster on. \n",
    "\n",
    "cluster_name = 'interior_cluster3'\n",
    "#k_range = range(2,20)"
   ]
  },
  {
   "cell_type": "markdown",
   "id": "afb7005e",
   "metadata": {},
   "source": [
    "kmeans = create_clusters(X_train, 5, cluster_vars)"
   ]
  },
  {
   "cell_type": "markdown",
   "id": "fe3f87eb",
   "metadata": {},
   "source": [
    "centroid_df = get_centroids(kmeans, cluster_vars, cluster_name)"
   ]
  },
  {
   "cell_type": "markdown",
   "id": "b65a4e71",
   "metadata": {
    "scrolled": true
   },
   "source": [
    "X = assign_clusters(X_train, kmeans, cluster_vars, cluster_name, centroid_df)"
   ]
  },
  {
   "cell_type": "markdown",
   "id": "102b2cd5",
   "metadata": {},
   "source": [
    "train_clusters = pd.concat([train_clusters, X['interior_cluster3']], axis=1)"
   ]
  },
  {
   "cell_type": "markdown",
   "id": "0a370836",
   "metadata": {
    "scrolled": true
   },
   "source": [
    "pd.DataFrame(train_clusters.groupby(['interior_cluster3'])['interior_cluster3'].count())\n",
    "\n"
   ]
  },
  {
   "cell_type": "markdown",
   "id": "c23dcca1",
   "metadata": {},
   "source": [
    "t, p = stats.ttest_1samp((train_clusters[train_clusters.interior_cluster3 == 0]['logerror'].abs()), (train_clusters.logerror_abs.mean()))\n",
    "t, p"
   ]
  },
  {
   "cell_type": "markdown",
   "id": "feee2df2",
   "metadata": {},
   "source": [
    "t, p = stats.ttest_1samp((train_clusters[train_clusters.interior_cluster3 == 1]['logerror'].abs()), (train_clusters.logerror_abs.mean()))\n",
    "t, p"
   ]
  },
  {
   "cell_type": "markdown",
   "id": "69574604",
   "metadata": {},
   "source": [
    "t, p = stats.ttest_1samp((train_clusters[train_clusters.interior_cluster3 == 2]['logerror'].abs()), (train_clusters.logerror_abs.mean()))\n",
    "t, p"
   ]
  },
  {
   "cell_type": "markdown",
   "id": "649c5984",
   "metadata": {},
   "source": [
    "t, p = stats.ttest_1samp((train_clusters[train_clusters.interior_cluster3 == 3]['logerror'].abs()), (train_clusters.logerror_abs.mean()))\n",
    "t, p"
   ]
  },
  {
   "cell_type": "markdown",
   "id": "f87f1274",
   "metadata": {},
   "source": [
    "t, p = stats.ttest_1samp((train_clusters[train_clusters.interior_cluster3 == 4]['logerror'].abs()), (train_clusters.logerror_abs.mean()))\n",
    "t, p"
   ]
  },
  {
   "cell_type": "markdown",
   "id": "a75b754a",
   "metadata": {},
   "source": [
    "# working with k8"
   ]
  },
  {
   "cell_type": "markdown",
   "id": "a6a53109",
   "metadata": {},
   "source": [
    "cluster_name = 'interior_cluster4'\n",
    "kmeans = create_clusters(X_train, 8, cluster_vars)\n",
    "centroid_df = get_centroids(kmeans, cluster_vars, cluster_name)\n",
    "X = assign_clusters(X_train, kmeans, cluster_vars, cluster_name, centroid_df)\n",
    "train_clusters = pd.concat([train_clusters, X['interior_cluster4']], axis=1)\n",
    "pd.DataFrame(train_clusters.groupby(['interior_cluster4'])['interior_cluster4'].count())"
   ]
  },
  {
   "cell_type": "markdown",
   "id": "11a2f832",
   "metadata": {},
   "source": [
    "t, p = stats.ttest_1samp((train_clusters[train_clusters.interior_cluster4 == 0]['logerror'].abs()), (train_clusters.logerror_abs.mean()))\n",
    "t, p"
   ]
  },
  {
   "cell_type": "markdown",
   "id": "f7553732",
   "metadata": {},
   "source": [
    "t, p = stats.ttest_1samp((train_clusters[train_clusters.interior_cluster4 == 1]['logerror'].abs()), (train_clusters.logerror_abs.mean()))\n",
    "t, p"
   ]
  },
  {
   "cell_type": "markdown",
   "id": "b6578d1c",
   "metadata": {},
   "source": [
    "t, p = stats.ttest_1samp((train_clusters[train_clusters.interior_cluster4 == 2]['logerror'].abs()), (train_clusters.logerror_abs.mean()))\n",
    "t, p"
   ]
  },
  {
   "cell_type": "markdown",
   "id": "ee313c2b",
   "metadata": {},
   "source": [
    "t, p = stats.ttest_1samp((train_clusters[train_clusters.interior_cluster4 == 3]['logerror'].abs()), (train_clusters.logerror_abs.mean()))\n",
    "t, p"
   ]
  },
  {
   "cell_type": "markdown",
   "id": "34bb4284",
   "metadata": {},
   "source": [
    "t, p = stats.ttest_1samp((train_clusters[train_clusters.interior_cluster4 == 4]['logerror'].abs()), (train_clusters.logerror_abs.mean()))\n",
    "t, p"
   ]
  },
  {
   "cell_type": "markdown",
   "id": "11da5b28",
   "metadata": {},
   "source": [
    "### cluster 5 is significant"
   ]
  },
  {
   "cell_type": "markdown",
   "id": "519b5517",
   "metadata": {},
   "source": [
    "t, p = stats.ttest_1samp((train_clusters[train_clusters.interior_cluster4 == 5]['logerror'].abs()), (train_clusters.logerror_abs.mean()))\n",
    "t, p"
   ]
  },
  {
   "cell_type": "markdown",
   "id": "0babe16c",
   "metadata": {},
   "source": [
    "t, p = stats.ttest_1samp((train_clusters[train_clusters.interior_cluster4 == 6]['logerror'].abs()), (train_clusters.logerror_abs.mean()))\n",
    "t, p"
   ]
  },
  {
   "cell_type": "markdown",
   "id": "586ae0a3",
   "metadata": {},
   "source": [
    "t, p = stats.ttest_1samp((train_clusters[train_clusters.interior_cluster4 == 7]['logerror'].abs()), (train_clusters.logerror_abs.mean()))\n",
    "t, p"
   ]
  },
  {
   "cell_type": "markdown",
   "id": "eec59f7a",
   "metadata": {},
   "source": [
    "# messing with validate"
   ]
  },
  {
   "cell_type": "code",
   "execution_count": 62,
   "id": "11adfc04",
   "metadata": {},
   "outputs": [
    {
     "data": {
      "text/html": [
       "<div>\n",
       "<style scoped>\n",
       "    .dataframe tbody tr th:only-of-type {\n",
       "        vertical-align: middle;\n",
       "    }\n",
       "\n",
       "    .dataframe tbody tr th {\n",
       "        vertical-align: top;\n",
       "    }\n",
       "\n",
       "    .dataframe thead th {\n",
       "        text-align: right;\n",
       "    }\n",
       "</style>\n",
       "<table border=\"1\" class=\"dataframe\">\n",
       "  <thead>\n",
       "    <tr style=\"text-align: right;\">\n",
       "      <th></th>\n",
       "      <th>parcelid</th>\n",
       "      <th>logerror</th>\n",
       "      <th>bathrooms</th>\n",
       "      <th>bedrooms</th>\n",
       "      <th>sq_feet</th>\n",
       "      <th>fips</th>\n",
       "      <th>latitude</th>\n",
       "      <th>longitude</th>\n",
       "      <th>lotsizesquarefeet</th>\n",
       "      <th>regionidcity</th>\n",
       "      <th>...</th>\n",
       "      <th>taxrate</th>\n",
       "      <th>acres</th>\n",
       "      <th>acres_bin</th>\n",
       "      <th>sqft_bin</th>\n",
       "      <th>structure_dollar_per_sqft</th>\n",
       "      <th>structure_dollar_sqft_bin</th>\n",
       "      <th>land_dollar_per_sqft</th>\n",
       "      <th>lot_dollar_sqft_bin</th>\n",
       "      <th>bath_bed_ratio</th>\n",
       "      <th>cola</th>\n",
       "    </tr>\n",
       "  </thead>\n",
       "  <tbody>\n",
       "    <tr>\n",
       "      <th>31502</th>\n",
       "      <td>13036970</td>\n",
       "      <td>0.011672</td>\n",
       "      <td>2.0</td>\n",
       "      <td>4.0</td>\n",
       "      <td>1125.0</td>\n",
       "      <td>6037.0</td>\n",
       "      <td>34126148.0</td>\n",
       "      <td>-117856914.0</td>\n",
       "      <td>6776.0</td>\n",
       "      <td>11626.0</td>\n",
       "      <td>...</td>\n",
       "      <td>1.307240</td>\n",
       "      <td>0.155556</td>\n",
       "      <td>0.2</td>\n",
       "      <td>0.2</td>\n",
       "      <td>86.208000</td>\n",
       "      <td>0.3</td>\n",
       "      <td>8.438459</td>\n",
       "      <td>0.2</td>\n",
       "      <td>0.500000</td>\n",
       "      <td>0</td>\n",
       "    </tr>\n",
       "    <tr>\n",
       "      <th>30324</th>\n",
       "      <td>10785882</td>\n",
       "      <td>0.026080</td>\n",
       "      <td>2.0</td>\n",
       "      <td>3.0</td>\n",
       "      <td>1377.0</td>\n",
       "      <td>6037.0</td>\n",
       "      <td>34185892.0</td>\n",
       "      <td>-118554052.0</td>\n",
       "      <td>6838.0</td>\n",
       "      <td>12447.0</td>\n",
       "      <td>...</td>\n",
       "      <td>1.232719</td>\n",
       "      <td>0.156979</td>\n",
       "      <td>0.2</td>\n",
       "      <td>0.3</td>\n",
       "      <td>98.720407</td>\n",
       "      <td>0.3</td>\n",
       "      <td>25.724773</td>\n",
       "      <td>0.3</td>\n",
       "      <td>0.666667</td>\n",
       "      <td>1</td>\n",
       "    </tr>\n",
       "    <tr>\n",
       "      <th>5349</th>\n",
       "      <td>12431422</td>\n",
       "      <td>0.008721</td>\n",
       "      <td>1.0</td>\n",
       "      <td>3.0</td>\n",
       "      <td>1215.0</td>\n",
       "      <td>6037.0</td>\n",
       "      <td>33835356.0</td>\n",
       "      <td>-118099347.0</td>\n",
       "      <td>5026.0</td>\n",
       "      <td>12292.0</td>\n",
       "      <td>...</td>\n",
       "      <td>1.307506</td>\n",
       "      <td>0.115381</td>\n",
       "      <td>0.1</td>\n",
       "      <td>0.2</td>\n",
       "      <td>165.405761</td>\n",
       "      <td>0.5</td>\n",
       "      <td>15.026661</td>\n",
       "      <td>0.2</td>\n",
       "      <td>0.333333</td>\n",
       "      <td>0</td>\n",
       "    </tr>\n",
       "    <tr>\n",
       "      <th>14766</th>\n",
       "      <td>11208099</td>\n",
       "      <td>-0.010548</td>\n",
       "      <td>1.0</td>\n",
       "      <td>3.0</td>\n",
       "      <td>1156.0</td>\n",
       "      <td>6037.0</td>\n",
       "      <td>34583347.0</td>\n",
       "      <td>-118069180.0</td>\n",
       "      <td>7197.0</td>\n",
       "      <td>40227.0</td>\n",
       "      <td>...</td>\n",
       "      <td>2.736125</td>\n",
       "      <td>0.165220</td>\n",
       "      <td>0.2</td>\n",
       "      <td>0.2</td>\n",
       "      <td>37.702422</td>\n",
       "      <td>0.1</td>\n",
       "      <td>2.023204</td>\n",
       "      <td>0.1</td>\n",
       "      <td>0.333333</td>\n",
       "      <td>0</td>\n",
       "    </tr>\n",
       "    <tr>\n",
       "      <th>37693</th>\n",
       "      <td>11602933</td>\n",
       "      <td>-0.104575</td>\n",
       "      <td>2.0</td>\n",
       "      <td>3.0</td>\n",
       "      <td>2163.0</td>\n",
       "      <td>6037.0</td>\n",
       "      <td>34043256.0</td>\n",
       "      <td>-118404906.0</td>\n",
       "      <td>8557.0</td>\n",
       "      <td>12447.0</td>\n",
       "      <td>...</td>\n",
       "      <td>1.358167</td>\n",
       "      <td>0.196442</td>\n",
       "      <td>0.2</td>\n",
       "      <td>0.5</td>\n",
       "      <td>16.572353</td>\n",
       "      <td>0.0</td>\n",
       "      <td>10.259320</td>\n",
       "      <td>0.2</td>\n",
       "      <td>0.666667</td>\n",
       "      <td>1</td>\n",
       "    </tr>\n",
       "    <tr>\n",
       "      <th>...</th>\n",
       "      <td>...</td>\n",
       "      <td>...</td>\n",
       "      <td>...</td>\n",
       "      <td>...</td>\n",
       "      <td>...</td>\n",
       "      <td>...</td>\n",
       "      <td>...</td>\n",
       "      <td>...</td>\n",
       "      <td>...</td>\n",
       "      <td>...</td>\n",
       "      <td>...</td>\n",
       "      <td>...</td>\n",
       "      <td>...</td>\n",
       "      <td>...</td>\n",
       "      <td>...</td>\n",
       "      <td>...</td>\n",
       "      <td>...</td>\n",
       "      <td>...</td>\n",
       "      <td>...</td>\n",
       "      <td>...</td>\n",
       "      <td>...</td>\n",
       "    </tr>\n",
       "    <tr>\n",
       "      <th>18312</th>\n",
       "      <td>14261743</td>\n",
       "      <td>-0.175070</td>\n",
       "      <td>2.0</td>\n",
       "      <td>4.0</td>\n",
       "      <td>1361.0</td>\n",
       "      <td>6059.0</td>\n",
       "      <td>33720425.0</td>\n",
       "      <td>-117902104.0</td>\n",
       "      <td>8239.0</td>\n",
       "      <td>47568.0</td>\n",
       "      <td>...</td>\n",
       "      <td>1.194970</td>\n",
       "      <td>0.189141</td>\n",
       "      <td>0.2</td>\n",
       "      <td>0.3</td>\n",
       "      <td>56.872153</td>\n",
       "      <td>0.2</td>\n",
       "      <td>43.888457</td>\n",
       "      <td>0.3</td>\n",
       "      <td>0.500000</td>\n",
       "      <td>0</td>\n",
       "    </tr>\n",
       "    <tr>\n",
       "      <th>11011</th>\n",
       "      <td>14348434</td>\n",
       "      <td>-0.002562</td>\n",
       "      <td>3.0</td>\n",
       "      <td>4.0</td>\n",
       "      <td>2633.0</td>\n",
       "      <td>6059.0</td>\n",
       "      <td>33723874.0</td>\n",
       "      <td>-117757348.0</td>\n",
       "      <td>5293.0</td>\n",
       "      <td>52650.0</td>\n",
       "      <td>...</td>\n",
       "      <td>1.150753</td>\n",
       "      <td>0.121511</td>\n",
       "      <td>0.1</td>\n",
       "      <td>0.6</td>\n",
       "      <td>151.497531</td>\n",
       "      <td>0.5</td>\n",
       "      <td>155.232005</td>\n",
       "      <td>0.5</td>\n",
       "      <td>0.750000</td>\n",
       "      <td>0</td>\n",
       "    </tr>\n",
       "    <tr>\n",
       "      <th>28978</th>\n",
       "      <td>14165100</td>\n",
       "      <td>0.063066</td>\n",
       "      <td>2.0</td>\n",
       "      <td>4.0</td>\n",
       "      <td>1706.0</td>\n",
       "      <td>6059.0</td>\n",
       "      <td>33895040.0</td>\n",
       "      <td>-117806979.0</td>\n",
       "      <td>6885.0</td>\n",
       "      <td>21412.0</td>\n",
       "      <td>...</td>\n",
       "      <td>1.592896</td>\n",
       "      <td>0.158058</td>\n",
       "      <td>0.2</td>\n",
       "      <td>0.4</td>\n",
       "      <td>28.873974</td>\n",
       "      <td>0.1</td>\n",
       "      <td>2.855773</td>\n",
       "      <td>0.1</td>\n",
       "      <td>0.500000</td>\n",
       "      <td>0</td>\n",
       "    </tr>\n",
       "    <tr>\n",
       "      <th>31520</th>\n",
       "      <td>17078917</td>\n",
       "      <td>0.044403</td>\n",
       "      <td>1.0</td>\n",
       "      <td>2.0</td>\n",
       "      <td>1321.0</td>\n",
       "      <td>6111.0</td>\n",
       "      <td>34275636.0</td>\n",
       "      <td>-119264241.0</td>\n",
       "      <td>6000.0</td>\n",
       "      <td>34543.0</td>\n",
       "      <td>...</td>\n",
       "      <td>1.059441</td>\n",
       "      <td>0.137741</td>\n",
       "      <td>0.1</td>\n",
       "      <td>0.3</td>\n",
       "      <td>88.314913</td>\n",
       "      <td>0.3</td>\n",
       "      <td>20.231000</td>\n",
       "      <td>0.3</td>\n",
       "      <td>0.500000</td>\n",
       "      <td>0</td>\n",
       "    </tr>\n",
       "    <tr>\n",
       "      <th>3202</th>\n",
       "      <td>12451632</td>\n",
       "      <td>-0.008361</td>\n",
       "      <td>1.0</td>\n",
       "      <td>2.0</td>\n",
       "      <td>911.0</td>\n",
       "      <td>6037.0</td>\n",
       "      <td>33862484.0</td>\n",
       "      <td>-118171283.0</td>\n",
       "      <td>4570.0</td>\n",
       "      <td>46298.0</td>\n",
       "      <td>...</td>\n",
       "      <td>1.213148</td>\n",
       "      <td>0.104913</td>\n",
       "      <td>0.1</td>\n",
       "      <td>0.1</td>\n",
       "      <td>98.299671</td>\n",
       "      <td>0.3</td>\n",
       "      <td>41.949453</td>\n",
       "      <td>0.3</td>\n",
       "      <td>0.500000</td>\n",
       "      <td>0</td>\n",
       "    </tr>\n",
       "  </tbody>\n",
       "</table>\n",
       "<p>12163 rows × 29 columns</p>\n",
       "</div>"
      ],
      "text/plain": [
       "       parcelid  logerror  bathrooms  bedrooms  sq_feet    fips    latitude  \\\n",
       "31502  13036970  0.011672        2.0       4.0   1125.0  6037.0  34126148.0   \n",
       "30324  10785882  0.026080        2.0       3.0   1377.0  6037.0  34185892.0   \n",
       "5349   12431422  0.008721        1.0       3.0   1215.0  6037.0  33835356.0   \n",
       "14766  11208099 -0.010548        1.0       3.0   1156.0  6037.0  34583347.0   \n",
       "37693  11602933 -0.104575        2.0       3.0   2163.0  6037.0  34043256.0   \n",
       "...         ...       ...        ...       ...      ...     ...         ...   \n",
       "18312  14261743 -0.175070        2.0       4.0   1361.0  6059.0  33720425.0   \n",
       "11011  14348434 -0.002562        3.0       4.0   2633.0  6059.0  33723874.0   \n",
       "28978  14165100  0.063066        2.0       4.0   1706.0  6059.0  33895040.0   \n",
       "31520  17078917  0.044403        1.0       2.0   1321.0  6111.0  34275636.0   \n",
       "3202   12451632 -0.008361        1.0       2.0    911.0  6037.0  33862484.0   \n",
       "\n",
       "         longitude  lotsizesquarefeet  regionidcity  ...   taxrate     acres  \\\n",
       "31502 -117856914.0             6776.0       11626.0  ...  1.307240  0.155556   \n",
       "30324 -118554052.0             6838.0       12447.0  ...  1.232719  0.156979   \n",
       "5349  -118099347.0             5026.0       12292.0  ...  1.307506  0.115381   \n",
       "14766 -118069180.0             7197.0       40227.0  ...  2.736125  0.165220   \n",
       "37693 -118404906.0             8557.0       12447.0  ...  1.358167  0.196442   \n",
       "...            ...                ...           ...  ...       ...       ...   \n",
       "18312 -117902104.0             8239.0       47568.0  ...  1.194970  0.189141   \n",
       "11011 -117757348.0             5293.0       52650.0  ...  1.150753  0.121511   \n",
       "28978 -117806979.0             6885.0       21412.0  ...  1.592896  0.158058   \n",
       "31520 -119264241.0             6000.0       34543.0  ...  1.059441  0.137741   \n",
       "3202  -118171283.0             4570.0       46298.0  ...  1.213148  0.104913   \n",
       "\n",
       "       acres_bin  sqft_bin  structure_dollar_per_sqft  \\\n",
       "31502        0.2       0.2                  86.208000   \n",
       "30324        0.2       0.3                  98.720407   \n",
       "5349         0.1       0.2                 165.405761   \n",
       "14766        0.2       0.2                  37.702422   \n",
       "37693        0.2       0.5                  16.572353   \n",
       "...          ...       ...                        ...   \n",
       "18312        0.2       0.3                  56.872153   \n",
       "11011        0.1       0.6                 151.497531   \n",
       "28978        0.2       0.4                  28.873974   \n",
       "31520        0.1       0.3                  88.314913   \n",
       "3202         0.1       0.1                  98.299671   \n",
       "\n",
       "       structure_dollar_sqft_bin  land_dollar_per_sqft  lot_dollar_sqft_bin  \\\n",
       "31502                        0.3              8.438459                  0.2   \n",
       "30324                        0.3             25.724773                  0.3   \n",
       "5349                         0.5             15.026661                  0.2   \n",
       "14766                        0.1              2.023204                  0.1   \n",
       "37693                        0.0             10.259320                  0.2   \n",
       "...                          ...                   ...                  ...   \n",
       "18312                        0.2             43.888457                  0.3   \n",
       "11011                        0.5            155.232005                  0.5   \n",
       "28978                        0.1              2.855773                  0.1   \n",
       "31520                        0.3             20.231000                  0.3   \n",
       "3202                         0.3             41.949453                  0.3   \n",
       "\n",
       "       bath_bed_ratio  cola  \n",
       "31502        0.500000     0  \n",
       "30324        0.666667     1  \n",
       "5349         0.333333     0  \n",
       "14766        0.333333     0  \n",
       "37693        0.666667     1  \n",
       "...               ...   ...  \n",
       "18312        0.500000     0  \n",
       "11011        0.750000     0  \n",
       "28978        0.500000     0  \n",
       "31520        0.500000     0  \n",
       "3202         0.500000     0  \n",
       "\n",
       "[12163 rows x 29 columns]"
      ]
     },
     "execution_count": 62,
     "metadata": {},
     "output_type": "execute_result"
    }
   ],
   "source": [
    "validate"
   ]
  },
  {
   "cell_type": "code",
   "execution_count": 63,
   "id": "1a32b95e",
   "metadata": {},
   "outputs": [],
   "source": [
    "X_validate_scaled = validate_scaled[['bedrooms','bathrooms','sq_feet']]"
   ]
  },
  {
   "cell_type": "code",
   "execution_count": 64,
   "id": "9914a8dd",
   "metadata": {},
   "outputs": [],
   "source": [
    "interior_cluster_k7_pred_val = kmeans.predict(X_validate_scaled)"
   ]
  },
  {
   "cell_type": "code",
   "execution_count": 65,
   "id": "20372c39",
   "metadata": {},
   "outputs": [],
   "source": [
    "validate['interior_cluster_k7_pred_val'] = kmeans.predict(X_validate_scaled)"
   ]
  },
  {
   "cell_type": "code",
   "execution_count": 66,
   "id": "6cdcead0",
   "metadata": {
    "scrolled": true
   },
   "outputs": [
    {
     "data": {
      "text/html": [
       "<div>\n",
       "<style scoped>\n",
       "    .dataframe tbody tr th:only-of-type {\n",
       "        vertical-align: middle;\n",
       "    }\n",
       "\n",
       "    .dataframe tbody tr th {\n",
       "        vertical-align: top;\n",
       "    }\n",
       "\n",
       "    .dataframe thead th {\n",
       "        text-align: right;\n",
       "    }\n",
       "</style>\n",
       "<table border=\"1\" class=\"dataframe\">\n",
       "  <thead>\n",
       "    <tr style=\"text-align: right;\">\n",
       "      <th></th>\n",
       "      <th>parcelid</th>\n",
       "      <th>logerror</th>\n",
       "      <th>bathrooms</th>\n",
       "      <th>bedrooms</th>\n",
       "      <th>sq_feet</th>\n",
       "      <th>fips</th>\n",
       "      <th>latitude</th>\n",
       "      <th>longitude</th>\n",
       "      <th>lotsizesquarefeet</th>\n",
       "      <th>regionidcity</th>\n",
       "      <th>...</th>\n",
       "      <th>acres</th>\n",
       "      <th>acres_bin</th>\n",
       "      <th>sqft_bin</th>\n",
       "      <th>structure_dollar_per_sqft</th>\n",
       "      <th>structure_dollar_sqft_bin</th>\n",
       "      <th>land_dollar_per_sqft</th>\n",
       "      <th>lot_dollar_sqft_bin</th>\n",
       "      <th>bath_bed_ratio</th>\n",
       "      <th>cola</th>\n",
       "      <th>interior_cluster_k7_pred_val</th>\n",
       "    </tr>\n",
       "  </thead>\n",
       "  <tbody>\n",
       "    <tr>\n",
       "      <th>31502</th>\n",
       "      <td>13036970</td>\n",
       "      <td>0.011672</td>\n",
       "      <td>2.0</td>\n",
       "      <td>4.0</td>\n",
       "      <td>1125.0</td>\n",
       "      <td>6037.0</td>\n",
       "      <td>34126148.0</td>\n",
       "      <td>-117856914.0</td>\n",
       "      <td>6776.0</td>\n",
       "      <td>11626.0</td>\n",
       "      <td>...</td>\n",
       "      <td>0.155556</td>\n",
       "      <td>0.2</td>\n",
       "      <td>0.2</td>\n",
       "      <td>86.208000</td>\n",
       "      <td>0.3</td>\n",
       "      <td>8.438459</td>\n",
       "      <td>0.2</td>\n",
       "      <td>0.500000</td>\n",
       "      <td>0</td>\n",
       "      <td>1</td>\n",
       "    </tr>\n",
       "    <tr>\n",
       "      <th>30324</th>\n",
       "      <td>10785882</td>\n",
       "      <td>0.026080</td>\n",
       "      <td>2.0</td>\n",
       "      <td>3.0</td>\n",
       "      <td>1377.0</td>\n",
       "      <td>6037.0</td>\n",
       "      <td>34185892.0</td>\n",
       "      <td>-118554052.0</td>\n",
       "      <td>6838.0</td>\n",
       "      <td>12447.0</td>\n",
       "      <td>...</td>\n",
       "      <td>0.156979</td>\n",
       "      <td>0.2</td>\n",
       "      <td>0.3</td>\n",
       "      <td>98.720407</td>\n",
       "      <td>0.3</td>\n",
       "      <td>25.724773</td>\n",
       "      <td>0.3</td>\n",
       "      <td>0.666667</td>\n",
       "      <td>1</td>\n",
       "      <td>5</td>\n",
       "    </tr>\n",
       "    <tr>\n",
       "      <th>5349</th>\n",
       "      <td>12431422</td>\n",
       "      <td>0.008721</td>\n",
       "      <td>1.0</td>\n",
       "      <td>3.0</td>\n",
       "      <td>1215.0</td>\n",
       "      <td>6037.0</td>\n",
       "      <td>33835356.0</td>\n",
       "      <td>-118099347.0</td>\n",
       "      <td>5026.0</td>\n",
       "      <td>12292.0</td>\n",
       "      <td>...</td>\n",
       "      <td>0.115381</td>\n",
       "      <td>0.1</td>\n",
       "      <td>0.2</td>\n",
       "      <td>165.405761</td>\n",
       "      <td>0.5</td>\n",
       "      <td>15.026661</td>\n",
       "      <td>0.2</td>\n",
       "      <td>0.333333</td>\n",
       "      <td>0</td>\n",
       "      <td>0</td>\n",
       "    </tr>\n",
       "    <tr>\n",
       "      <th>14766</th>\n",
       "      <td>11208099</td>\n",
       "      <td>-0.010548</td>\n",
       "      <td>1.0</td>\n",
       "      <td>3.0</td>\n",
       "      <td>1156.0</td>\n",
       "      <td>6037.0</td>\n",
       "      <td>34583347.0</td>\n",
       "      <td>-118069180.0</td>\n",
       "      <td>7197.0</td>\n",
       "      <td>40227.0</td>\n",
       "      <td>...</td>\n",
       "      <td>0.165220</td>\n",
       "      <td>0.2</td>\n",
       "      <td>0.2</td>\n",
       "      <td>37.702422</td>\n",
       "      <td>0.1</td>\n",
       "      <td>2.023204</td>\n",
       "      <td>0.1</td>\n",
       "      <td>0.333333</td>\n",
       "      <td>0</td>\n",
       "      <td>0</td>\n",
       "    </tr>\n",
       "    <tr>\n",
       "      <th>37693</th>\n",
       "      <td>11602933</td>\n",
       "      <td>-0.104575</td>\n",
       "      <td>2.0</td>\n",
       "      <td>3.0</td>\n",
       "      <td>2163.0</td>\n",
       "      <td>6037.0</td>\n",
       "      <td>34043256.0</td>\n",
       "      <td>-118404906.0</td>\n",
       "      <td>8557.0</td>\n",
       "      <td>12447.0</td>\n",
       "      <td>...</td>\n",
       "      <td>0.196442</td>\n",
       "      <td>0.2</td>\n",
       "      <td>0.5</td>\n",
       "      <td>16.572353</td>\n",
       "      <td>0.0</td>\n",
       "      <td>10.259320</td>\n",
       "      <td>0.2</td>\n",
       "      <td>0.666667</td>\n",
       "      <td>1</td>\n",
       "      <td>5</td>\n",
       "    </tr>\n",
       "  </tbody>\n",
       "</table>\n",
       "<p>5 rows × 30 columns</p>\n",
       "</div>"
      ],
      "text/plain": [
       "       parcelid  logerror  bathrooms  bedrooms  sq_feet    fips    latitude  \\\n",
       "31502  13036970  0.011672        2.0       4.0   1125.0  6037.0  34126148.0   \n",
       "30324  10785882  0.026080        2.0       3.0   1377.0  6037.0  34185892.0   \n",
       "5349   12431422  0.008721        1.0       3.0   1215.0  6037.0  33835356.0   \n",
       "14766  11208099 -0.010548        1.0       3.0   1156.0  6037.0  34583347.0   \n",
       "37693  11602933 -0.104575        2.0       3.0   2163.0  6037.0  34043256.0   \n",
       "\n",
       "         longitude  lotsizesquarefeet  regionidcity  ...     acres  acres_bin  \\\n",
       "31502 -117856914.0             6776.0       11626.0  ...  0.155556        0.2   \n",
       "30324 -118554052.0             6838.0       12447.0  ...  0.156979        0.2   \n",
       "5349  -118099347.0             5026.0       12292.0  ...  0.115381        0.1   \n",
       "14766 -118069180.0             7197.0       40227.0  ...  0.165220        0.2   \n",
       "37693 -118404906.0             8557.0       12447.0  ...  0.196442        0.2   \n",
       "\n",
       "       sqft_bin  structure_dollar_per_sqft  structure_dollar_sqft_bin  \\\n",
       "31502       0.2                  86.208000                        0.3   \n",
       "30324       0.3                  98.720407                        0.3   \n",
       "5349        0.2                 165.405761                        0.5   \n",
       "14766       0.2                  37.702422                        0.1   \n",
       "37693       0.5                  16.572353                        0.0   \n",
       "\n",
       "       land_dollar_per_sqft  lot_dollar_sqft_bin  bath_bed_ratio  cola  \\\n",
       "31502              8.438459                  0.2        0.500000     0   \n",
       "30324             25.724773                  0.3        0.666667     1   \n",
       "5349              15.026661                  0.2        0.333333     0   \n",
       "14766              2.023204                  0.1        0.333333     0   \n",
       "37693             10.259320                  0.2        0.666667     1   \n",
       "\n",
       "       interior_cluster_k7_pred_val  \n",
       "31502                             1  \n",
       "30324                             5  \n",
       "5349                              0  \n",
       "14766                             0  \n",
       "37693                             5  \n",
       "\n",
       "[5 rows x 30 columns]"
      ]
     },
     "execution_count": 66,
     "metadata": {},
     "output_type": "execute_result"
    }
   ],
   "source": [
    "validate.head()"
   ]
  },
  {
   "cell_type": "code",
   "execution_count": 67,
   "id": "e1d73019",
   "metadata": {},
   "outputs": [],
   "source": [
    "dummy_df_val = pd.get_dummies(validate['interior_cluster_k7_pred_val'], dummy_na=False, drop_first=False)"
   ]
  },
  {
   "cell_type": "code",
   "execution_count": 68,
   "id": "fd19dba5",
   "metadata": {},
   "outputs": [
    {
     "data": {
      "text/html": [
       "<div>\n",
       "<style scoped>\n",
       "    .dataframe tbody tr th:only-of-type {\n",
       "        vertical-align: middle;\n",
       "    }\n",
       "\n",
       "    .dataframe tbody tr th {\n",
       "        vertical-align: top;\n",
       "    }\n",
       "\n",
       "    .dataframe thead th {\n",
       "        text-align: right;\n",
       "    }\n",
       "</style>\n",
       "<table border=\"1\" class=\"dataframe\">\n",
       "  <thead>\n",
       "    <tr style=\"text-align: right;\">\n",
       "      <th></th>\n",
       "      <th>0</th>\n",
       "      <th>1</th>\n",
       "      <th>2</th>\n",
       "      <th>3</th>\n",
       "      <th>4</th>\n",
       "      <th>5</th>\n",
       "      <th>6</th>\n",
       "    </tr>\n",
       "  </thead>\n",
       "  <tbody>\n",
       "    <tr>\n",
       "      <th>31502</th>\n",
       "      <td>0</td>\n",
       "      <td>1</td>\n",
       "      <td>0</td>\n",
       "      <td>0</td>\n",
       "      <td>0</td>\n",
       "      <td>0</td>\n",
       "      <td>0</td>\n",
       "    </tr>\n",
       "    <tr>\n",
       "      <th>30324</th>\n",
       "      <td>0</td>\n",
       "      <td>0</td>\n",
       "      <td>0</td>\n",
       "      <td>0</td>\n",
       "      <td>0</td>\n",
       "      <td>1</td>\n",
       "      <td>0</td>\n",
       "    </tr>\n",
       "    <tr>\n",
       "      <th>5349</th>\n",
       "      <td>1</td>\n",
       "      <td>0</td>\n",
       "      <td>0</td>\n",
       "      <td>0</td>\n",
       "      <td>0</td>\n",
       "      <td>0</td>\n",
       "      <td>0</td>\n",
       "    </tr>\n",
       "    <tr>\n",
       "      <th>14766</th>\n",
       "      <td>1</td>\n",
       "      <td>0</td>\n",
       "      <td>0</td>\n",
       "      <td>0</td>\n",
       "      <td>0</td>\n",
       "      <td>0</td>\n",
       "      <td>0</td>\n",
       "    </tr>\n",
       "    <tr>\n",
       "      <th>37693</th>\n",
       "      <td>0</td>\n",
       "      <td>0</td>\n",
       "      <td>0</td>\n",
       "      <td>0</td>\n",
       "      <td>0</td>\n",
       "      <td>1</td>\n",
       "      <td>0</td>\n",
       "    </tr>\n",
       "    <tr>\n",
       "      <th>...</th>\n",
       "      <td>...</td>\n",
       "      <td>...</td>\n",
       "      <td>...</td>\n",
       "      <td>...</td>\n",
       "      <td>...</td>\n",
       "      <td>...</td>\n",
       "      <td>...</td>\n",
       "    </tr>\n",
       "    <tr>\n",
       "      <th>18312</th>\n",
       "      <td>0</td>\n",
       "      <td>1</td>\n",
       "      <td>0</td>\n",
       "      <td>0</td>\n",
       "      <td>0</td>\n",
       "      <td>0</td>\n",
       "      <td>0</td>\n",
       "    </tr>\n",
       "    <tr>\n",
       "      <th>11011</th>\n",
       "      <td>0</td>\n",
       "      <td>0</td>\n",
       "      <td>1</td>\n",
       "      <td>0</td>\n",
       "      <td>0</td>\n",
       "      <td>0</td>\n",
       "      <td>0</td>\n",
       "    </tr>\n",
       "    <tr>\n",
       "      <th>28978</th>\n",
       "      <td>0</td>\n",
       "      <td>1</td>\n",
       "      <td>0</td>\n",
       "      <td>0</td>\n",
       "      <td>0</td>\n",
       "      <td>0</td>\n",
       "      <td>0</td>\n",
       "    </tr>\n",
       "    <tr>\n",
       "      <th>31520</th>\n",
       "      <td>0</td>\n",
       "      <td>0</td>\n",
       "      <td>0</td>\n",
       "      <td>0</td>\n",
       "      <td>0</td>\n",
       "      <td>0</td>\n",
       "      <td>1</td>\n",
       "    </tr>\n",
       "    <tr>\n",
       "      <th>3202</th>\n",
       "      <td>0</td>\n",
       "      <td>0</td>\n",
       "      <td>0</td>\n",
       "      <td>0</td>\n",
       "      <td>0</td>\n",
       "      <td>0</td>\n",
       "      <td>1</td>\n",
       "    </tr>\n",
       "  </tbody>\n",
       "</table>\n",
       "<p>12163 rows × 7 columns</p>\n",
       "</div>"
      ],
      "text/plain": [
       "       0  1  2  3  4  5  6\n",
       "31502  0  1  0  0  0  0  0\n",
       "30324  0  0  0  0  0  1  0\n",
       "5349   1  0  0  0  0  0  0\n",
       "14766  1  0  0  0  0  0  0\n",
       "37693  0  0  0  0  0  1  0\n",
       "...   .. .. .. .. .. .. ..\n",
       "18312  0  1  0  0  0  0  0\n",
       "11011  0  0  1  0  0  0  0\n",
       "28978  0  1  0  0  0  0  0\n",
       "31520  0  0  0  0  0  0  1\n",
       "3202   0  0  0  0  0  0  1\n",
       "\n",
       "[12163 rows x 7 columns]"
      ]
     },
     "execution_count": 68,
     "metadata": {},
     "output_type": "execute_result"
    }
   ],
   "source": [
    "dummy_df_val.rename(columns={'3': 'is_cluster_3_k7_pred'})"
   ]
  },
  {
   "cell_type": "code",
   "execution_count": 69,
   "id": "d9ac18a2",
   "metadata": {},
   "outputs": [
    {
     "name": "stdout",
     "output_type": "stream",
     "text": [
      "<class 'pandas.core.frame.DataFrame'>\n",
      "Int64Index: 12163 entries, 31502 to 3202\n",
      "Data columns (total 7 columns):\n",
      " #   Column  Non-Null Count  Dtype\n",
      "---  ------  --------------  -----\n",
      " 0   0       12163 non-null  uint8\n",
      " 1   1       12163 non-null  uint8\n",
      " 2   2       12163 non-null  uint8\n",
      " 3   3       12163 non-null  uint8\n",
      " 4   4       12163 non-null  uint8\n",
      " 5   5       12163 non-null  uint8\n",
      " 6   6       12163 non-null  uint8\n",
      "dtypes: uint8(7)\n",
      "memory usage: 178.2 KB\n"
     ]
    }
   ],
   "source": [
    "dummy_df_val.info()"
   ]
  },
  {
   "cell_type": "code",
   "execution_count": 70,
   "id": "0d9f972b",
   "metadata": {},
   "outputs": [],
   "source": [
    "validate = pd.concat([validate, dummy_df_val], axis=1)\n",
    "#pd.concat([train_clusters, X['interior_cluster4']], axis=1)"
   ]
  },
  {
   "cell_type": "code",
   "execution_count": 76,
   "id": "878e48a3",
   "metadata": {},
   "outputs": [],
   "source": [
    "validate = validate.rename(columns={3:'is_cluster_3_k7_pred'})"
   ]
  },
  {
   "cell_type": "code",
   "execution_count": 78,
   "id": "9abff7b2",
   "metadata": {},
   "outputs": [],
   "source": [
    "#validate.info()"
   ]
  },
  {
   "cell_type": "code",
   "execution_count": 79,
   "id": "610e862d",
   "metadata": {},
   "outputs": [
    {
     "data": {
      "text/html": [
       "<div>\n",
       "<style scoped>\n",
       "    .dataframe tbody tr th:only-of-type {\n",
       "        vertical-align: middle;\n",
       "    }\n",
       "\n",
       "    .dataframe tbody tr th {\n",
       "        vertical-align: top;\n",
       "    }\n",
       "\n",
       "    .dataframe thead th {\n",
       "        text-align: right;\n",
       "    }\n",
       "</style>\n",
       "<table border=\"1\" class=\"dataframe\">\n",
       "  <thead>\n",
       "    <tr style=\"text-align: right;\">\n",
       "      <th></th>\n",
       "      <th>parcelid</th>\n",
       "      <th>logerror</th>\n",
       "      <th>bathrooms</th>\n",
       "      <th>bedrooms</th>\n",
       "      <th>sq_feet</th>\n",
       "      <th>fips</th>\n",
       "      <th>latitude</th>\n",
       "      <th>longitude</th>\n",
       "      <th>lotsizesquarefeet</th>\n",
       "      <th>regionidcity</th>\n",
       "      <th>...</th>\n",
       "      <th>bath_bed_ratio</th>\n",
       "      <th>cola</th>\n",
       "      <th>interior_cluster_k7_pred_val</th>\n",
       "      <th>0</th>\n",
       "      <th>1</th>\n",
       "      <th>2</th>\n",
       "      <th>is_cluster_3_k7_pred</th>\n",
       "      <th>4</th>\n",
       "      <th>5</th>\n",
       "      <th>6</th>\n",
       "    </tr>\n",
       "  </thead>\n",
       "  <tbody>\n",
       "    <tr>\n",
       "      <th>31502</th>\n",
       "      <td>13036970</td>\n",
       "      <td>0.011672</td>\n",
       "      <td>2.0</td>\n",
       "      <td>4.0</td>\n",
       "      <td>1125.0</td>\n",
       "      <td>6037.0</td>\n",
       "      <td>34126148.0</td>\n",
       "      <td>-117856914.0</td>\n",
       "      <td>6776.0</td>\n",
       "      <td>11626.0</td>\n",
       "      <td>...</td>\n",
       "      <td>0.500000</td>\n",
       "      <td>0</td>\n",
       "      <td>1</td>\n",
       "      <td>0</td>\n",
       "      <td>1</td>\n",
       "      <td>0</td>\n",
       "      <td>0</td>\n",
       "      <td>0</td>\n",
       "      <td>0</td>\n",
       "      <td>0</td>\n",
       "    </tr>\n",
       "    <tr>\n",
       "      <th>30324</th>\n",
       "      <td>10785882</td>\n",
       "      <td>0.026080</td>\n",
       "      <td>2.0</td>\n",
       "      <td>3.0</td>\n",
       "      <td>1377.0</td>\n",
       "      <td>6037.0</td>\n",
       "      <td>34185892.0</td>\n",
       "      <td>-118554052.0</td>\n",
       "      <td>6838.0</td>\n",
       "      <td>12447.0</td>\n",
       "      <td>...</td>\n",
       "      <td>0.666667</td>\n",
       "      <td>1</td>\n",
       "      <td>5</td>\n",
       "      <td>0</td>\n",
       "      <td>0</td>\n",
       "      <td>0</td>\n",
       "      <td>0</td>\n",
       "      <td>0</td>\n",
       "      <td>1</td>\n",
       "      <td>0</td>\n",
       "    </tr>\n",
       "    <tr>\n",
       "      <th>5349</th>\n",
       "      <td>12431422</td>\n",
       "      <td>0.008721</td>\n",
       "      <td>1.0</td>\n",
       "      <td>3.0</td>\n",
       "      <td>1215.0</td>\n",
       "      <td>6037.0</td>\n",
       "      <td>33835356.0</td>\n",
       "      <td>-118099347.0</td>\n",
       "      <td>5026.0</td>\n",
       "      <td>12292.0</td>\n",
       "      <td>...</td>\n",
       "      <td>0.333333</td>\n",
       "      <td>0</td>\n",
       "      <td>0</td>\n",
       "      <td>1</td>\n",
       "      <td>0</td>\n",
       "      <td>0</td>\n",
       "      <td>0</td>\n",
       "      <td>0</td>\n",
       "      <td>0</td>\n",
       "      <td>0</td>\n",
       "    </tr>\n",
       "    <tr>\n",
       "      <th>14766</th>\n",
       "      <td>11208099</td>\n",
       "      <td>-0.010548</td>\n",
       "      <td>1.0</td>\n",
       "      <td>3.0</td>\n",
       "      <td>1156.0</td>\n",
       "      <td>6037.0</td>\n",
       "      <td>34583347.0</td>\n",
       "      <td>-118069180.0</td>\n",
       "      <td>7197.0</td>\n",
       "      <td>40227.0</td>\n",
       "      <td>...</td>\n",
       "      <td>0.333333</td>\n",
       "      <td>0</td>\n",
       "      <td>0</td>\n",
       "      <td>1</td>\n",
       "      <td>0</td>\n",
       "      <td>0</td>\n",
       "      <td>0</td>\n",
       "      <td>0</td>\n",
       "      <td>0</td>\n",
       "      <td>0</td>\n",
       "    </tr>\n",
       "    <tr>\n",
       "      <th>37693</th>\n",
       "      <td>11602933</td>\n",
       "      <td>-0.104575</td>\n",
       "      <td>2.0</td>\n",
       "      <td>3.0</td>\n",
       "      <td>2163.0</td>\n",
       "      <td>6037.0</td>\n",
       "      <td>34043256.0</td>\n",
       "      <td>-118404906.0</td>\n",
       "      <td>8557.0</td>\n",
       "      <td>12447.0</td>\n",
       "      <td>...</td>\n",
       "      <td>0.666667</td>\n",
       "      <td>1</td>\n",
       "      <td>5</td>\n",
       "      <td>0</td>\n",
       "      <td>0</td>\n",
       "      <td>0</td>\n",
       "      <td>0</td>\n",
       "      <td>0</td>\n",
       "      <td>1</td>\n",
       "      <td>0</td>\n",
       "    </tr>\n",
       "  </tbody>\n",
       "</table>\n",
       "<p>5 rows × 37 columns</p>\n",
       "</div>"
      ],
      "text/plain": [
       "       parcelid  logerror  bathrooms  bedrooms  sq_feet    fips    latitude  \\\n",
       "31502  13036970  0.011672        2.0       4.0   1125.0  6037.0  34126148.0   \n",
       "30324  10785882  0.026080        2.0       3.0   1377.0  6037.0  34185892.0   \n",
       "5349   12431422  0.008721        1.0       3.0   1215.0  6037.0  33835356.0   \n",
       "14766  11208099 -0.010548        1.0       3.0   1156.0  6037.0  34583347.0   \n",
       "37693  11602933 -0.104575        2.0       3.0   2163.0  6037.0  34043256.0   \n",
       "\n",
       "         longitude  lotsizesquarefeet  regionidcity  ...  bath_bed_ratio  \\\n",
       "31502 -117856914.0             6776.0       11626.0  ...        0.500000   \n",
       "30324 -118554052.0             6838.0       12447.0  ...        0.666667   \n",
       "5349  -118099347.0             5026.0       12292.0  ...        0.333333   \n",
       "14766 -118069180.0             7197.0       40227.0  ...        0.333333   \n",
       "37693 -118404906.0             8557.0       12447.0  ...        0.666667   \n",
       "\n",
       "       cola  interior_cluster_k7_pred_val  0  1  2  is_cluster_3_k7_pred  4  \\\n",
       "31502     0                             1  0  1  0                     0  0   \n",
       "30324     1                             5  0  0  0                     0  0   \n",
       "5349      0                             0  1  0  0                     0  0   \n",
       "14766     0                             0  1  0  0                     0  0   \n",
       "37693     1                             5  0  0  0                     0  0   \n",
       "\n",
       "       5  6  \n",
       "31502  0  0  \n",
       "30324  1  0  \n",
       "5349   0  0  \n",
       "14766  0  0  \n",
       "37693  1  0  \n",
       "\n",
       "[5 rows x 37 columns]"
      ]
     },
     "execution_count": 79,
     "metadata": {},
     "output_type": "execute_result"
    }
   ],
   "source": [
    "validate.head()"
   ]
  },
  {
   "cell_type": "markdown",
   "id": "30ed6770",
   "metadata": {},
   "source": [
    "# Make a function that gets cluster group and encoded column for significant group"
   ]
  },
  {
   "cell_type": "code",
   "execution_count": 127,
   "id": "bc2ae132",
   "metadata": {},
   "outputs": [],
   "source": [
    "def get_train_clusters():\n",
    "    \n",
    "    X_train_scaled = train_scaled[['bedrooms','bathrooms', 'sq_feet']]\n",
    "    X_train = train[['bedrooms','bathrooms', 'sq_feet']]\n",
    "    \n",
    "    cluster_vars = ['bedrooms','bathrooms', 'sq_feet']\n",
    "    cluster_name = 'interior_cluster_k7'\n",
    "    k_range = range(2,20)\n",
    "    \n",
    "    kmeans = create_clusters(X_train_scaled, 7, cluster_vars)\n",
    "    \n",
    "    centroid_df = get_centroids(kmeans, cluster_vars, cluster_name)\n",
    "    \n",
    "    X_train = assign_clusters(X_train, kmeans, cluster_vars, cluster_name, centroid_df)\n",
    "    \n",
    "    dummy_df = pd.get_dummies(X['interior_cluster_k7'], dummy_na=False, drop_first=False)\n",
    "    \n",
    "    dummy_df = dummy_df.rename(columns={3:'is_cluster_3_k7'})\n",
    "    \n",
    "    X_train_scaled = pd.concat([X_train_scaled, dummy_df['is_cluster_3_k7']], axis=1)\n",
    "    X_train = pd.concat([X_train, dummy_df['is_cluster_3_k7']], axis=1)\n",
    "    \n",
    "    return X_train, X_train_scaled"
   ]
  },
  {
   "cell_type": "code",
   "execution_count": 128,
   "id": "f74b209d",
   "metadata": {},
   "outputs": [],
   "source": [
    "X_train, X_train_scaled = get_train_clusters()"
   ]
  },
  {
   "cell_type": "code",
   "execution_count": 129,
   "id": "c716b836",
   "metadata": {},
   "outputs": [
    {
     "name": "stdout",
     "output_type": "stream",
     "text": [
      "<class 'pandas.core.frame.DataFrame'>\n",
      "Int64Index: 28378 entries, 40409 to 26237\n",
      "Data columns (total 8 columns):\n",
      " #   Column               Non-Null Count  Dtype  \n",
      "---  ------               --------------  -----  \n",
      " 0   bedrooms             28378 non-null  float64\n",
      " 1   bathrooms            28378 non-null  float64\n",
      " 2   sq_feet              28378 non-null  float64\n",
      " 3   interior_cluster_k7  28378 non-null  int32  \n",
      " 4   centroid_bedrooms    28378 non-null  float64\n",
      " 5   centroid_bathrooms   28378 non-null  float64\n",
      " 6   centroid_sq_feet     28378 non-null  float64\n",
      " 7   is_cluster_3_k7      28378 non-null  uint8  \n",
      "dtypes: float64(6), int32(1), uint8(1)\n",
      "memory usage: 1.7 MB\n"
     ]
    }
   ],
   "source": [
    "X_train.info()"
   ]
  },
  {
   "cell_type": "code",
   "execution_count": 130,
   "id": "39238503",
   "metadata": {},
   "outputs": [
    {
     "data": {
      "text/html": [
       "<div>\n",
       "<style scoped>\n",
       "    .dataframe tbody tr th:only-of-type {\n",
       "        vertical-align: middle;\n",
       "    }\n",
       "\n",
       "    .dataframe tbody tr th {\n",
       "        vertical-align: top;\n",
       "    }\n",
       "\n",
       "    .dataframe thead th {\n",
       "        text-align: right;\n",
       "    }\n",
       "</style>\n",
       "<table border=\"1\" class=\"dataframe\">\n",
       "  <thead>\n",
       "    <tr style=\"text-align: right;\">\n",
       "      <th></th>\n",
       "      <th>bedrooms</th>\n",
       "      <th>bathrooms</th>\n",
       "      <th>sq_feet</th>\n",
       "      <th>is_cluster_3_k7</th>\n",
       "    </tr>\n",
       "  </thead>\n",
       "  <tbody>\n",
       "    <tr>\n",
       "      <th>40409</th>\n",
       "      <td>0.333333</td>\n",
       "      <td>0.416667</td>\n",
       "      <td>0.275165</td>\n",
       "      <td>1</td>\n",
       "    </tr>\n",
       "    <tr>\n",
       "      <th>23172</th>\n",
       "      <td>0.500000</td>\n",
       "      <td>0.500000</td>\n",
       "      <td>0.269389</td>\n",
       "      <td>1</td>\n",
       "    </tr>\n",
       "    <tr>\n",
       "      <th>49707</th>\n",
       "      <td>0.500000</td>\n",
       "      <td>0.333333</td>\n",
       "      <td>0.195132</td>\n",
       "      <td>1</td>\n",
       "    </tr>\n",
       "    <tr>\n",
       "      <th>36587</th>\n",
       "      <td>0.500000</td>\n",
       "      <td>0.333333</td>\n",
       "      <td>0.151609</td>\n",
       "      <td>1</td>\n",
       "    </tr>\n",
       "    <tr>\n",
       "      <th>6405</th>\n",
       "      <td>0.333333</td>\n",
       "      <td>0.166667</td>\n",
       "      <td>0.092616</td>\n",
       "      <td>1</td>\n",
       "    </tr>\n",
       "    <tr>\n",
       "      <th>...</th>\n",
       "      <td>...</td>\n",
       "      <td>...</td>\n",
       "      <td>...</td>\n",
       "      <td>...</td>\n",
       "    </tr>\n",
       "    <tr>\n",
       "      <th>19982</th>\n",
       "      <td>0.333333</td>\n",
       "      <td>0.000000</td>\n",
       "      <td>0.087459</td>\n",
       "      <td>0</td>\n",
       "    </tr>\n",
       "    <tr>\n",
       "      <th>1766</th>\n",
       "      <td>0.500000</td>\n",
       "      <td>0.333333</td>\n",
       "      <td>0.249381</td>\n",
       "      <td>0</td>\n",
       "    </tr>\n",
       "    <tr>\n",
       "      <th>5102</th>\n",
       "      <td>0.333333</td>\n",
       "      <td>0.166667</td>\n",
       "      <td>0.117574</td>\n",
       "      <td>0</td>\n",
       "    </tr>\n",
       "    <tr>\n",
       "      <th>34399</th>\n",
       "      <td>0.333333</td>\n",
       "      <td>0.166667</td>\n",
       "      <td>0.220606</td>\n",
       "      <td>0</td>\n",
       "    </tr>\n",
       "    <tr>\n",
       "      <th>26237</th>\n",
       "      <td>0.500000</td>\n",
       "      <td>0.166667</td>\n",
       "      <td>0.133663</td>\n",
       "      <td>0</td>\n",
       "    </tr>\n",
       "  </tbody>\n",
       "</table>\n",
       "<p>28378 rows × 4 columns</p>\n",
       "</div>"
      ],
      "text/plain": [
       "       bedrooms  bathrooms   sq_feet  is_cluster_3_k7\n",
       "40409  0.333333   0.416667  0.275165                1\n",
       "23172  0.500000   0.500000  0.269389                1\n",
       "49707  0.500000   0.333333  0.195132                1\n",
       "36587  0.500000   0.333333  0.151609                1\n",
       "6405   0.333333   0.166667  0.092616                1\n",
       "...         ...        ...       ...              ...\n",
       "19982  0.333333   0.000000  0.087459                0\n",
       "1766   0.500000   0.333333  0.249381                0\n",
       "5102   0.333333   0.166667  0.117574                0\n",
       "34399  0.333333   0.166667  0.220606                0\n",
       "26237  0.500000   0.166667  0.133663                0\n",
       "\n",
       "[28378 rows x 4 columns]"
      ]
     },
     "execution_count": 130,
     "metadata": {},
     "output_type": "execute_result"
    }
   ],
   "source": [
    "X_train_scaled"
   ]
  },
  {
   "cell_type": "code",
   "execution_count": 131,
   "id": "db4874ec",
   "metadata": {},
   "outputs": [
    {
     "data": {
      "text/html": [
       "<div>\n",
       "<style scoped>\n",
       "    .dataframe tbody tr th:only-of-type {\n",
       "        vertical-align: middle;\n",
       "    }\n",
       "\n",
       "    .dataframe tbody tr th {\n",
       "        vertical-align: top;\n",
       "    }\n",
       "\n",
       "    .dataframe thead th {\n",
       "        text-align: right;\n",
       "    }\n",
       "</style>\n",
       "<table border=\"1\" class=\"dataframe\">\n",
       "  <thead>\n",
       "    <tr style=\"text-align: right;\">\n",
       "      <th></th>\n",
       "      <th>bedrooms</th>\n",
       "      <th>bathrooms</th>\n",
       "      <th>sq_feet</th>\n",
       "      <th>interior_cluster_k7</th>\n",
       "      <th>centroid_bedrooms</th>\n",
       "      <th>centroid_bathrooms</th>\n",
       "      <th>centroid_sq_feet</th>\n",
       "      <th>is_cluster_3_k7</th>\n",
       "    </tr>\n",
       "  </thead>\n",
       "  <tbody>\n",
       "    <tr>\n",
       "      <th>40409</th>\n",
       "      <td>3.0</td>\n",
       "      <td>3.5</td>\n",
       "      <td>2820.0</td>\n",
       "      <td>4</td>\n",
       "      <td>0.644565</td>\n",
       "      <td>0.637572</td>\n",
       "      <td>0.434681</td>\n",
       "      <td>1</td>\n",
       "    </tr>\n",
       "    <tr>\n",
       "      <th>23172</th>\n",
       "      <td>4.0</td>\n",
       "      <td>4.0</td>\n",
       "      <td>2764.0</td>\n",
       "      <td>4</td>\n",
       "      <td>0.644565</td>\n",
       "      <td>0.637572</td>\n",
       "      <td>0.434681</td>\n",
       "      <td>1</td>\n",
       "    </tr>\n",
       "    <tr>\n",
       "      <th>49707</th>\n",
       "      <td>4.0</td>\n",
       "      <td>3.0</td>\n",
       "      <td>2044.0</td>\n",
       "      <td>4</td>\n",
       "      <td>0.644565</td>\n",
       "      <td>0.637572</td>\n",
       "      <td>0.434681</td>\n",
       "      <td>1</td>\n",
       "    </tr>\n",
       "    <tr>\n",
       "      <th>36587</th>\n",
       "      <td>4.0</td>\n",
       "      <td>3.0</td>\n",
       "      <td>1622.0</td>\n",
       "      <td>4</td>\n",
       "      <td>0.644565</td>\n",
       "      <td>0.637572</td>\n",
       "      <td>0.434681</td>\n",
       "      <td>1</td>\n",
       "    </tr>\n",
       "    <tr>\n",
       "      <th>6405</th>\n",
       "      <td>3.0</td>\n",
       "      <td>2.0</td>\n",
       "      <td>1050.0</td>\n",
       "      <td>4</td>\n",
       "      <td>0.644565</td>\n",
       "      <td>0.637572</td>\n",
       "      <td>0.434681</td>\n",
       "      <td>1</td>\n",
       "    </tr>\n",
       "    <tr>\n",
       "      <th>...</th>\n",
       "      <td>...</td>\n",
       "      <td>...</td>\n",
       "      <td>...</td>\n",
       "      <td>...</td>\n",
       "      <td>...</td>\n",
       "      <td>...</td>\n",
       "      <td>...</td>\n",
       "      <td>...</td>\n",
       "    </tr>\n",
       "    <tr>\n",
       "      <th>19982</th>\n",
       "      <td>3.0</td>\n",
       "      <td>1.0</td>\n",
       "      <td>1000.0</td>\n",
       "      <td>4</td>\n",
       "      <td>0.644565</td>\n",
       "      <td>0.637572</td>\n",
       "      <td>0.434681</td>\n",
       "      <td>0</td>\n",
       "    </tr>\n",
       "    <tr>\n",
       "      <th>1766</th>\n",
       "      <td>4.0</td>\n",
       "      <td>3.0</td>\n",
       "      <td>2570.0</td>\n",
       "      <td>4</td>\n",
       "      <td>0.644565</td>\n",
       "      <td>0.637572</td>\n",
       "      <td>0.434681</td>\n",
       "      <td>0</td>\n",
       "    </tr>\n",
       "    <tr>\n",
       "      <th>5102</th>\n",
       "      <td>3.0</td>\n",
       "      <td>2.0</td>\n",
       "      <td>1292.0</td>\n",
       "      <td>4</td>\n",
       "      <td>0.644565</td>\n",
       "      <td>0.637572</td>\n",
       "      <td>0.434681</td>\n",
       "      <td>0</td>\n",
       "    </tr>\n",
       "    <tr>\n",
       "      <th>34399</th>\n",
       "      <td>3.0</td>\n",
       "      <td>2.0</td>\n",
       "      <td>2291.0</td>\n",
       "      <td>4</td>\n",
       "      <td>0.644565</td>\n",
       "      <td>0.637572</td>\n",
       "      <td>0.434681</td>\n",
       "      <td>0</td>\n",
       "    </tr>\n",
       "    <tr>\n",
       "      <th>26237</th>\n",
       "      <td>4.0</td>\n",
       "      <td>2.0</td>\n",
       "      <td>1448.0</td>\n",
       "      <td>4</td>\n",
       "      <td>0.644565</td>\n",
       "      <td>0.637572</td>\n",
       "      <td>0.434681</td>\n",
       "      <td>0</td>\n",
       "    </tr>\n",
       "  </tbody>\n",
       "</table>\n",
       "<p>28378 rows × 8 columns</p>\n",
       "</div>"
      ],
      "text/plain": [
       "       bedrooms  bathrooms  sq_feet  interior_cluster_k7  centroid_bedrooms  \\\n",
       "40409       3.0        3.5   2820.0                    4           0.644565   \n",
       "23172       4.0        4.0   2764.0                    4           0.644565   \n",
       "49707       4.0        3.0   2044.0                    4           0.644565   \n",
       "36587       4.0        3.0   1622.0                    4           0.644565   \n",
       "6405        3.0        2.0   1050.0                    4           0.644565   \n",
       "...         ...        ...      ...                  ...                ...   \n",
       "19982       3.0        1.0   1000.0                    4           0.644565   \n",
       "1766        4.0        3.0   2570.0                    4           0.644565   \n",
       "5102        3.0        2.0   1292.0                    4           0.644565   \n",
       "34399       3.0        2.0   2291.0                    4           0.644565   \n",
       "26237       4.0        2.0   1448.0                    4           0.644565   \n",
       "\n",
       "       centroid_bathrooms  centroid_sq_feet  is_cluster_3_k7  \n",
       "40409            0.637572          0.434681                1  \n",
       "23172            0.637572          0.434681                1  \n",
       "49707            0.637572          0.434681                1  \n",
       "36587            0.637572          0.434681                1  \n",
       "6405             0.637572          0.434681                1  \n",
       "...                   ...               ...              ...  \n",
       "19982            0.637572          0.434681                0  \n",
       "1766             0.637572          0.434681                0  \n",
       "5102             0.637572          0.434681                0  \n",
       "34399            0.637572          0.434681                0  \n",
       "26237            0.637572          0.434681                0  \n",
       "\n",
       "[28378 rows x 8 columns]"
      ]
     },
     "execution_count": 131,
     "metadata": {},
     "output_type": "execute_result"
    }
   ],
   "source": [
    "X_train"
   ]
  },
  {
   "cell_type": "code",
   "execution_count": null,
   "id": "ddeacd67",
   "metadata": {},
   "outputs": [],
   "source": [
    "def get_validate_pred():\n",
    "    \n",
    "    X_validate_scaled = validate_scaled[['bedrooms','bathrooms','sq_feet']]\n",
    "    #X_train = train[['bedrooms','bathrooms', 'sq_feet']]\n",
    "    \n",
    "    cluster_vars = ['bedrooms','bathrooms', 'sq_feet']\n",
    "    cluster_name = 'interior_cluster_k7'\n",
    "    k_range = range(2,20)\n",
    "    \n",
    "    kmeans = create_clusters(X_train_scaled, 7, cluster_vars)\n",
    "    \n",
    "    centroid_df = get_centroids(kmeans, cluster_vars, cluster_name)\n",
    "    \n",
    "    X_train = assign_clusters(X_train, kmeans, cluster_vars, cluster_name, centroid_df)\n",
    "    \n",
    "    dummy_df = pd.get_dummies(X['interior_cluster_k7'], dummy_na=False, drop_first=False)\n",
    "    \n",
    "    dummy_df = dummy_df.rename(columns={3:'is_cluster_3_k7'})\n",
    "    \n",
    "    X_train_scaled = pd.concat([X_train_scaled, dummy_df['is_cluster_3_k7']], axis=1)\n",
    "    X_train = pd.concat([X_train, dummy_df['is_cluster_3_k7']], axis=1)\n",
    "    \n",
    "    return X_train, X_train_scaled"
   ]
  },
  {
   "cell_type": "code",
   "execution_count": null,
   "id": "43dc3623",
   "metadata": {},
   "outputs": [],
   "source": []
  },
  {
   "cell_type": "code",
   "execution_count": null,
   "id": "c7ff94be",
   "metadata": {},
   "outputs": [],
   "source": []
  }
 ],
 "metadata": {
  "kernelspec": {
   "display_name": "Python 3 (ipykernel)",
   "language": "python",
   "name": "python3"
  },
  "language_info": {
   "codemirror_mode": {
    "name": "ipython",
    "version": 3
   },
   "file_extension": ".py",
   "mimetype": "text/x-python",
   "name": "python",
   "nbconvert_exporter": "python",
   "pygments_lexer": "ipython3",
   "version": "3.9.12"
  }
 },
 "nbformat": 4,
 "nbformat_minor": 5
}
