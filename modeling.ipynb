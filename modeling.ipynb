{
 "cells": [
  {
   "cell_type": "code",
   "execution_count": 1,
   "id": "e6e3cfea",
   "metadata": {},
   "outputs": [],
   "source": [
    "# importing of all needed libraries and modules.  \n",
    "%matplotlib inline\n",
    "from math import sqrt\n",
    "from pathlib import Path\n",
    "from scipy import stats\n",
    "from sklearn.feature_selection import SelectKBest, RFE, f_regression, SequentialFeatureSelector\n",
    "from sklearn.linear_model import LassoLars, LinearRegression, TweedieRegressor\n",
    "from sklearn.metrics import mean_squared_error, r2_score, explained_variance_score \n",
    "from sklearn.model_selection import train_test_split\n",
    "from sklearn.preprocessing import MinMaxScaler, RobustScaler, PolynomialFeatures\n",
    "import env\n",
    "import matplotlib.pyplot as plt\n",
    "import numpy as np\n",
    "import os\n",
    "import pandas as pd\n",
    "import seaborn as sns\n",
    "import warnings\n",
    "import wrangle as w\n",
    "import model as m\n",
    "warnings.filterwarnings(\"ignore\")"
   ]
  },
  {
   "cell_type": "code",
   "execution_count": 2,
   "id": "62af5aa3",
   "metadata": {},
   "outputs": [],
   "source": [
    "# pull the data from the wrangle file\n",
    "df=w.wrangle_zillow()"
   ]
  },
  {
   "cell_type": "code",
   "execution_count": 3,
   "id": "eb4dcf0c",
   "metadata": {},
   "outputs": [],
   "source": [
    "# split the data\n",
    "train, validate, test = w.split_data(df)"
   ]
  },
  {
   "cell_type": "code",
   "execution_count": 4,
   "id": "ea4fd06d",
   "metadata": {},
   "outputs": [],
   "source": [
    "# scale the data\n",
    "train_scaled, validate_scaled, test_scaled=w.scale_data(train, validate, test)"
   ]
  },
  {
   "cell_type": "code",
   "execution_count": 5,
   "id": "fd18e557",
   "metadata": {},
   "outputs": [],
   "source": [
    "# assign the train variables\n",
    "X_train_scaled = train_scaled[['bedrooms','bathrooms', 'sq_feet']]\n",
    "y_train=train[['logerror']]"
   ]
  },
  {
   "cell_type": "code",
   "execution_count": 6,
   "id": "46517eaa",
   "metadata": {},
   "outputs": [],
   "source": [
    "#assign the validate variables\n",
    "X_validate_scaled=validate_scaled[['bedrooms','bathrooms', 'sq_feet']]\n",
    "y_validate=validate[['logerror']]"
   ]
  },
  {
   "cell_type": "code",
   "execution_count": 7,
   "id": "f12a7f44",
   "metadata": {},
   "outputs": [],
   "source": [
    "# assign the test variables\n",
    "X_test_scaled=test_scaled[['bedrooms','bathrooms', 'sq_feet']]\n",
    "y_test=test[['logerror']]"
   ]
  },
  {
   "cell_type": "code",
   "execution_count": 8,
   "id": "a6bbd2d5",
   "metadata": {},
   "outputs": [],
   "source": [
    "# BASELINE\n",
    "#Use RMSE on both the mean and median.\n",
    "\n",
    "# Create a function to get baseline.\n",
    "def baseline(X_train_scaled, y_train, X_validate_scaled, y_validate, X_test_scaled, y_test):\n",
    "    # We need y_train and y_validate (and test) to be dataframes to append the new columns with predicted values. \n",
    "    y_train = pd.DataFrame(y_train)\n",
    "    y_validate = pd.DataFrame(y_validate)\n",
    "    y_test = pd.DataFrame(y_test)\n",
    "\n",
    "    # 1. Predict home_value_pred_mean\n",
    "    logerror_pred_mean = y_train['logerror'].mean()\n",
    "    y_train['logerror_pred_mean'] = logerror_pred_mean\n",
    "    y_validate['logerror_pred_mean'] = logerror_pred_mean\n",
    "\n",
    "    # 2. compute home_value_pred_median\n",
    "    logerror_pred_median = y_train['logerror'].median()\n",
    "    y_train['logerror_pred_median'] = logerror_pred_median\n",
    "    y_validate['logerror_pred_median'] = logerror_pred_median\n",
    "\n",
    "    # 3. RMSE of home_value_pred_mean\n",
    "    rmse_train = mean_squared_error(y_train[['logerror']], y_train.logerror_pred_mean)**(1/2)\n",
    "    rmse_validate = mean_squared_error(y_validate[['logerror']], y_validate.logerror_pred_mean)**(1/2)\n",
    "\n",
    "    print(\"RMSE using Mean\\nTrain/In-Sample: \", (rmse_train), \n",
    "      \"\\nValidate/Out-of-Sample: \", (rmse_validate))\n",
    "\n",
    "    # 4. RMSE of home_value_pred_median\n",
    "    rmse_train = mean_squared_error(y_train[['logerror']], y_train.logerror_pred_median)**(1/2)\n",
    "    rmse_validate = mean_squared_error(y_validate[['logerror']], y_validate.logerror_pred_median)**(1/2)\n",
    "\n",
    "    print(\"RMSE using Median\\nTrain/In-Sample: \", (rmse_train), \n",
    "      \"\\nValidate/Out-of-Sample: \", (rmse_validate))\n",
    "  "
   ]
  },
  {
   "cell_type": "code",
   "execution_count": 9,
   "id": "e1b122a2",
   "metadata": {},
   "outputs": [
    {
     "name": "stdout",
     "output_type": "stream",
     "text": [
      "RMSE using Mean\n",
      "Train/In-Sample:  0.17111493570816058 \n",
      "Validate/Out-of-Sample:  0.17619004134685448\n",
      "RMSE using Median\n",
      "Train/In-Sample:  0.17149111174671647 \n",
      "Validate/Out-of-Sample:  0.17662277642319174\n"
     ]
    }
   ],
   "source": [
    "baseline(X_train_scaled, y_train, X_validate_scaled, y_validate, X_test_scaled, y_test)"
   ]
  },
  {
   "cell_type": "code",
   "execution_count": 10,
   "id": "f4853465",
   "metadata": {},
   "outputs": [],
   "source": [
    "# create the OLS model object\n",
    "def ols():\n",
    "    lm = LinearRegression(normalize=True)\n",
    "\n",
    "    # fit the model to our training data. We must specify the column in y_train, \n",
    "    # since we have converted it to a dataframe from a series! \n",
    "    lm.fit(X_train_scaled, y_train.logerror)\n",
    "\n",
    "    # predict train\n",
    "    y_train['logerror_pred_lm'] = lm.predict(X_train_scaled)\n",
    "\n",
    "    # evaluate: rmse\n",
    "    rmse_train = mean_squared_error(y_train.logerror, y_train.logerror_pred_lm)**(1/2)\n",
    "\n",
    "    # predict validate\n",
    "    y_validate['logerror_pred_lm'] = lm.predict(X_validate_scaled)\n",
    "\n",
    "    # evaluate: rmse\n",
    "    rmse_validate = mean_squared_error(y_validate.logerror, y_validate.logerror_pred_lm)**(1/2)\n",
    "\n",
    "    print(\"RMSE for OLS\\nTraining/In-Sample: \", rmse_train, \n",
    "          \"\\nValidation/Out-of-Sample: \", rmse_validate)"
   ]
  },
  {
   "cell_type": "code",
   "execution_count": 11,
   "id": "446f721d",
   "metadata": {},
   "outputs": [
    {
     "name": "stdout",
     "output_type": "stream",
     "text": [
      "RMSE for OLS\n",
      "Training/In-Sample:  0.17101605821415816 \n",
      "Validation/Out-of-Sample:  0.1760599385357889\n"
     ]
    }
   ],
   "source": [
    "ols()"
   ]
  },
  {
   "cell_type": "code",
   "execution_count": 12,
   "id": "c88afb2f",
   "metadata": {},
   "outputs": [],
   "source": [
    "def ols_viz():\n",
    "    plt.figure(figsize=(16,8))\n",
    "    plt.hist(y_validate.logerror, color='green', alpha=.5, label=\"Absolute Value Log Error\")\n",
    "    plt.hist(y_validate.logerror_pred_lm, color='blue', alpha=.5, label=\"Validate\")\n",
    "    plt.xlabel(\"Log Error\")\n",
    "    plt.ylabel(\"Homes\")\n",
    "    plt.title(\"Comparing the Distribution of Absolute Value Log Error OLS Model\")\n",
    "    plt.legend()\n",
    "    plt.show()\n",
    "\n"
   ]
  },
  {
   "cell_type": "code",
   "execution_count": 13,
   "id": "be656cae",
   "metadata": {},
   "outputs": [
    {
     "data": {
      "image/png": "[encoded data removed]",
      "text/plain": [
       "<Figure size 1152x576 with 1 Axes>"
      ]
     },
     "metadata": {
      "needs_background": "light"
     },
     "output_type": "display_data"
    }
   ],
   "source": [
    "ols_viz()"
   ]
  },
  {
   "cell_type": "code",
   "execution_count": 14,
   "id": "d95e2c30",
   "metadata": {},
   "outputs": [],
   "source": [
    "# create the polynomial regression model object\n",
    "\n",
    "def poly():\n",
    "    # make the polynomial features to get a new set of features\n",
    "    pf = PolynomialFeatures(degree=2)\n",
    "\n",
    "    # fit and transform X_train_scaled\n",
    "    X_train_degree2 = pf.fit_transform(X_train_scaled)\n",
    "\n",
    "    # transform X_validate_scaled & X_test_scaled\n",
    "    X_validate_degree2 = pf.transform(X_validate_scaled)\n",
    "    X_test_degree2 = pf.transform(X_test_scaled)\n",
    "\n",
    "    # create the model object\n",
    "    lm2 = LinearRegression(normalize=True)\n",
    "\n",
    "    # fit the model to our training data. We must specify the column in y_train, \n",
    "    # since we have converted it to a dataframe from a series! \n",
    "    lm2.fit(X_train_degree2, y_train.logerror)\n",
    "\n",
    "    # predict train\n",
    "    y_train['logerror_pred_lm2'] = lm2.predict(X_train_degree2)\n",
    "\n",
    "    # evaluate: rmse\n",
    "    rmse_train = mean_squared_error(y_train.logerror, y_train.logerror_pred_lm2)**(1/2)\n",
    "\n",
    "    # predict validate\n",
    "    y_validate['logerror_pred_lm2'] = lm2.predict(X_validate_degree2)\n",
    "\n",
    "    # evaluate: rmse\n",
    "    rmse_validate = mean_squared_error(y_validate.logerror, y_validate.logerror_pred_lm2)**(1/2)\n",
    "\n",
    "    print(\"RMSE for Poly 2\\nTraining/In-Sample: \", rmse_train, \n",
    "      \"\\nValidation/Out-of-Sample: \", rmse_validate)"
   ]
  },
  {
   "cell_type": "code",
   "execution_count": 15,
   "id": "b92311c7",
   "metadata": {},
   "outputs": [
    {
     "name": "stdout",
     "output_type": "stream",
     "text": [
      "RMSE for Poly 2\n",
      "Training/In-Sample:  0.17099215888763386 \n",
      "Validation/Out-of-Sample:  0.176063669620492\n"
     ]
    }
   ],
   "source": [
    "poly()"
   ]
  },
  {
   "cell_type": "code",
   "execution_count": 16,
   "id": "98616391",
   "metadata": {},
   "outputs": [],
   "source": [
    "def poly_viz():\n",
    "    plt.figure(figsize=(16,8))\n",
    "    plt.hist(y_validate.logerror, color='green', alpha=.5, label=\"Absolute Value Log Error\")\n",
    "    plt.hist(y_validate.logerror_pred_lm2, color='blue', alpha=.5, label=\"Validate\")\n",
    "    plt.xlabel(\"Log Error\")\n",
    "    plt.ylabel(\"Homes\")\n",
    "    plt.title(\"Comparing the Distribution of Absolute Value Log Error Polynomial Model\")\n",
    "    plt.legend()\n",
    "    plt.show()"
   ]
  },
  {
   "cell_type": "code",
   "execution_count": 17,
   "id": "0de3f4eb",
   "metadata": {},
   "outputs": [
    {
     "data": {
      "image/png": "[encoded data removed]",
      "text/plain": [
       "<Figure size 1152x576 with 1 Axes>"
      ]
     },
     "metadata": {
      "needs_background": "light"
     },
     "output_type": "display_data"
    }
   ],
   "source": [
    "poly_viz()"
   ]
  },
  {
   "cell_type": "code",
   "execution_count": 18,
   "id": "04f1f6f9",
   "metadata": {},
   "outputs": [],
   "source": [
    "#Create a function for the LassoLars regression model object\n",
    "\n",
    "def lasso_lars():\n",
    "    lars = LassoLars(alpha=1.0)\n",
    "\n",
    "    # fit the model to our training data. We must specify the column in y_train, \n",
    "    # since we have converted it to a dataframe from a series! \n",
    "    lars.fit(X_train_scaled, y_train.logerror)\n",
    "\n",
    "    # predict train\n",
    "    y_train['logerror_pred_lars'] = lars.predict(X_train_scaled)\n",
    "\n",
    "    # evaluate: rmse\n",
    "    rmse_train = mean_squared_error(y_train.logerror, y_train.logerror_pred_lars)**(1/2)\n",
    "\n",
    "    # predict validate\n",
    "    y_validate['logerror_pred_lars'] = lars.predict(X_validate_scaled)\n",
    "\n",
    "    # evaluate: rmse\n",
    "    rmse_validate = mean_squared_error(y_validate.logerror, y_validate.logerror_pred_lars)**(1/2)\n",
    "\n",
    "    # predict test\n",
    "    #y_test['logerror_pred_lars'] = lars.predict(X_test_scaled)\n",
    "\n",
    "    # evaluate: rmse\n",
    "    #rmse_test = mean_squared_error(y_test.logerror, y_test.logerror_pred_lars)**(1/2)\n",
    "\n",
    "    print(\"RMSE for Lasso + Lars\\nTraining/In-Sample: \", rmse_train, \n",
    "      \"\\nValidation/Out-of-Sample: \", rmse_validate)\n",
    "      #\"\\nTesting/Out-of-Sample Performance: \", rmse_test)\n"
   ]
  },
  {
   "cell_type": "code",
   "execution_count": 19,
   "id": "2e95b6c0",
   "metadata": {},
   "outputs": [
    {
     "name": "stdout",
     "output_type": "stream",
     "text": [
      "RMSE for Lasso + Lars\n",
      "Training/In-Sample:  0.17111493570816058 \n",
      "Validation/Out-of-Sample:  0.1761900413468545\n"
     ]
    }
   ],
   "source": [
    "lasso_lars()"
   ]
  },
  {
   "cell_type": "code",
   "execution_count": 20,
   "id": "c6be4223",
   "metadata": {},
   "outputs": [],
   "source": [
    "def lars_viz():\n",
    "    plt.figure(figsize=(16,8))\n",
    "    plt.hist(y_validate.logerror, color='green', alpha=.5, label=\"Absolute Value Log Error\")\n",
    "    plt.hist(y_validate.logerror_pred_lars, color='blue', alpha=.5, label=\"Validate\")\n",
    "    plt.xlabel(\"Log Error\")\n",
    "    plt.ylabel(\"Homes\")\n",
    "    plt.title(\"Comparing the Distribution of Absolute Value Log Error on Lasso Lars Model\")\n",
    "    plt.legend()\n",
    "    plt.show()"
   ]
  },
  {
   "cell_type": "code",
   "execution_count": 21,
   "id": "81f3f8c2",
   "metadata": {},
   "outputs": [
    {
     "data": {
      "image/png": "[encoded data removed]",
      "text/plain": [
       "<Figure size 1152x576 with 1 Axes>"
      ]
     },
     "metadata": {
      "needs_background": "light"
     },
     "output_type": "display_data"
    }
   ],
   "source": [
    "lars_viz()"
   ]
  },
  {
   "cell_type": "code",
   "execution_count": 22,
   "id": "bc5a60c4",
   "metadata": {},
   "outputs": [],
   "source": [
    "#Create a function for the Tweedie regression model object\n",
    "def tweedie():\n",
    "    glm = TweedieRegressor(power=0, alpha=1)\n",
    "\n",
    "    # fit the model to our training data. We must specify the column in y_train, \n",
    "    # since we have converted it to a dataframe from a series! \n",
    "    glm.fit(X_train_scaled, y_train.logerror)\n",
    "\n",
    "    # predict train\n",
    "    y_train['logerror_pred_glm'] = glm.predict(X_train_scaled)\n",
    "\n",
    "    # evaluate: rmse\n",
    "    rmse_train = mean_squared_error(y_train.logerror, y_train.logerror_pred_glm)**(1/2)\n",
    "\n",
    "    # predict validate\n",
    "    y_validate['logerror_pred_glm'] = glm.predict(X_validate_scaled)\n",
    "\n",
    "    # evaluate: rmse\n",
    "    rmse_validate = mean_squared_error(y_validate.logerror, y_validate.logerror_pred_glm)**(1/2)\n",
    "\n",
    "    # predict test\n",
    "    #y_test['logerror_pred_glm'] = glm.predict(X_test_scaled)\n",
    "    \n",
    "    # evaluate: rmse\n",
    "    #rmse_test = mean_squared_error(y_test.logerror, y_test.logerror_pred_glm)**(1/2)\n",
    "    \n",
    "    print(\"RMSE for Tweedie\\nTraining/In-Sample: \", rmse_train,\n",
    "          \"\\nValidation/Out-of-Sample: \", rmse_validate)\n",
    "          #\"\\nTesting/Out-of-Sample Performance: \", rmse_test)"
   ]
  },
  {
   "cell_type": "code",
   "execution_count": 23,
   "id": "90887ac6",
   "metadata": {},
   "outputs": [
    {
     "name": "stdout",
     "output_type": "stream",
     "text": [
      "RMSE for Tweedie\n",
      "Training/In-Sample:  0.1711068521696821 \n",
      "Validation/Out-of-Sample:  0.17618126011791158\n"
     ]
    }
   ],
   "source": [
    "tweedie()"
   ]
  },
  {
   "cell_type": "code",
   "execution_count": 24,
   "id": "6f11fdab",
   "metadata": {},
   "outputs": [],
   "source": [
    "def tweedie_viz():\n",
    "    plt.figure(figsize=(16,8))\n",
    "    plt.hist(y_validate.logerror, color='green', alpha=.5, label=\"Absolute Value Log Error\")\n",
    "    plt.hist(y_validate.logerror_pred_glm, color='blue', alpha=.5, label=\"Validate\")\n",
    "    plt.xlabel(\"Log Error\")\n",
    "    plt.ylabel(\"Homes\")\n",
    "    plt.title(\"Comparing the Distribution of Absolute Value Log Error on Tweedie Model\")\n",
    "    plt.legend()\n",
    "    plt.show()"
   ]
  },
  {
   "cell_type": "code",
   "execution_count": 25,
   "id": "9aad65ed",
   "metadata": {},
   "outputs": [
    {
     "data": {
      "image/png": "[encoded data removed]",
      "text/plain": [
       "<Figure size 1152x576 with 1 Axes>"
      ]
     },
     "metadata": {
      "needs_background": "light"
     },
     "output_type": "display_data"
    }
   ],
   "source": [
    "tweedie_viz()"
   ]
  },
  {
   "cell_type": "code",
   "execution_count": 26,
   "id": "ece6f146",
   "metadata": {},
   "outputs": [],
   "source": [
    "def r2_score():\n",
    "    evs = explained_variance_score(y_train.logerror, y_train.logerror_pred_lm)\n",
    "    print('The R2 or Explained Variance = ', round(evs,3))"
   ]
  },
  {
   "cell_type": "code",
   "execution_count": 27,
   "id": "11e0c569",
   "metadata": {},
   "outputs": [
    {
     "name": "stdout",
     "output_type": "stream",
     "text": [
      "The R2 or Explained Variance =  0.001\n"
     ]
    }
   ],
   "source": [
    "r2_score()"
   ]
  },
  {
   "cell_type": "markdown",
   "id": "1385f9d7",
   "metadata": {},
   "source": [
    "BEST MODEL IS OLS"
   ]
  },
  {
   "cell_type": "code",
   "execution_count": 28,
   "id": "96292952",
   "metadata": {},
   "outputs": [],
   "source": [
    "# create the ols test model object\n",
    "def ols_test():\n",
    "    lm = LinearRegression(normalize=True)\n",
    "\n",
    "    # fit the model to our training data. We must specify the column in y_train, \n",
    "    # since we have converted it to a dataframe from a series! \n",
    "    lm.fit(X_train_scaled, y_train.logerror)\n",
    "\n",
    "    # predict test\n",
    "    y_test['logerror_pred_lm'] = lm.predict(X_test_scaled)\n",
    "\n",
    "    # evaluate: rmse\n",
    "    rmse_test = mean_squared_error(y_test.logerror, y_test.logerror_pred_lm)**(1/2)\n",
    "\n",
    "    print(\"RMSE for OLS\\nTesting/Out-of-Sample Performance: \", rmse_test)\n",
    "\n",
    "   "
   ]
  },
  {
   "cell_type": "code",
   "execution_count": 29,
   "id": "1d2d26fb",
   "metadata": {},
   "outputs": [
    {
     "name": "stdout",
     "output_type": "stream",
     "text": [
      "RMSE for OLS\n",
      "Testing/Out-of-Sample Performance:  0.17834418315463993\n"
     ]
    }
   ],
   "source": [
    "ols_test()"
   ]
  },
  {
   "cell_type": "code",
   "execution_count": 30,
   "id": "9864766f",
   "metadata": {
    "scrolled": false
   },
   "outputs": [],
   "source": [
    "def ols_test_viz():\n",
    "    plt.figure(figsize=(16,8))\n",
    "    plt.hist(y_validate.logerror, color='green', alpha=.5, label=\"Absolute Value Log Error\")\n",
    "    plt.hist(y_test.logerror_pred_lm, color='red', alpha=.5, label=\"Test\")\n",
    "    plt.xlabel(\"Log Error\")\n",
    "    plt.ylabel(\"Homes\")\n",
    "    plt.title(\"Comparing the Distribution of Absolute Value Log Error to Predicted\")\n",
    "    plt.legend()\n",
    "    plt.show()"
   ]
  },
  {
   "cell_type": "code",
   "execution_count": 31,
   "id": "ecfa2352",
   "metadata": {},
   "outputs": [
    {
     "data": {
      "image/png": "[encoded data removed]",
      "text/plain": [
       "<Figure size 1152x576 with 1 Axes>"
      ]
     },
     "metadata": {
      "needs_background": "light"
     },
     "output_type": "display_data"
    }
   ],
   "source": [
    "ols_test_viz()"
   ]
  },
  {
   "cell_type": "code",
   "execution_count": 32,
   "id": "c845d494",
   "metadata": {},
   "outputs": [],
   "source": [
    "# create viz of Actual Distribution\n",
    "def actual_viz():\n",
    "    plt.figure(figsize=(16,8))\n",
    "    plt.hist(y_train.logerror, color='green', alpha=.5, label=\"Train\")\n",
    "    plt.hist(y_validate.logerror, color='yellow', alpha=.5, label=\"Validate\")\n",
    "    plt.hist(y_test.logerror, color='red', alpha=.5, label=\"Test\")\n",
    "    plt.xlabel(\"Log Error\")\n",
    "    plt.ylabel(\"Homes\")\n",
    "    plt.title(\"Comparing the Actual Distribution of Absolute Value Log Error on Train, Validate, Test\")\n",
    "    plt.legend()\n",
    "    plt.show()"
   ]
  },
  {
   "cell_type": "code",
   "execution_count": 33,
   "id": "8170108f",
   "metadata": {},
   "outputs": [
    {
     "data": {
      "image/png": "[encoded data removed]",
      "text/plain": [
       "<Figure size 1152x576 with 1 Axes>"
      ]
     },
     "metadata": {
      "needs_background": "light"
     },
     "output_type": "display_data"
    }
   ],
   "source": [
    "actual_viz()"
   ]
  },
  {
   "cell_type": "code",
   "execution_count": 34,
   "id": "c1233058",
   "metadata": {},
   "outputs": [],
   "source": [
    "# creat viz of predicted log errorDistribution\n",
    "def predict_viz():\n",
    "    plt.figure(figsize=(16,8))\n",
    "    plt.hist(y_train.logerror_pred_lm, color='green', alpha=.5, label=\"Train\")\n",
    "    plt.hist(y_validate.logerror_pred_lm, color='yellow', alpha=.5, label=\"Validate\")\n",
    "    plt.hist(y_test.logerror_pred_lm, color='red', alpha=.5, label=\"Test\")\n",
    "    plt.xlabel(\"Log Error\")\n",
    "    plt.ylabel(\"Homes\")\n",
    "    plt.title(\"Comparing the Predicted Distribution of Absolute Value Log Error on Train, Validate, Test\")\n",
    "    plt.legend()\n",
    "    plt.show()\n",
    "\n"
   ]
  },
  {
   "cell_type": "code",
   "execution_count": 35,
   "id": "234f4d62",
   "metadata": {},
   "outputs": [
    {
     "data": {
      "image/png": "[encoded data removed]",
      "text/plain": [
       "<Figure size 1152x576 with 1 Axes>"
      ]
     },
     "metadata": {
      "needs_background": "light"
     },
     "output_type": "display_data"
    }
   ],
   "source": [
    "predict_viz()"
   ]
  },
  {
   "cell_type": "code",
   "execution_count": 36,
   "id": "63964d3a",
   "metadata": {},
   "outputs": [
    {
     "data": {
      "text/html": [
       "<div>\n",
       "<style scoped>\n",
       "    .dataframe tbody tr th:only-of-type {\n",
       "        vertical-align: middle;\n",
       "    }\n",
       "\n",
       "    .dataframe tbody tr th {\n",
       "        vertical-align: top;\n",
       "    }\n",
       "\n",
       "    .dataframe thead th {\n",
       "        text-align: right;\n",
       "    }\n",
       "</style>\n",
       "<table border=\"1\" class=\"dataframe\">\n",
       "  <thead>\n",
       "    <tr style=\"text-align: right;\">\n",
       "      <th></th>\n",
       "      <th>logerror</th>\n",
       "      <th>logerror_pred_mean</th>\n",
       "      <th>logerror_pred_median</th>\n",
       "      <th>logerror_pred_lm</th>\n",
       "      <th>logerror_pred_lm2</th>\n",
       "      <th>logerror_pred_lars</th>\n",
       "      <th>logerror_pred_glm</th>\n",
       "    </tr>\n",
       "  </thead>\n",
       "  <tbody>\n",
       "    <tr>\n",
       "      <th>40409</th>\n",
       "      <td>-0.001358</td>\n",
       "      <td>0.018335</td>\n",
       "      <td>0.006983</td>\n",
       "      <td>0.021460</td>\n",
       "      <td>0.017648</td>\n",
       "      <td>0.018335</td>\n",
       "      <td>0.018501</td>\n",
       "    </tr>\n",
       "    <tr>\n",
       "      <th>23172</th>\n",
       "      <td>0.044035</td>\n",
       "      <td>0.018335</td>\n",
       "      <td>0.006983</td>\n",
       "      <td>0.023857</td>\n",
       "      <td>0.021735</td>\n",
       "      <td>0.018335</td>\n",
       "      <td>0.018681</td>\n",
       "    </tr>\n",
       "    <tr>\n",
       "      <th>49707</th>\n",
       "      <td>0.026075</td>\n",
       "      <td>0.018335</td>\n",
       "      <td>0.006983</td>\n",
       "      <td>0.020795</td>\n",
       "      <td>0.020546</td>\n",
       "      <td>0.018335</td>\n",
       "      <td>0.018517</td>\n",
       "    </tr>\n",
       "    <tr>\n",
       "      <th>36587</th>\n",
       "      <td>-0.051115</td>\n",
       "      <td>0.018335</td>\n",
       "      <td>0.006983</td>\n",
       "      <td>0.018994</td>\n",
       "      <td>0.021205</td>\n",
       "      <td>0.018335</td>\n",
       "      <td>0.018495</td>\n",
       "    </tr>\n",
       "    <tr>\n",
       "      <th>6405</th>\n",
       "      <td>0.110311</td>\n",
       "      <td>0.018335</td>\n",
       "      <td>0.006983</td>\n",
       "      <td>0.013923</td>\n",
       "      <td>0.015742</td>\n",
       "      <td>0.018335</td>\n",
       "      <td>0.018219</td>\n",
       "    </tr>\n",
       "  </tbody>\n",
       "</table>\n",
       "</div>"
      ],
      "text/plain": [
       "       logerror  logerror_pred_mean  logerror_pred_median  logerror_pred_lm  \\\n",
       "40409 -0.001358            0.018335              0.006983          0.021460   \n",
       "23172  0.044035            0.018335              0.006983          0.023857   \n",
       "49707  0.026075            0.018335              0.006983          0.020795   \n",
       "36587 -0.051115            0.018335              0.006983          0.018994   \n",
       "6405   0.110311            0.018335              0.006983          0.013923   \n",
       "\n",
       "       logerror_pred_lm2  logerror_pred_lars  logerror_pred_glm  \n",
       "40409           0.017648            0.018335           0.018501  \n",
       "23172           0.021735            0.018335           0.018681  \n",
       "49707           0.020546            0.018335           0.018517  \n",
       "36587           0.021205            0.018335           0.018495  \n",
       "6405            0.015742            0.018335           0.018219  "
      ]
     },
     "execution_count": 36,
     "metadata": {},
     "output_type": "execute_result"
    }
   ],
   "source": [
    "y_train.head()"
   ]
  },
  {
   "cell_type": "markdown",
   "id": "2fe787c4",
   "metadata": {},
   "source": [
    "There are some questions we need to answer:\n",
    "\n",
    "1. How do we know if our model is good enough?\n",
    "2. How do we find the line of best fit?\n",
    "3. How do we evaluate our model?\n",
    "4. Are our features valuable?"
   ]
  },
  {
   "cell_type": "code",
   "execution_count": null,
   "id": "f23283fd",
   "metadata": {},
   "outputs": [],
   "source": []
  }
 ],
 "metadata": {
  "kernelspec": {
   "display_name": "Python 3 (ipykernel)",
   "language": "python",
   "name": "python3"
  },
  "language_info": {
   "codemirror_mode": {
    "name": "ipython",
    "version": 3
   },
   "file_extension": ".py",
   "mimetype": "text/x-python",
   "name": "python",
   "nbconvert_exporter": "python",
   "pygments_lexer": "ipython3",
   "version": "3.9.12"
  }
 },
 "nbformat": 4,
 "nbformat_minor": 5
}
