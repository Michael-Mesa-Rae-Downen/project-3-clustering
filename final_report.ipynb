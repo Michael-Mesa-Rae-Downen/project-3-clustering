{
 "cells": [
  {
   "cell_type": "markdown",
   "id": "6b05c117",
   "metadata": {},
   "source": [
    "FINAL REPORT\n",
    "\n",
    "Adequate comments 6 pts Your code contains code comments that are helpful to the reader in understanding what your blocks/lines of code are doing.\n",
    "\n",
    " Notebook contains adequate markdown that documents your thought process, navigating through the pipeline. This helps your reader not get lost in the details.\n",
    "\n",
    " Includes summary 2 pts Your conclusion summary addresses the questions you raised in the opening of the project, which we would want to see at the end of every report notebook. Ideally, when the deliverable is a report such as this, the summary should tie together your analysis, the drivers of the outcome, and how you would expect your ML model to perform in the future on unseen data, in layman's terms.\n",
    "\n",
    "Includes recommendations 2 pts In addition to your summary, you included actionable recommendations based on your insights and analysis to your simulated audience, or someone who would find this information valuable. Your recommendations were not about what to do differently with the data, but instead are based on the business or domain you are studying. Nice work.\n",
    "\n",
    " includes next steps 2 pts Your conclusion includes next steps from a data science perspective that will assist in improving your research. Ideally, if you talk about trying more algorithms to improve performance, think about why you need to improve performance. And if the business calls for it, remember the best way to improve performance is to have better predictors/features. If you talk about gathering more data, being specific about what data you think will help you understand the problem better and why is the way to go!\n",
    "\n",
    " No Errors 5 pts Your final notebook runs without error.\n",
    "\n",
    "\n",
    "PRESENT\n",
    "\n",
    "Timely and planned 2 pts\n",
    "\n",
    " Great Intro 2 pts You kicked off your presentation by introducing yourself and a one-liner of what your project is about.\n",
    "\n",
    "Notebook matched presentation 2 pts Notebook was clean and relevant such that what was talked about what easy to see in the notebook, and what was in the notebook was relevant information that was included in the presentation.\n",
    "\n",
    "Considered audience/setting 2 pts You clearly considered the audience and setting in which the presenation was delivered. The language was professional, volume and speed of talk was appropriate, as was level of depth, and it was easy to follow you throughout the presentation.\n",
    "\n",
    "Conclusion with summary 2 pts Your presentation concluded with a summary of what was found, recommendations, and next steps.\n",
    "\n",
    "\n",
    "\n",
    "\n",
    "\n",
    "\n",
    "\n",
    "\n"
   ]
  },
  {
   "cell_type": "markdown",
   "id": "e0faa649",
   "metadata": {},
   "source": [
    "# Zillow Zestimate and Log Error\n",
    "\n",
    "## Goals:\n",
    "### *\n",
    "### *"
   ]
  },
  {
   "cell_type": "markdown",
   "id": "f5efd0bb",
   "metadata": {},
   "source": [
    "# Imports"
   ]
  },
  {
   "cell_type": "code",
   "execution_count": null,
   "id": "9f23cfab",
   "metadata": {},
   "outputs": [],
   "source": []
  },
  {
   "cell_type": "markdown",
   "id": "02fc9221",
   "metadata": {},
   "source": [
    "# Acquire"
   ]
  },
  {
   "cell_type": "code",
   "execution_count": null,
   "id": "690ceba8",
   "metadata": {},
   "outputs": [],
   "source": []
  },
  {
   "cell_type": "markdown",
   "id": "bbb2b0a0",
   "metadata": {},
   "source": [
    "# Prepare"
   ]
  },
  {
   "cell_type": "code",
   "execution_count": null,
   "id": "ea2c5ed4",
   "metadata": {},
   "outputs": [],
   "source": []
  },
  {
   "cell_type": "markdown",
   "id": "982111ef",
   "metadata": {},
   "source": [
    "# Data Dictionary"
   ]
  },
  {
   "cell_type": "code",
   "execution_count": null,
   "id": "c459074e",
   "metadata": {},
   "outputs": [],
   "source": []
  },
  {
   "cell_type": "markdown",
   "id": "189eb4ef",
   "metadata": {},
   "source": [
    "# Explore"
   ]
  },
  {
   "cell_type": "markdown",
   "id": "47592192",
   "metadata": {},
   "source": [
    "## Questions:\n",
    "### *\n",
    "### *\n",
    "### *\n",
    "### *"
   ]
  },
  {
   "cell_type": "markdown",
   "id": "5ebce76d",
   "metadata": {},
   "source": [
    "# Q1"
   ]
  },
  {
   "cell_type": "markdown",
   "id": "da0f91a8",
   "metadata": {},
   "source": [
    "# viz"
   ]
  },
  {
   "cell_type": "markdown",
   "id": "2c4704fc",
   "metadata": {},
   "source": [
    "# Modeling\n",
    "### * Used RMSE as the evalaution metric for our baseline.\n",
    "### * Models used to evaluated on train and validate data frames:\n",
    "        * OLS\n",
    "        * Polynomial \n",
    "        * \n",
    "        \n",
    "### * Model that performs best will be used with test data frame."
   ]
  },
  {
   "cell_type": "markdown",
   "id": "ba607af7",
   "metadata": {},
   "source": [
    "# Baseline"
   ]
  },
  {
   "cell_type": "markdown",
   "id": "262eb296",
   "metadata": {},
   "source": []
  },
  {
   "cell_type": "markdown",
   "id": "5fcde593",
   "metadata": {},
   "source": [
    "# OSL"
   ]
  },
  {
   "cell_type": "code",
   "execution_count": null,
   "id": "3ef04a78",
   "metadata": {},
   "outputs": [],
   "source": []
  },
  {
   "cell_type": "markdown",
   "id": "85518deb",
   "metadata": {},
   "source": [
    "# Polynomial"
   ]
  },
  {
   "cell_type": "code",
   "execution_count": null,
   "id": "fd8ddddc",
   "metadata": {},
   "outputs": [],
   "source": []
  },
  {
   "cell_type": "markdown",
   "id": "69737b3e",
   "metadata": {},
   "source": [
    "# Lasso Lars"
   ]
  },
  {
   "cell_type": "code",
   "execution_count": null,
   "id": "d75d25ae",
   "metadata": {},
   "outputs": [],
   "source": []
  },
  {
   "cell_type": "markdown",
   "id": "d44fce04",
   "metadata": {},
   "source": [
    "# Tweedie"
   ]
  },
  {
   "cell_type": "code",
   "execution_count": null,
   "id": "d02db2af",
   "metadata": {},
   "outputs": [],
   "source": []
  },
  {
   "cell_type": "markdown",
   "id": "02f3df8f",
   "metadata": {},
   "source": [
    "# Comparing Models\n",
    "### * All models performed better than baseline on train and validate.\n",
    "### * Polynomial Regression yielded the lowest RMSE of all models and will move on to test set."
   ]
  },
  {
   "cell_type": "code",
   "execution_count": null,
   "id": "d6e0d145",
   "metadata": {},
   "outputs": [],
   "source": []
  },
  {
   "cell_type": "markdown",
   "id": "64202fed",
   "metadata": {},
   "source": [
    "# Calculating R^2 Coefficient for Variance"
   ]
  },
  {
   "cell_type": "code",
   "execution_count": null,
   "id": "3ab11572",
   "metadata": {},
   "outputs": [],
   "source": []
  },
  {
   "cell_type": "code",
   "execution_count": null,
   "id": "e88ca275",
   "metadata": {},
   "outputs": [],
   "source": [
    "### * Our feature chosen explain roughly % of the variance in the log error"
   ]
  },
  {
   "cell_type": "code",
   "execution_count": null,
   "id": "b44c71ce",
   "metadata": {},
   "outputs": [],
   "source": [
    "# Modeling Summary\n"
   ]
  },
  {
   "cell_type": "code",
   "execution_count": null,
   "id": "55e26d91",
   "metadata": {},
   "outputs": [],
   "source": [
    "# Conclusions"
   ]
  },
  {
   "cell_type": "code",
   "execution_count": null,
   "id": "a738afd3",
   "metadata": {},
   "outputs": [],
   "source": [
    "### Exploration\n",
    "\n",
    "### Modeling\n"
   ]
  },
  {
   "cell_type": "code",
   "execution_count": null,
   "id": "2c025998",
   "metadata": {},
   "outputs": [],
   "source": [
    "# Recommendations"
   ]
  },
  {
   "cell_type": "code",
   "execution_count": null,
   "id": "f11f4029",
   "metadata": {},
   "outputs": [],
   "source": [
    "# Next Steps"
   ]
  }
 ],
 "metadata": {
  "kernelspec": {
   "display_name": "Python 3 (ipykernel)",
   "language": "python",
   "name": "python3"
  },
  "language_info": {
   "codemirror_mode": {
    "name": "ipython",
    "version": 3
   },
   "file_extension": ".py",
   "mimetype": "text/x-python",
   "name": "python",
   "nbconvert_exporter": "python",
   "pygments_lexer": "ipython3",
   "version": "3.9.12"
  }
 },
 "nbformat": 4,
 "nbformat_minor": 5
}
