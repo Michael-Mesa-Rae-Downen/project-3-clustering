{
 "cells": [
  {
   "cell_type": "markdown",
   "id": "6b05c117",
   "metadata": {},
   "source": [
    "FINAL REPORT\n",
    "\n",
    "Adequate comments 6 pts Your code contains code comments that are helpful to the reader in understanding what your blocks/lines of code are doing.\n",
    "\n",
    " Notebook contains adequate markdown that documents your thought process, navigating through the pipeline. This helps your reader not get lost in the details.\n",
    "\n",
    " Includes summary 2 pts Your conclusion summary addresses the questions you raised in the opening of the project, which we would want to see at the end of every report notebook. Ideally, when the deliverable is a report such as this, the summary should tie together your analysis, the drivers of the outcome, and how you would expect your ML model to perform in the future on unseen data, in layman's terms.\n",
    "\n",
    "Includes recommendations 2 pts In addition to your summary, you included actionable recommendations based on your insights and analysis to your simulated audience, or someone who would find this information valuable. Your recommendations were not about what to do differently with the data, but instead are based on the business or domain you are studying. Nice work.\n",
    "\n",
    " includes next steps 2 pts Your conclusion includes next steps from a data science perspective that will assist in improving your research. Ideally, if you talk about trying more algorithms to improve performance, think about why you need to improve performance. And if the business calls for it, remember the best way to improve performance is to have better predictors/features. If you talk about gathering more data, being specific about what data you think will help you understand the problem better and why is the way to go!\n",
    "\n",
    " No Errors 5 pts Your final notebook runs without error.\n",
    "\n",
    "\n",
    "PRESENT\n",
    "\n",
    "Timely and planned 2 pts\n",
    "\n",
    " Great Intro 2 pts You kicked off your presentation by introducing yourself and a one-liner of what your project is about.\n",
    "\n",
    "Notebook matched presentation 2 pts Notebook was clean and relevant such that what was talked about what easy to see in the notebook, and what was in the notebook was relevant information that was included in the presentation.\n",
    "\n",
    "Considered audience/setting 2 pts You clearly considered the audience and setting in which the presenation was delivered. The language was professional, volume and speed of talk was appropriate, as was level of depth, and it was easy to follow you throughout the presentation.\n",
    "\n",
    "Conclusion with summary 2 pts Your presentation concluded with a summary of what was found, recommendations, and next steps.\n",
    "\n",
    "\n",
    "\n",
    "\n",
    "\n",
    "\n",
    "\n",
    "\n"
   ]
  },
  {
   "cell_type": "markdown",
   "id": "e0faa649",
   "metadata": {},
   "source": [
    "# Zillow Zestimate and Log Error\n",
    "\n",
    "## Goals:\n",
    "\n",
    "- Investigate drivers of Log Error in Single Family Properties that had a transaction in 2017.\n",
    "\n",
    "- Construct a ML regression model that accurately predicts property Log Error."
   ]
  },
  {
   "cell_type": "markdown",
   "id": "f5efd0bb",
   "metadata": {},
   "source": [
    "# Imports"
   ]
  },
  {
   "cell_type": "code",
   "execution_count": 1,
   "id": "9f23cfab",
   "metadata": {},
   "outputs": [],
   "source": [
    "import numpy as np\n",
    "import pandas as pd\n",
    "import seaborn as sns\n",
    "import math\n",
    "import matplotlib.pyplot as plt\n",
    "\n",
    "import wrangle as w\n",
    "import explore as e\n",
    "#import modeling as m\n",
    "\n",
    "import env\n",
    "from scipy import stats\n",
    "\n",
    "from sklearn.cluster import KMeans\n",
    "from sklearn.model_selection import train_test_split\n",
    "from sklearn.feature_selection import SelectKBest, RFE, f_regression, SequentialFeatureSelector\n",
    "from sklearn.linear_model import LinearRegression, LassoLars, TweedieRegressor\n",
    "from sklearn.metrics import mean_squared_error\n",
    "from sklearn.preprocessing import MinMaxScaler, StandardScaler, RobustScaler, QuantileTransformer, PolynomialFeatures\n",
    "\n",
    "import warnings\n",
    "warnings.filterwarnings(\"ignore\")"
   ]
  },
  {
   "cell_type": "markdown",
   "id": "02fc9221",
   "metadata": {},
   "source": [
    "# Acquire\n",
    "\n",
    "- Data acquired from zillow database\n",
    "\n",
    "\n",
    "- It contained 52,441 rows and 7 columns before cleaning\n",
    "\n",
    "\n",
    "- Each row represents a Single Family Property that had a transaction in 2017\n",
    "\n",
    "\n",
    "- Each column represents a feature that describes the Single Property Home"
   ]
  },
  {
   "cell_type": "code",
   "execution_count": 2,
   "id": "690ceba8",
   "metadata": {},
   "outputs": [],
   "source": [
    "# Acquiring data and clean-up\n",
    "df = w.wrangle_zillow()"
   ]
  },
  {
   "cell_type": "code",
   "execution_count": null,
   "id": "854f699c",
   "metadata": {
    "scrolled": true
   },
   "outputs": [],
   "source": []
  },
  {
   "cell_type": "markdown",
   "id": "bbb2b0a0",
   "metadata": {},
   "source": [
    "# Prepare\n",
    "\n",
    "- Check for nulls (nulls were found and removed)\n",
    "\n",
    "\n",
    "- Renamed columns for readability\n",
    "\n",
    "\n",
    "- Split data into train, validate, and test sets\n",
    "\n",
    "\n",
    "- Properties with 7 or more bathrooms and bedrooms were considered outliers and removed.\n",
    "\n",
    "- Properties with 0 bathrooms and bedrooms were considered outliers and removed.\n",
    "\n",
    "\n",
    "- Properties with a square footage greater than 10,000 ft^2 were considered outliers and removed.\n",
    "\n",
    "- Properties with a tax rate less than 10 were considered outliers and removed.\n",
    "\n",
    "- We are left with 50677 rows, 97% of data remains after cleaning"
   ]
  },
  {
   "cell_type": "code",
   "execution_count": 3,
   "id": "f08930d3",
   "metadata": {},
   "outputs": [],
   "source": [
    "train, validate, test = w.split_data(df)"
   ]
  },
  {
   "cell_type": "code",
   "execution_count": 4,
   "id": "140e032c",
   "metadata": {},
   "outputs": [],
   "source": [
    "train_scaled, validate_scaled, test_scaled = w.scale_data(train, validate, test)"
   ]
  },
  {
   "cell_type": "code",
   "execution_count": 5,
   "id": "c3c2cc23",
   "metadata": {},
   "outputs": [],
   "source": [
    "X_train_scaled = train_scaled[['bedrooms','bathrooms', 'sq_feet']]"
   ]
  },
  {
   "cell_type": "markdown",
   "id": "982111ef",
   "metadata": {},
   "source": [
    "# Data Dictionary"
   ]
  },
  {
   "cell_type": "markdown",
   "id": "968124cf",
   "metadata": {},
   "source": [
    "| Feature | Definition |\n",
    "| :- | :- |\n",
    "| bedrooms | Decimal, # of bedrooms in a property |\n",
    "| bathrooms | Decimal, # of bathrooms in a property, including fractional bathrooms |\n",
    "| sq_feet | Decimal, calculated total living area in a property |\n",
    "| logerror | Decimal, a logarithmic value of the error in model predictions of tax value, our target variable |"
   ]
  },
  {
   "cell_type": "markdown",
   "id": "189eb4ef",
   "metadata": {},
   "source": [
    "# Explore"
   ]
  },
  {
   "cell_type": "markdown",
   "id": "47592192",
   "metadata": {},
   "source": [
    "## Questions:\n",
    "\n",
    "- Are the number of bedrooms related to log error?\n",
    "\n",
    "\n",
    "- Are the number of bathrooms related to log error?\n",
    "\n",
    "\n",
    "- Is square footage related to log error?\n",
    "\n",
    "\n",
    "- Is the magnitude of log error of observations in cluster 3 significantly different than the mean of the magnitude of log error in train?"
   ]
  },
  {
   "cell_type": "code",
   "execution_count": 6,
   "id": "f6fa18b9",
   "metadata": {},
   "outputs": [],
   "source": [
    "X_train, X_train_scaled = e.get_train_clusters()"
   ]
  },
  {
   "cell_type": "code",
   "execution_count": 17,
   "id": "9db4b4c1",
   "metadata": {},
   "outputs": [
    {
     "data": {
      "text/html": [
       "<div>\n",
       "<style scoped>\n",
       "    .dataframe tbody tr th:only-of-type {\n",
       "        vertical-align: middle;\n",
       "    }\n",
       "\n",
       "    .dataframe tbody tr th {\n",
       "        vertical-align: top;\n",
       "    }\n",
       "\n",
       "    .dataframe thead th {\n",
       "        text-align: right;\n",
       "    }\n",
       "</style>\n",
       "<table border=\"1\" class=\"dataframe\">\n",
       "  <thead>\n",
       "    <tr style=\"text-align: right;\">\n",
       "      <th></th>\n",
       "      <th>bedrooms</th>\n",
       "      <th>bathrooms</th>\n",
       "      <th>sq_feet</th>\n",
       "      <th>is_cluster_3_k7</th>\n",
       "    </tr>\n",
       "  </thead>\n",
       "  <tbody>\n",
       "    <tr>\n",
       "      <th>40409</th>\n",
       "      <td>3.0</td>\n",
       "      <td>3.5</td>\n",
       "      <td>2820.0</td>\n",
       "      <td>1</td>\n",
       "    </tr>\n",
       "  </tbody>\n",
       "</table>\n",
       "</div>"
      ],
      "text/plain": [
       "       bedrooms  bathrooms  sq_feet  is_cluster_3_k7\n",
       "40409       3.0        3.5   2820.0                1"
      ]
     },
     "execution_count": 17,
     "metadata": {},
     "output_type": "execute_result"
    }
   ],
   "source": [
    "X_train.head(1)"
   ]
  },
  {
   "cell_type": "code",
   "execution_count": 16,
   "id": "719309b1",
   "metadata": {
    "scrolled": true
   },
   "outputs": [
    {
     "data": {
      "text/html": [
       "<div>\n",
       "<style scoped>\n",
       "    .dataframe tbody tr th:only-of-type {\n",
       "        vertical-align: middle;\n",
       "    }\n",
       "\n",
       "    .dataframe tbody tr th {\n",
       "        vertical-align: top;\n",
       "    }\n",
       "\n",
       "    .dataframe thead th {\n",
       "        text-align: right;\n",
       "    }\n",
       "</style>\n",
       "<table border=\"1\" class=\"dataframe\">\n",
       "  <thead>\n",
       "    <tr style=\"text-align: right;\">\n",
       "      <th></th>\n",
       "      <th>bedrooms</th>\n",
       "      <th>bathrooms</th>\n",
       "      <th>sq_feet</th>\n",
       "      <th>is_cluster_3_k7</th>\n",
       "    </tr>\n",
       "  </thead>\n",
       "  <tbody>\n",
       "    <tr>\n",
       "      <th>40409</th>\n",
       "      <td>0.333333</td>\n",
       "      <td>0.416667</td>\n",
       "      <td>0.275165</td>\n",
       "      <td>1</td>\n",
       "    </tr>\n",
       "  </tbody>\n",
       "</table>\n",
       "</div>"
      ],
      "text/plain": [
       "       bedrooms  bathrooms   sq_feet  is_cluster_3_k7\n",
       "40409  0.333333   0.416667  0.275165                1"
      ]
     },
     "execution_count": 16,
     "metadata": {},
     "output_type": "execute_result"
    }
   ],
   "source": [
    "X_train_scaled.head(1)"
   ]
  },
  {
   "cell_type": "markdown",
   "id": "5ebce76d",
   "metadata": {},
   "source": [
    "# Are the number of bedrooms related to log error?"
   ]
  },
  {
   "cell_type": "code",
   "execution_count": null,
   "id": "1d07fc22",
   "metadata": {},
   "outputs": [],
   "source": []
  },
  {
   "cell_type": "markdown",
   "id": "d100ffd9",
   "metadata": {},
   "source": [
    "#### I will use a correlation test to determine if 'bedrooms' and 'logerror' are related.\n",
    "\n",
    "- I will use a confidence interval of 95% with alpha set to .05"
   ]
  },
  {
   "cell_type": "markdown",
   "id": "bd583ce5",
   "metadata": {},
   "source": [
    "#### Ho: 'bedrooms' and 'logerror' are independent of each other.\n",
    "\n",
    "#### Ha: 'bedrooms' and 'logerror' are related."
   ]
  },
  {
   "cell_type": "code",
   "execution_count": 8,
   "id": "fb766b4e",
   "metadata": {
    "scrolled": true
   },
   "outputs": [
    {
     "name": "stdout",
     "output_type": "stream",
     "text": [
      "corr  = 0.0288\n",
      "p     = 0.0000\n"
     ]
    }
   ],
   "source": [
    "e.get_bed_log_corr()"
   ]
  },
  {
   "cell_type": "markdown",
   "id": "8c416120",
   "metadata": {},
   "source": [
    "### The p-value is lower than our alpha, giving us the evidence to support that a relationship exists between 'bedrooms' and 'logerror'. With our null hypothesis rejected, and despite a lack of linear correlation observed in the train data, I believe that using 'bedrooms' in modeling will likely have a significant positive impact on the model's accuracy."
   ]
  },
  {
   "cell_type": "markdown",
   "id": "da0f91a8",
   "metadata": {},
   "source": [
    "# Are the number of bathrooms related to log error?"
   ]
  },
  {
   "cell_type": "code",
   "execution_count": null,
   "id": "913577ba",
   "metadata": {},
   "outputs": [],
   "source": []
  },
  {
   "cell_type": "markdown",
   "id": "31856214",
   "metadata": {},
   "source": [
    "#### I will use a correlation test to determine if 'bathrooms' and 'logerror' are related.\n",
    "\n",
    "- I will use a confidence interval of 95% with alpha set to .05"
   ]
  },
  {
   "cell_type": "markdown",
   "id": "58a3de59",
   "metadata": {},
   "source": [
    "#### Ho: 'bathrooms' and 'logerror' are independent of each other.\n",
    "\n",
    "#### Ha: 'bathrooms' and 'logerror' are related."
   ]
  },
  {
   "cell_type": "code",
   "execution_count": 9,
   "id": "e33817c9",
   "metadata": {
    "scrolled": false
   },
   "outputs": [
    {
     "name": "stdout",
     "output_type": "stream",
     "text": [
      "corr  = 0.0288\n",
      "p     = 0.0000\n"
     ]
    }
   ],
   "source": [
    "e.get_bath_log_corr()"
   ]
  },
  {
   "cell_type": "markdown",
   "id": "cbb5c3fa",
   "metadata": {},
   "source": [
    "### The p-value is lower than our alpha, giving us the evidence to support that a relationship exists between 'bathrooms' and 'logerror'. With our null hypothesis rejected, and despite a lack of linear correlation observed in the train data, I believe that using 'bedrooms' in modeling will likely have a significant positive impact on the model's accuracy."
   ]
  },
  {
   "cell_type": "markdown",
   "id": "e68d31d5",
   "metadata": {},
   "source": [
    "# Is square footage related to log error?"
   ]
  },
  {
   "cell_type": "markdown",
   "id": "bee26e45",
   "metadata": {},
   "source": [
    "#### I will use a correlation test to determine if 'sq_feet' and 'logerror' are related.\n",
    "\n",
    "- I will use a confidence interval of 95% with alpha set to .05"
   ]
  },
  {
   "cell_type": "markdown",
   "id": "64554bb6",
   "metadata": {},
   "source": [
    "#### Ho: 'sq_feet' and 'logerror' are independent of each other.\n",
    "\n",
    "#### Ha: 'sq_feet' and 'logerror' are related."
   ]
  },
  {
   "cell_type": "code",
   "execution_count": 10,
   "id": "91302942",
   "metadata": {
    "scrolled": true
   },
   "outputs": [
    {
     "name": "stdout",
     "output_type": "stream",
     "text": [
      "corr  = 0.0288\n",
      "p     = 0.0000\n"
     ]
    }
   ],
   "source": [
    "e.get_bath_log_corr()"
   ]
  },
  {
   "cell_type": "markdown",
   "id": "2653efb7",
   "metadata": {},
   "source": [
    "### The p-value is lower than our alpha, giving us the evidence to support that a relationship exists between 'sq_feet' and 'logerror'. With our null hypothesis rejected, and despite a lack of linear correlation observed in the train data, I believe that using 'bedrooms' in modeling will likely have a significant positive impact on the model's accuracy."
   ]
  },
  {
   "cell_type": "markdown",
   "id": "2ad40a30",
   "metadata": {},
   "source": [
    "## Selecting optimal k clusters"
   ]
  },
  {
   "cell_type": "code",
   "execution_count": 18,
   "id": "0d0d95c5",
   "metadata": {},
   "outputs": [],
   "source": [
    "cluster_vars = ['bedrooms','bathrooms', 'sq_feet']\n",
    "cluster_name = 'interior_cluster_k7'\n",
    "k_range = range(2,20)"
   ]
  },
  {
   "cell_type": "code",
   "execution_count": 15,
   "id": "19936a39",
   "metadata": {
    "scrolled": false
   },
   "outputs": [
    {
     "data": {
      "image/png": "[encoded data removed]",
      "text/plain": [
       "<Figure size 432x288 with 1 Axes>"
      ]
     },
     "metadata": {
      "needs_background": "light"
     },
     "output_type": "display_data"
    },
    {
     "data": {
      "image/png": "[encoded data removed]",
      "text/plain": [
       "<Figure size 432x288 with 1 Axes>"
      ]
     },
     "metadata": {
      "needs_background": "light"
     },
     "output_type": "display_data"
    },
    {
     "data": {
      "image/png": "[encoded data removed]",
      "text/plain": [
       "<Figure size 432x288 with 1 Axes>"
      ]
     },
     "metadata": {
      "needs_background": "light"
     },
     "output_type": "display_data"
    },
    {
     "data": {
      "text/html": [
       "<div>\n",
       "<style scoped>\n",
       "    .dataframe tbody tr th:only-of-type {\n",
       "        vertical-align: middle;\n",
       "    }\n",
       "\n",
       "    .dataframe tbody tr th {\n",
       "        vertical-align: top;\n",
       "    }\n",
       "\n",
       "    .dataframe thead th {\n",
       "        text-align: right;\n",
       "    }\n",
       "</style>\n",
       "<table border=\"1\" class=\"dataframe\">\n",
       "  <thead>\n",
       "    <tr style=\"text-align: right;\">\n",
       "      <th></th>\n",
       "      <th>k</th>\n",
       "      <th>sse</th>\n",
       "      <th>delta</th>\n",
       "      <th>pct_delta</th>\n",
       "    </tr>\n",
       "  </thead>\n",
       "  <tbody>\n",
       "    <tr>\n",
       "      <th>0</th>\n",
       "      <td>2</td>\n",
       "      <td>847.181747</td>\n",
       "      <td>258.0</td>\n",
       "      <td>30.4</td>\n",
       "    </tr>\n",
       "    <tr>\n",
       "      <th>1</th>\n",
       "      <td>3</td>\n",
       "      <td>589.352862</td>\n",
       "      <td>149.0</td>\n",
       "      <td>25.2</td>\n",
       "    </tr>\n",
       "    <tr>\n",
       "      <th>2</th>\n",
       "      <td>4</td>\n",
       "      <td>440.681249</td>\n",
       "      <td>82.0</td>\n",
       "      <td>18.7</td>\n",
       "    </tr>\n",
       "    <tr>\n",
       "      <th>3</th>\n",
       "      <td>5</td>\n",
       "      <td>358.210210</td>\n",
       "      <td>60.0</td>\n",
       "      <td>16.8</td>\n",
       "    </tr>\n",
       "    <tr>\n",
       "      <th>4</th>\n",
       "      <td>6</td>\n",
       "      <td>297.973092</td>\n",
       "      <td>43.0</td>\n",
       "      <td>14.5</td>\n",
       "    </tr>\n",
       "    <tr>\n",
       "      <th>5</th>\n",
       "      <td>7</td>\n",
       "      <td>254.834492</td>\n",
       "      <td>42.0</td>\n",
       "      <td>16.6</td>\n",
       "    </tr>\n",
       "    <tr>\n",
       "      <th>6</th>\n",
       "      <td>8</td>\n",
       "      <td>212.558582</td>\n",
       "      <td>32.0</td>\n",
       "      <td>14.9</td>\n",
       "    </tr>\n",
       "    <tr>\n",
       "      <th>7</th>\n",
       "      <td>9</td>\n",
       "      <td>180.991151</td>\n",
       "      <td>28.0</td>\n",
       "      <td>15.6</td>\n",
       "    </tr>\n",
       "    <tr>\n",
       "      <th>8</th>\n",
       "      <td>10</td>\n",
       "      <td>152.764988</td>\n",
       "      <td>18.0</td>\n",
       "      <td>11.7</td>\n",
       "    </tr>\n",
       "    <tr>\n",
       "      <th>9</th>\n",
       "      <td>11</td>\n",
       "      <td>134.963453</td>\n",
       "      <td>8.0</td>\n",
       "      <td>6.1</td>\n",
       "    </tr>\n",
       "    <tr>\n",
       "      <th>10</th>\n",
       "      <td>12</td>\n",
       "      <td>126.674317</td>\n",
       "      <td>6.0</td>\n",
       "      <td>4.7</td>\n",
       "    </tr>\n",
       "    <tr>\n",
       "      <th>11</th>\n",
       "      <td>13</td>\n",
       "      <td>120.677982</td>\n",
       "      <td>7.0</td>\n",
       "      <td>5.5</td>\n",
       "    </tr>\n",
       "    <tr>\n",
       "      <th>12</th>\n",
       "      <td>14</td>\n",
       "      <td>114.084812</td>\n",
       "      <td>7.0</td>\n",
       "      <td>6.2</td>\n",
       "    </tr>\n",
       "    <tr>\n",
       "      <th>13</th>\n",
       "      <td>15</td>\n",
       "      <td>107.046437</td>\n",
       "      <td>7.0</td>\n",
       "      <td>6.4</td>\n",
       "    </tr>\n",
       "    <tr>\n",
       "      <th>14</th>\n",
       "      <td>16</td>\n",
       "      <td>100.218989</td>\n",
       "      <td>4.0</td>\n",
       "      <td>3.8</td>\n",
       "    </tr>\n",
       "    <tr>\n",
       "      <th>15</th>\n",
       "      <td>17</td>\n",
       "      <td>96.450905</td>\n",
       "      <td>6.0</td>\n",
       "      <td>6.1</td>\n",
       "    </tr>\n",
       "    <tr>\n",
       "      <th>16</th>\n",
       "      <td>18</td>\n",
       "      <td>90.563346</td>\n",
       "      <td>5.0</td>\n",
       "      <td>5.3</td>\n",
       "    </tr>\n",
       "  </tbody>\n",
       "</table>\n",
       "</div>"
      ],
      "text/plain": [
       "     k         sse  delta  pct_delta\n",
       "0    2  847.181747  258.0       30.4\n",
       "1    3  589.352862  149.0       25.2\n",
       "2    4  440.681249   82.0       18.7\n",
       "3    5  358.210210   60.0       16.8\n",
       "4    6  297.973092   43.0       14.5\n",
       "5    7  254.834492   42.0       16.6\n",
       "6    8  212.558582   32.0       14.9\n",
       "7    9  180.991151   28.0       15.6\n",
       "8   10  152.764988   18.0       11.7\n",
       "9   11  134.963453    8.0        6.1\n",
       "10  12  126.674317    6.0        4.7\n",
       "11  13  120.677982    7.0        5.5\n",
       "12  14  114.084812    7.0        6.2\n",
       "13  15  107.046437    7.0        6.4\n",
       "14  16  100.218989    4.0        3.8\n",
       "15  17   96.450905    6.0        6.1\n",
       "16  18   90.563346    5.0        5.3"
      ]
     },
     "execution_count": 15,
     "metadata": {},
     "output_type": "execute_result"
    }
   ],
   "source": [
    "e.find_k(X_train_scaled, cluster_vars, k_range)"
   ]
  },
  {
   "cell_type": "markdown",
   "id": "bf2ae2d4",
   "metadata": {},
   "source": [
    "### We explored through 3 unique cluster models that used the same features from one another with the number of clusters k changing to 5, 6, then 7. Cluster models with k = 5 and k = 6 did not yield groupings that had a significant relationship with 'logerror'.\n",
    "\n",
    "\n",
    "### Cluster model with k = 7 yielded a grouping labeled '3' with a significant relationship with 'logerror' that we explore below."
   ]
  },
  {
   "cell_type": "markdown",
   "id": "601fa875",
   "metadata": {},
   "source": [
    "# Is the magnitude of log error of observations in cluster 3 significantly different than the mean of the magnitude of log error in train?"
   ]
  },
  {
   "cell_type": "markdown",
   "id": "f1cb915c",
   "metadata": {},
   "source": [
    "#### I will use a correlation test to determine if 'logerror' of observations in cluster 3 and the mean of 'logerror' in train are related.\n",
    "\n",
    "- I will use a confidence interval of 95% with alpha set to .05"
   ]
  },
  {
   "cell_type": "markdown",
   "id": "6fcf38e5",
   "metadata": {},
   "source": [
    "#### Ho: 'logerror' of observations in cluster 3 and the mean of 'logerror' in train are independent of each other.\n",
    "\n",
    "#### Ha: 'logerror' of observations in cluster 3 and the mean of 'logerror' in train are related."
   ]
  },
  {
   "cell_type": "code",
   "execution_count": 12,
   "id": "e711571d",
   "metadata": {
    "scrolled": false
   },
   "outputs": [
    {
     "name": "stdout",
     "output_type": "stream",
     "text": [
      "t     = -2.1198\n",
      "p     = 0.0341\n"
     ]
    }
   ],
   "source": [
    "e.get_cluster_3_ttest(X_train_scaled)"
   ]
  },
  {
   "cell_type": "markdown",
   "id": "0482ff72",
   "metadata": {},
   "source": [
    "### The p-value is lower than our alpha, giving us the evidence to support that a relationship exists between 'logerror' of observations in cluster 3 and the mean of 'logerror' in train. With our null hypothesis rejected, I believe that using cluster 3 in modeling will likely have a significant positive impact on the model's accuracy."
   ]
  },
  {
   "cell_type": "markdown",
   "id": "6db43ef4",
   "metadata": {},
   "source": [
    "# Exploration Summary"
   ]
  },
  {
   "cell_type": "markdown",
   "id": "a2dc9f22",
   "metadata": {},
   "source": [
    "- 'bedrooms' was found to be a driver of 'logerror'\n",
    "\n",
    "\n",
    "- 'bathrooms' was found to be a driver of 'logerror'\n",
    "\n",
    "\n",
    "- 'sq_feet' was found to be a driver of 'logerror'\n",
    "\n",
    "\n",
    "- Observations in cluster 3 was found to be a driver of 'logerror'"
   ]
  },
  {
   "cell_type": "code",
   "execution_count": null,
   "id": "c027d647",
   "metadata": {},
   "outputs": [],
   "source": []
  },
  {
   "cell_type": "code",
   "execution_count": null,
   "id": "495b25a8",
   "metadata": {},
   "outputs": [],
   "source": []
  },
  {
   "cell_type": "code",
   "execution_count": null,
   "id": "e7ae2413",
   "metadata": {},
   "outputs": [],
   "source": []
  },
  {
   "cell_type": "markdown",
   "id": "2c4704fc",
   "metadata": {},
   "source": [
    "# Modeling\n",
    "### * Used RMSE as the evalaution metric for our baseline.\n",
    "### * Models used to evaluated on train and validate data frames:\n",
    "        * OLS\n",
    "        * Polynomial \n",
    "        * \n",
    "        \n",
    "### * Model that performs best will be used with test data frame."
   ]
  },
  {
   "cell_type": "markdown",
   "id": "ba607af7",
   "metadata": {},
   "source": [
    "# Baseline"
   ]
  },
  {
   "cell_type": "markdown",
   "id": "262eb296",
   "metadata": {},
   "source": []
  },
  {
   "cell_type": "markdown",
   "id": "5fcde593",
   "metadata": {},
   "source": [
    "# OSL"
   ]
  },
  {
   "cell_type": "code",
   "execution_count": null,
   "id": "3ef04a78",
   "metadata": {},
   "outputs": [],
   "source": []
  },
  {
   "cell_type": "markdown",
   "id": "85518deb",
   "metadata": {},
   "source": [
    "# Polynomial"
   ]
  },
  {
   "cell_type": "code",
   "execution_count": null,
   "id": "fd8ddddc",
   "metadata": {},
   "outputs": [],
   "source": []
  },
  {
   "cell_type": "markdown",
   "id": "69737b3e",
   "metadata": {},
   "source": [
    "# Lasso Lars"
   ]
  },
  {
   "cell_type": "code",
   "execution_count": null,
   "id": "d75d25ae",
   "metadata": {},
   "outputs": [],
   "source": []
  },
  {
   "cell_type": "markdown",
   "id": "d44fce04",
   "metadata": {},
   "source": [
    "# Tweedie"
   ]
  },
  {
   "cell_type": "code",
   "execution_count": null,
   "id": "d02db2af",
   "metadata": {},
   "outputs": [],
   "source": []
  },
  {
   "cell_type": "markdown",
   "id": "02f3df8f",
   "metadata": {},
   "source": [
    "# Comparing Models\n",
    "### * All models performed better than baseline on train and validate.\n",
    "### * Polynomial Regression yielded the lowest RMSE of all models and will move on to test set."
   ]
  },
  {
   "cell_type": "code",
   "execution_count": null,
   "id": "d6e0d145",
   "metadata": {},
   "outputs": [],
   "source": []
  },
  {
   "cell_type": "markdown",
   "id": "64202fed",
   "metadata": {},
   "source": [
    "# Calculating R^2 Coefficient for Variance"
   ]
  },
  {
   "cell_type": "code",
   "execution_count": null,
   "id": "3ab11572",
   "metadata": {},
   "outputs": [],
   "source": []
  },
  {
   "cell_type": "markdown",
   "id": "eeda1b99",
   "metadata": {},
   "source": [
    "### * Our feature chosen explain roughly % of the variance in the log error"
   ]
  },
  {
   "cell_type": "markdown",
   "id": "01dca86c",
   "metadata": {},
   "source": [
    "# Modeling Summary\n"
   ]
  },
  {
   "cell_type": "markdown",
   "id": "bf112b6f",
   "metadata": {},
   "source": [
    "# Conclusions"
   ]
  },
  {
   "cell_type": "markdown",
   "id": "5f852d34",
   "metadata": {},
   "source": [
    "### Exploration\n",
    "\n",
    "\n",
    "- We initially thought bedrooms, bathrooms, sq_feet, and cluster 3 of cluster model k = 7 would be significant drivers of 'logerror' in our data.\n",
    "\n",
    "\n",
    "- Selected features did not yield desired outcomes as the selected featured moved down the pipeline into modeling.\n",
    "\n",
    "\n",
    "\n",
    "### Modeling\n",
    "\n",
    "\n"
   ]
  },
  {
   "cell_type": "markdown",
   "id": "7438c577",
   "metadata": {},
   "source": [
    "# Recommendations\n",
    "\n",
    "\n",
    "- We should reconsider how we are approaching this problem and further explore our data for feature selection that will yield more substantial results."
   ]
  },
  {
   "cell_type": "markdown",
   "id": "74a4e7ff",
   "metadata": {},
   "source": [
    "# Next Steps\n",
    "\n",
    "- Explore our data with a new approach.\n",
    "\n",
    "\n",
    "\n",
    "- Possibly focus more on the location of properties while keeping property size in consideration."
   ]
  },
  {
   "cell_type": "code",
   "execution_count": null,
   "id": "280e7a8e",
   "metadata": {},
   "outputs": [],
   "source": []
  }
 ],
 "metadata": {
  "kernelspec": {
   "display_name": "Python 3 (ipykernel)",
   "language": "python",
   "name": "python3"
  },
  "language_info": {
   "codemirror_mode": {
    "name": "ipython",
    "version": 3
   },
   "file_extension": ".py",
   "mimetype": "text/x-python",
   "name": "python",
   "nbconvert_exporter": "python",
   "pygments_lexer": "ipython3",
   "version": "3.9.12"
  }
 },
 "nbformat": 4,
 "nbformat_minor": 5
}
